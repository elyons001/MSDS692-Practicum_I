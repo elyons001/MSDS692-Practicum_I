{
 "cells": [
  {
   "cell_type": "markdown",
   "id": "fbab94b7-a75f-4b29-88ad-3ea09c65cfb4",
   "metadata": {
    "execution": {
     "iopub.execute_input": "2022-10-20T18:16:26.010566Z",
     "iopub.status.busy": "2022-10-20T18:16:26.010180Z",
     "iopub.status.idle": "2022-10-20T18:16:26.013302Z",
     "shell.execute_reply": "2022-10-20T18:16:26.012815Z",
     "shell.execute_reply.started": "2022-10-20T18:16:26.010540Z"
    }
   },
   "source": [
    "# 04 FEATURE SELECTION AND MACHINE LEARNING (ML)  "
   ]
  },
  {
   "cell_type": "markdown",
   "id": "618a7c11-c330-4189-80da-32843907ff72",
   "metadata": {
    "tags": []
   },
   "source": [
    "## Overview of the Jupyter Notebook"
   ]
  },
  {
   "cell_type": "markdown",
   "id": "79912285-e340-419a-86eb-4ef2a778c244",
   "metadata": {},
   "source": [
    "The purpose of the notebook is to apply machine learning classifiers such as LightGBM, CatBoost, and XGBoost and determine if the models can adequately classify a hard drive failure. The hyperparameters were tuned using BayesSearchCV and the results were evaluated using accuracy, F1-score, and F2-score.  \n",
    "\n",
    "In preparation for the machine learning, label encoding techniques were used to encode the categorical data. Three feature selection techniques including SelectKBest, random forest feature importance, and SelectByShuffling were implemented to create an ensemble of the best features. In addition, random sampling (over and under) was used to address the class imbalance and to make the data manageable for hyperparameter tuning the machine models. A random forest classifer was used to establish a baseline to evaluate the gradient boosted models against. BayeSearchCV was leveraged to identify optimal hyperparamters. The gradient boosted models were implemented with default parameters and tuned parameters and evaluated.  "
   ]
  },
  {
   "cell_type": "markdown",
   "id": "ebac7efd-5f39-463d-bf2c-ca0594995622",
   "metadata": {},
   "source": [
    "## Import modules and libraries"
   ]
  },
  {
   "cell_type": "code",
   "execution_count": 1,
   "id": "c3781517-ec23-4d03-b389-dbebc2d13c1e",
   "metadata": {
    "execution": {
     "iopub.execute_input": "2022-10-22T03:03:29.715090Z",
     "iopub.status.busy": "2022-10-22T03:03:29.714749Z",
     "iopub.status.idle": "2022-10-22T03:03:31.466975Z",
     "shell.execute_reply": "2022-10-22T03:03:31.466433Z",
     "shell.execute_reply.started": "2022-10-22T03:03:29.715011Z"
    },
    "tags": []
   },
   "outputs": [],
   "source": [
    "import math\n",
    "\n",
    "import lightgbm as lgb\n",
    "import matplotlib.pyplot as plt\n",
    "import numpy as np\n",
    "import pandas as pd\n",
    "import pyarrow as pa\n",
    "import pyarrow.parquet as pq\n",
    "import xgboost as xgb\n",
    "from catboost import CatBoostClassifier\n",
    "from feature_engine.selection import SelectByShuffling\n",
    "from imblearn.over_sampling import RandomOverSampler\n",
    "from imblearn.under_sampling import RandomUnderSampler\n",
    "from sklearn.ensemble import RandomForestClassifier\n",
    "from sklearn.feature_selection import SelectKBest, chi2\n",
    "from sklearn.metrics import (ConfusionMatrixDisplay, accuracy_score,\n",
    "                             classification_report, confusion_matrix, f1_score,\n",
    "                             fbeta_score)\n",
    "from sklearn.model_selection import StratifiedKFold, train_test_split\n",
    "from sklearn.preprocessing import LabelEncoder\n",
    "from skopt import BayesSearchCV"
   ]
  },
  {
   "cell_type": "markdown",
   "id": "f392f044-4ae4-4cde-ac55-71099de30876",
   "metadata": {},
   "source": [
    "## Pandas configuration"
   ]
  },
  {
   "cell_type": "markdown",
   "id": "e210f85c-e9db-4e0a-ab37-0394d8917276",
   "metadata": {},
   "source": [
    "Pandas default maximum columns is 20. The columns from the data transformation effort is 40."
   ]
  },
  {
   "cell_type": "code",
   "execution_count": 2,
   "id": "6d56189e-eabb-4883-9e94-b400e8b1c16b",
   "metadata": {
    "execution": {
     "iopub.execute_input": "2022-10-22T03:03:31.468464Z",
     "iopub.status.busy": "2022-10-22T03:03:31.468187Z",
     "iopub.status.idle": "2022-10-22T03:03:31.471495Z",
     "shell.execute_reply": "2022-10-22T03:03:31.471042Z",
     "shell.execute_reply.started": "2022-10-22T03:03:31.468443Z"
    },
    "tags": []
   },
   "outputs": [],
   "source": [
    "pd.set_option('display.float_format',  '{:,.2f}'.format)\n",
    "pd.set_option('display.max_columns', 40)\n",
    "pd.set_option('display.precision', 2)"
   ]
  },
  {
   "cell_type": "markdown",
   "id": "76d3ec77-cb83-4d56-9417-da88abfffff4",
   "metadata": {},
   "source": [
    "## Notebook functions"
   ]
  },
  {
   "cell_type": "code",
   "execution_count": 3,
   "id": "4d33eb01-3162-4f24-8fb7-8c38b11a704f",
   "metadata": {
    "execution": {
     "iopub.execute_input": "2022-10-22T03:03:31.472394Z",
     "iopub.status.busy": "2022-10-22T03:03:31.472126Z",
     "iopub.status.idle": "2022-10-22T03:03:31.477060Z",
     "shell.execute_reply": "2022-10-22T03:03:31.476638Z",
     "shell.execute_reply.started": "2022-10-22T03:03:31.472376Z"
    },
    "tags": []
   },
   "outputs": [],
   "source": [
    "def non_func_percent(functional, non_functional):\n",
    "    \"\"\"\n",
    "    Accepts a value for functional and non-functional, calculates and \n",
    "    returns the non-functional percentage with two decimals.\n",
    "    \n",
    "    Keyword arguments:\n",
    "    functional -- the number of functional hard drive snapshots\n",
    "    non_functional -- the number of non-functional hard drive snapshots\n",
    "    \"\"\"\n",
    "    non_func_percent = non_functional / (functional + non_functional) \\\n",
    "    * 100\n",
    "    return round(non_func_percent, 2)"
   ]
  },
  {
   "cell_type": "markdown",
   "id": "179ed50c-3484-4301-bea9-4fc9bf0e8f38",
   "metadata": {},
   "source": [
    "## Import data from Parquet file to dataframe"
   ]
  },
  {
   "cell_type": "markdown",
   "id": "22f91607-cbe1-4a6b-ad7f-a25c6ef16218",
   "metadata": {},
   "source": [
    "The data from the prior notebook was previously saved to a Parquet file and is read into a datafame.  "
   ]
  },
  {
   "cell_type": "code",
   "execution_count": 4,
   "id": "92b39ecd-774f-4a18-b58b-649d45f98c7d",
   "metadata": {
    "execution": {
     "iopub.execute_input": "2022-10-22T03:03:31.477897Z",
     "iopub.status.busy": "2022-10-22T03:03:31.477635Z",
     "iopub.status.idle": "2022-10-22T03:03:31.481276Z",
     "shell.execute_reply": "2022-10-22T03:03:31.480849Z",
     "shell.execute_reply.started": "2022-10-22T03:03:31.477879Z"
    },
    "tags": []
   },
   "outputs": [],
   "source": [
    "# The 'pq_path' variable is assigned to the path of the Parquet folder \n",
    "# ('q1_2022_seagate_eda.parquet').\n",
    "pq_path = './data/parquet/q1_2022_seagate_eda.parquet'"
   ]
  },
  {
   "cell_type": "code",
   "execution_count": 5,
   "id": "624d9ccb-0fca-446a-8ffe-442275f3b9d5",
   "metadata": {
    "execution": {
     "iopub.execute_input": "2022-10-22T03:03:31.482133Z",
     "iopub.status.busy": "2022-10-22T03:03:31.481857Z",
     "iopub.status.idle": "2022-10-22T03:03:32.502639Z",
     "shell.execute_reply": "2022-10-22T03:03:32.502055Z",
     "shell.execute_reply.started": "2022-10-22T03:03:31.482115Z"
    },
    "tags": []
   },
   "outputs": [],
   "source": [
    "# References\n",
    "# https://pandas.pydata.org/docs/reference/api/pandas.read_parquet.html\n",
    "# https://arrow.apache.org/docs/python/generated/pyarrow.parquet.read_table.html\n",
    "\n",
    "# Pandas allows reading Parquet Files ('read_parquet') directly.\n",
    "# PyArrow has more options for reading Parquet Files and can be\n",
    "# passed to a Pandas DataFrame ('q1_2022_seagate_df').\n",
    "# The Parquet path ('pq_path' is read into a PyArrow Table\n",
    "# ('q1_2022_seagate_pa_table'). Category columns are defined in a list\n",
    "# ('categories') and used to read the PyArrow Table\n",
    "# ('q1_2022_seagate_pa_table') into a Pandas DataFrame \n",
    "# ('q1_2022_seagate_df').\n",
    "# By casting the categories to a 'category' dtype, memory usage was \n",
    "# reduced.\n",
    "q1_2022_seagate_pa_table = pq.read_table(pq_path)\n",
    "categories = ['serial_number_ltr', 'model', \n",
    "              'capacity_terabytes', 'failure']\n",
    "q1_2022_seagate_df = (\n",
    "    q1_2022_seagate_pa_table\n",
    "    .to_pandas(categories=categories, self_destruct=True)\n",
    ")"
   ]
  },
  {
   "cell_type": "markdown",
   "id": "b54e7a03-08f4-4899-9c37-7bef5353cbb7",
   "metadata": {},
   "source": [
    "The info for the dataframe reveals 9,201,120 rows and 39 columns - 4 columns are `category` and 35 columns are `int64`.  "
   ]
  },
  {
   "cell_type": "code",
   "execution_count": 6,
   "id": "d6cd7517-99d0-4825-a239-41a28ab6d9e1",
   "metadata": {
    "execution": {
     "iopub.execute_input": "2022-10-22T03:03:32.503722Z",
     "iopub.status.busy": "2022-10-22T03:03:32.503428Z",
     "iopub.status.idle": "2022-10-22T03:03:32.512859Z",
     "shell.execute_reply": "2022-10-22T03:03:32.512394Z",
     "shell.execute_reply.started": "2022-10-22T03:03:32.503702Z"
    },
    "tags": []
   },
   "outputs": [
    {
     "name": "stdout",
     "output_type": "stream",
     "text": [
      "<class 'pandas.core.frame.DataFrame'>\n",
      "RangeIndex: 9201120 entries, 0 to 9201119\n",
      "Data columns (total 39 columns):\n",
      " #   Column                Dtype   \n",
      "---  ------                -----   \n",
      " 0   serial_number_ltr     category\n",
      " 1   model                 category\n",
      " 2   capacity_terabytes    category\n",
      " 3   failure               category\n",
      " 4   smart_1_normalized    int64   \n",
      " 5   smart_1_raw           int64   \n",
      " 6   smart_3_normalized    int64   \n",
      " 7   smart_4_normalized    int64   \n",
      " 8   smart_4_raw           int64   \n",
      " 9   smart_5_normalized    int64   \n",
      " 10  smart_5_raw           int64   \n",
      " 11  smart_7_normalized    int64   \n",
      " 12  smart_7_raw           int64   \n",
      " 13  smart_9_normalized    int64   \n",
      " 14  smart_9_raw           int64   \n",
      " 15  smart_10_normalized   int64   \n",
      " 16  smart_12_normalized   int64   \n",
      " 17  smart_12_raw          int64   \n",
      " 18  smart_187_normalized  int64   \n",
      " 19  smart_187_raw         int64   \n",
      " 20  smart_188_normalized  int64   \n",
      " 21  smart_188_raw         int64   \n",
      " 22  smart_190_normalized  int64   \n",
      " 23  smart_190_raw         int64   \n",
      " 24  smart_192_normalized  int64   \n",
      " 25  smart_192_raw         int64   \n",
      " 26  smart_193_normalized  int64   \n",
      " 27  smart_193_raw         int64   \n",
      " 28  smart_194_normalized  int64   \n",
      " 29  smart_194_raw         int64   \n",
      " 30  smart_197_normalized  int64   \n",
      " 31  smart_197_raw         int64   \n",
      " 32  smart_198_normalized  int64   \n",
      " 33  smart_198_raw         int64   \n",
      " 34  smart_199_normalized  int64   \n",
      " 35  smart_199_raw         int64   \n",
      " 36  smart_240_raw         int64   \n",
      " 37  smart_241_raw         int64   \n",
      " 38  smart_242_raw         int64   \n",
      "dtypes: category(4), int64(35)\n",
      "memory usage: 2.4 GB\n"
     ]
    }
   ],
   "source": [
    "# Verify the info of the Pandas DataFrame ('q1_2022_seagate_df').\n",
    "q1_2022_seagate_df.info()"
   ]
  },
  {
   "cell_type": "markdown",
   "id": "7336ff6f-46ae-475e-aa58-8f05fe638beb",
   "metadata": {},
   "source": [
    "The first 5 rows are examined to ensure that the data is consistent across all columns.  "
   ]
  },
  {
   "cell_type": "code",
   "execution_count": 7,
   "id": "641ea6fe-9644-40b8-8d3d-44c4839d3782",
   "metadata": {
    "execution": {
     "iopub.execute_input": "2022-10-22T03:03:32.514573Z",
     "iopub.status.busy": "2022-10-22T03:03:32.514253Z",
     "iopub.status.idle": "2022-10-22T03:03:32.535414Z",
     "shell.execute_reply": "2022-10-22T03:03:32.534981Z",
     "shell.execute_reply.started": "2022-10-22T03:03:32.514555Z"
    },
    "tags": []
   },
   "outputs": [
    {
     "data": {
      "text/html": [
       "<div>\n",
       "<style scoped>\n",
       "    .dataframe tbody tr th:only-of-type {\n",
       "        vertical-align: middle;\n",
       "    }\n",
       "\n",
       "    .dataframe tbody tr th {\n",
       "        vertical-align: top;\n",
       "    }\n",
       "\n",
       "    .dataframe thead th {\n",
       "        text-align: right;\n",
       "    }\n",
       "</style>\n",
       "<table border=\"1\" class=\"dataframe\">\n",
       "  <thead>\n",
       "    <tr style=\"text-align: right;\">\n",
       "      <th></th>\n",
       "      <th>serial_number_ltr</th>\n",
       "      <th>model</th>\n",
       "      <th>capacity_terabytes</th>\n",
       "      <th>failure</th>\n",
       "      <th>smart_1_normalized</th>\n",
       "      <th>smart_1_raw</th>\n",
       "      <th>smart_3_normalized</th>\n",
       "      <th>smart_4_normalized</th>\n",
       "      <th>smart_4_raw</th>\n",
       "      <th>smart_5_normalized</th>\n",
       "      <th>smart_5_raw</th>\n",
       "      <th>smart_7_normalized</th>\n",
       "      <th>smart_7_raw</th>\n",
       "      <th>smart_9_normalized</th>\n",
       "      <th>smart_9_raw</th>\n",
       "      <th>smart_10_normalized</th>\n",
       "      <th>smart_12_normalized</th>\n",
       "      <th>smart_12_raw</th>\n",
       "      <th>smart_187_normalized</th>\n",
       "      <th>smart_187_raw</th>\n",
       "      <th>smart_188_normalized</th>\n",
       "      <th>smart_188_raw</th>\n",
       "      <th>smart_190_normalized</th>\n",
       "      <th>smart_190_raw</th>\n",
       "      <th>smart_192_normalized</th>\n",
       "      <th>smart_192_raw</th>\n",
       "      <th>smart_193_normalized</th>\n",
       "      <th>smart_193_raw</th>\n",
       "      <th>smart_194_normalized</th>\n",
       "      <th>smart_194_raw</th>\n",
       "      <th>smart_197_normalized</th>\n",
       "      <th>smart_197_raw</th>\n",
       "      <th>smart_198_normalized</th>\n",
       "      <th>smart_198_raw</th>\n",
       "      <th>smart_199_normalized</th>\n",
       "      <th>smart_199_raw</th>\n",
       "      <th>smart_240_raw</th>\n",
       "      <th>smart_241_raw</th>\n",
       "      <th>smart_242_raw</th>\n",
       "    </tr>\n",
       "  </thead>\n",
       "  <tbody>\n",
       "    <tr>\n",
       "      <th>0</th>\n",
       "      <td>S</td>\n",
       "      <td>ST4000DM000</td>\n",
       "      <td>4.00</td>\n",
       "      <td>0</td>\n",
       "      <td>111</td>\n",
       "      <td>41705776</td>\n",
       "      <td>91</td>\n",
       "      <td>100</td>\n",
       "      <td>26</td>\n",
       "      <td>100</td>\n",
       "      <td>0</td>\n",
       "      <td>87</td>\n",
       "      <td>564826045</td>\n",
       "      <td>38</td>\n",
       "      <td>55044</td>\n",
       "      <td>100</td>\n",
       "      <td>100</td>\n",
       "      <td>26</td>\n",
       "      <td>100</td>\n",
       "      <td>0</td>\n",
       "      <td>100</td>\n",
       "      <td>0</td>\n",
       "      <td>73</td>\n",
       "      <td>27</td>\n",
       "      <td>100</td>\n",
       "      <td>3</td>\n",
       "      <td>95</td>\n",
       "      <td>11576</td>\n",
       "      <td>27</td>\n",
       "      <td>27</td>\n",
       "      <td>100</td>\n",
       "      <td>0</td>\n",
       "      <td>100</td>\n",
       "      <td>0</td>\n",
       "      <td>200</td>\n",
       "      <td>0</td>\n",
       "      <td>54939</td>\n",
       "      <td>68556580648</td>\n",
       "      <td>370398316667</td>\n",
       "    </tr>\n",
       "    <tr>\n",
       "      <th>1</th>\n",
       "      <td>S</td>\n",
       "      <td>ST4000DM000</td>\n",
       "      <td>4.00</td>\n",
       "      <td>0</td>\n",
       "      <td>118</td>\n",
       "      <td>169130600</td>\n",
       "      <td>97</td>\n",
       "      <td>100</td>\n",
       "      <td>7</td>\n",
       "      <td>100</td>\n",
       "      <td>0</td>\n",
       "      <td>85</td>\n",
       "      <td>390128894</td>\n",
       "      <td>36</td>\n",
       "      <td>56329</td>\n",
       "      <td>100</td>\n",
       "      <td>100</td>\n",
       "      <td>3</td>\n",
       "      <td>100</td>\n",
       "      <td>0</td>\n",
       "      <td>100</td>\n",
       "      <td>0</td>\n",
       "      <td>72</td>\n",
       "      <td>28</td>\n",
       "      <td>100</td>\n",
       "      <td>0</td>\n",
       "      <td>76</td>\n",
       "      <td>49702</td>\n",
       "      <td>28</td>\n",
       "      <td>28</td>\n",
       "      <td>100</td>\n",
       "      <td>0</td>\n",
       "      <td>100</td>\n",
       "      <td>0</td>\n",
       "      <td>200</td>\n",
       "      <td>0</td>\n",
       "      <td>56060</td>\n",
       "      <td>67729811048</td>\n",
       "      <td>409848867140</td>\n",
       "    </tr>\n",
       "    <tr>\n",
       "      <th>2</th>\n",
       "      <td>S</td>\n",
       "      <td>ST4000DM000</td>\n",
       "      <td>4.00</td>\n",
       "      <td>0</td>\n",
       "      <td>118</td>\n",
       "      <td>189175216</td>\n",
       "      <td>92</td>\n",
       "      <td>100</td>\n",
       "      <td>12</td>\n",
       "      <td>100</td>\n",
       "      <td>0</td>\n",
       "      <td>83</td>\n",
       "      <td>208738421</td>\n",
       "      <td>34</td>\n",
       "      <td>58422</td>\n",
       "      <td>100</td>\n",
       "      <td>100</td>\n",
       "      <td>11</td>\n",
       "      <td>100</td>\n",
       "      <td>0</td>\n",
       "      <td>100</td>\n",
       "      <td>0</td>\n",
       "      <td>83</td>\n",
       "      <td>17</td>\n",
       "      <td>100</td>\n",
       "      <td>2</td>\n",
       "      <td>93</td>\n",
       "      <td>14304</td>\n",
       "      <td>17</td>\n",
       "      <td>17</td>\n",
       "      <td>100</td>\n",
       "      <td>0</td>\n",
       "      <td>100</td>\n",
       "      <td>0</td>\n",
       "      <td>200</td>\n",
       "      <td>0</td>\n",
       "      <td>58377</td>\n",
       "      <td>69088192984</td>\n",
       "      <td>714479920544</td>\n",
       "    </tr>\n",
       "    <tr>\n",
       "      <th>3</th>\n",
       "      <td>S</td>\n",
       "      <td>ST4000DM000</td>\n",
       "      <td>4.00</td>\n",
       "      <td>0</td>\n",
       "      <td>109</td>\n",
       "      <td>21882992</td>\n",
       "      <td>92</td>\n",
       "      <td>100</td>\n",
       "      <td>10</td>\n",
       "      <td>100</td>\n",
       "      <td>0</td>\n",
       "      <td>87</td>\n",
       "      <td>621911450</td>\n",
       "      <td>38</td>\n",
       "      <td>54620</td>\n",
       "      <td>100</td>\n",
       "      <td>100</td>\n",
       "      <td>10</td>\n",
       "      <td>100</td>\n",
       "      <td>0</td>\n",
       "      <td>100</td>\n",
       "      <td>0</td>\n",
       "      <td>84</td>\n",
       "      <td>16</td>\n",
       "      <td>100</td>\n",
       "      <td>0</td>\n",
       "      <td>93</td>\n",
       "      <td>15804</td>\n",
       "      <td>16</td>\n",
       "      <td>16</td>\n",
       "      <td>100</td>\n",
       "      <td>0</td>\n",
       "      <td>100</td>\n",
       "      <td>0</td>\n",
       "      <td>200</td>\n",
       "      <td>0</td>\n",
       "      <td>54564</td>\n",
       "      <td>60854732600</td>\n",
       "      <td>355300153266</td>\n",
       "    </tr>\n",
       "    <tr>\n",
       "      <th>4</th>\n",
       "      <td>S</td>\n",
       "      <td>ST4000DM000</td>\n",
       "      <td>4.00</td>\n",
       "      <td>0</td>\n",
       "      <td>117</td>\n",
       "      <td>154406968</td>\n",
       "      <td>92</td>\n",
       "      <td>100</td>\n",
       "      <td>11</td>\n",
       "      <td>100</td>\n",
       "      <td>0</td>\n",
       "      <td>82</td>\n",
       "      <td>187608333</td>\n",
       "      <td>38</td>\n",
       "      <td>54620</td>\n",
       "      <td>100</td>\n",
       "      <td>100</td>\n",
       "      <td>11</td>\n",
       "      <td>100</td>\n",
       "      <td>0</td>\n",
       "      <td>100</td>\n",
       "      <td>0</td>\n",
       "      <td>82</td>\n",
       "      <td>18</td>\n",
       "      <td>100</td>\n",
       "      <td>0</td>\n",
       "      <td>94</td>\n",
       "      <td>12487</td>\n",
       "      <td>18</td>\n",
       "      <td>18</td>\n",
       "      <td>100</td>\n",
       "      <td>0</td>\n",
       "      <td>100</td>\n",
       "      <td>0</td>\n",
       "      <td>200</td>\n",
       "      <td>0</td>\n",
       "      <td>54576</td>\n",
       "      <td>55863048616</td>\n",
       "      <td>338697039483</td>\n",
       "    </tr>\n",
       "    <tr>\n",
       "      <th>...</th>\n",
       "      <td>...</td>\n",
       "      <td>...</td>\n",
       "      <td>...</td>\n",
       "      <td>...</td>\n",
       "      <td>...</td>\n",
       "      <td>...</td>\n",
       "      <td>...</td>\n",
       "      <td>...</td>\n",
       "      <td>...</td>\n",
       "      <td>...</td>\n",
       "      <td>...</td>\n",
       "      <td>...</td>\n",
       "      <td>...</td>\n",
       "      <td>...</td>\n",
       "      <td>...</td>\n",
       "      <td>...</td>\n",
       "      <td>...</td>\n",
       "      <td>...</td>\n",
       "      <td>...</td>\n",
       "      <td>...</td>\n",
       "      <td>...</td>\n",
       "      <td>...</td>\n",
       "      <td>...</td>\n",
       "      <td>...</td>\n",
       "      <td>...</td>\n",
       "      <td>...</td>\n",
       "      <td>...</td>\n",
       "      <td>...</td>\n",
       "      <td>...</td>\n",
       "      <td>...</td>\n",
       "      <td>...</td>\n",
       "      <td>...</td>\n",
       "      <td>...</td>\n",
       "      <td>...</td>\n",
       "      <td>...</td>\n",
       "      <td>...</td>\n",
       "      <td>...</td>\n",
       "      <td>...</td>\n",
       "      <td>...</td>\n",
       "    </tr>\n",
       "    <tr>\n",
       "      <th>9201115</th>\n",
       "      <td>Z</td>\n",
       "      <td>ST12000NM001G</td>\n",
       "      <td>12.00</td>\n",
       "      <td>0</td>\n",
       "      <td>80</td>\n",
       "      <td>109909024</td>\n",
       "      <td>99</td>\n",
       "      <td>100</td>\n",
       "      <td>1</td>\n",
       "      <td>100</td>\n",
       "      <td>0</td>\n",
       "      <td>87</td>\n",
       "      <td>487341148</td>\n",
       "      <td>95</td>\n",
       "      <td>5019</td>\n",
       "      <td>100</td>\n",
       "      <td>100</td>\n",
       "      <td>1</td>\n",
       "      <td>100</td>\n",
       "      <td>0</td>\n",
       "      <td>100</td>\n",
       "      <td>0</td>\n",
       "      <td>69</td>\n",
       "      <td>31</td>\n",
       "      <td>100</td>\n",
       "      <td>0</td>\n",
       "      <td>100</td>\n",
       "      <td>211</td>\n",
       "      <td>31</td>\n",
       "      <td>31</td>\n",
       "      <td>100</td>\n",
       "      <td>0</td>\n",
       "      <td>100</td>\n",
       "      <td>0</td>\n",
       "      <td>200</td>\n",
       "      <td>0</td>\n",
       "      <td>4996</td>\n",
       "      <td>33747256368</td>\n",
       "      <td>47906088444</td>\n",
       "    </tr>\n",
       "    <tr>\n",
       "      <th>9201116</th>\n",
       "      <td>Z</td>\n",
       "      <td>ST12000NM001G</td>\n",
       "      <td>12.00</td>\n",
       "      <td>0</td>\n",
       "      <td>76</td>\n",
       "      <td>38585856</td>\n",
       "      <td>97</td>\n",
       "      <td>100</td>\n",
       "      <td>3</td>\n",
       "      <td>100</td>\n",
       "      <td>0</td>\n",
       "      <td>84</td>\n",
       "      <td>256187033</td>\n",
       "      <td>97</td>\n",
       "      <td>2939</td>\n",
       "      <td>100</td>\n",
       "      <td>100</td>\n",
       "      <td>3</td>\n",
       "      <td>100</td>\n",
       "      <td>0</td>\n",
       "      <td>100</td>\n",
       "      <td>0</td>\n",
       "      <td>79</td>\n",
       "      <td>21</td>\n",
       "      <td>100</td>\n",
       "      <td>0</td>\n",
       "      <td>100</td>\n",
       "      <td>135</td>\n",
       "      <td>21</td>\n",
       "      <td>21</td>\n",
       "      <td>100</td>\n",
       "      <td>0</td>\n",
       "      <td>100</td>\n",
       "      <td>0</td>\n",
       "      <td>200</td>\n",
       "      <td>0</td>\n",
       "      <td>2921</td>\n",
       "      <td>24066520400</td>\n",
       "      <td>96578036396</td>\n",
       "    </tr>\n",
       "    <tr>\n",
       "      <th>9201117</th>\n",
       "      <td>Z</td>\n",
       "      <td>ST10000NM001G</td>\n",
       "      <td>10.00</td>\n",
       "      <td>0</td>\n",
       "      <td>75</td>\n",
       "      <td>32309592</td>\n",
       "      <td>98</td>\n",
       "      <td>100</td>\n",
       "      <td>2</td>\n",
       "      <td>100</td>\n",
       "      <td>0</td>\n",
       "      <td>79</td>\n",
       "      <td>84623606</td>\n",
       "      <td>99</td>\n",
       "      <td>1036</td>\n",
       "      <td>100</td>\n",
       "      <td>100</td>\n",
       "      <td>2</td>\n",
       "      <td>100</td>\n",
       "      <td>0</td>\n",
       "      <td>100</td>\n",
       "      <td>0</td>\n",
       "      <td>74</td>\n",
       "      <td>26</td>\n",
       "      <td>100</td>\n",
       "      <td>0</td>\n",
       "      <td>100</td>\n",
       "      <td>49</td>\n",
       "      <td>26</td>\n",
       "      <td>26</td>\n",
       "      <td>100</td>\n",
       "      <td>0</td>\n",
       "      <td>100</td>\n",
       "      <td>0</td>\n",
       "      <td>200</td>\n",
       "      <td>0</td>\n",
       "      <td>1029</td>\n",
       "      <td>22340154600</td>\n",
       "      <td>14069767910</td>\n",
       "    </tr>\n",
       "    <tr>\n",
       "      <th>9201118</th>\n",
       "      <td>Z</td>\n",
       "      <td>ST12000NM001G</td>\n",
       "      <td>12.00</td>\n",
       "      <td>0</td>\n",
       "      <td>76</td>\n",
       "      <td>41882280</td>\n",
       "      <td>99</td>\n",
       "      <td>100</td>\n",
       "      <td>1</td>\n",
       "      <td>100</td>\n",
       "      <td>0</td>\n",
       "      <td>77</td>\n",
       "      <td>46770891</td>\n",
       "      <td>100</td>\n",
       "      <td>407</td>\n",
       "      <td>100</td>\n",
       "      <td>100</td>\n",
       "      <td>1</td>\n",
       "      <td>100</td>\n",
       "      <td>0</td>\n",
       "      <td>100</td>\n",
       "      <td>0</td>\n",
       "      <td>66</td>\n",
       "      <td>34</td>\n",
       "      <td>100</td>\n",
       "      <td>0</td>\n",
       "      <td>100</td>\n",
       "      <td>22</td>\n",
       "      <td>34</td>\n",
       "      <td>34</td>\n",
       "      <td>100</td>\n",
       "      <td>0</td>\n",
       "      <td>100</td>\n",
       "      <td>0</td>\n",
       "      <td>200</td>\n",
       "      <td>0</td>\n",
       "      <td>405</td>\n",
       "      <td>22682193752</td>\n",
       "      <td>5924259866</td>\n",
       "    </tr>\n",
       "    <tr>\n",
       "      <th>9201119</th>\n",
       "      <td>Z</td>\n",
       "      <td>ST10000NM001G</td>\n",
       "      <td>10.00</td>\n",
       "      <td>0</td>\n",
       "      <td>82</td>\n",
       "      <td>163696568</td>\n",
       "      <td>99</td>\n",
       "      <td>100</td>\n",
       "      <td>1</td>\n",
       "      <td>100</td>\n",
       "      <td>0</td>\n",
       "      <td>82</td>\n",
       "      <td>151455333</td>\n",
       "      <td>98</td>\n",
       "      <td>2345</td>\n",
       "      <td>100</td>\n",
       "      <td>100</td>\n",
       "      <td>1</td>\n",
       "      <td>100</td>\n",
       "      <td>0</td>\n",
       "      <td>100</td>\n",
       "      <td>0</td>\n",
       "      <td>71</td>\n",
       "      <td>29</td>\n",
       "      <td>100</td>\n",
       "      <td>0</td>\n",
       "      <td>100</td>\n",
       "      <td>111</td>\n",
       "      <td>29</td>\n",
       "      <td>29</td>\n",
       "      <td>100</td>\n",
       "      <td>0</td>\n",
       "      <td>100</td>\n",
       "      <td>0</td>\n",
       "      <td>200</td>\n",
       "      <td>0</td>\n",
       "      <td>2330</td>\n",
       "      <td>18866796408</td>\n",
       "      <td>21580465948</td>\n",
       "    </tr>\n",
       "  </tbody>\n",
       "</table>\n",
       "<p>9201120 rows × 39 columns</p>\n",
       "</div>"
      ],
      "text/plain": [
       "        serial_number_ltr          model capacity_terabytes failure  \\\n",
       "0                       S    ST4000DM000               4.00       0   \n",
       "1                       S    ST4000DM000               4.00       0   \n",
       "2                       S    ST4000DM000               4.00       0   \n",
       "3                       S    ST4000DM000               4.00       0   \n",
       "4                       S    ST4000DM000               4.00       0   \n",
       "...                   ...            ...                ...     ...   \n",
       "9201115                 Z  ST12000NM001G              12.00       0   \n",
       "9201116                 Z  ST12000NM001G              12.00       0   \n",
       "9201117                 Z  ST10000NM001G              10.00       0   \n",
       "9201118                 Z  ST12000NM001G              12.00       0   \n",
       "9201119                 Z  ST10000NM001G              10.00       0   \n",
       "\n",
       "         smart_1_normalized  smart_1_raw  smart_3_normalized  \\\n",
       "0                       111     41705776                  91   \n",
       "1                       118    169130600                  97   \n",
       "2                       118    189175216                  92   \n",
       "3                       109     21882992                  92   \n",
       "4                       117    154406968                  92   \n",
       "...                     ...          ...                 ...   \n",
       "9201115                  80    109909024                  99   \n",
       "9201116                  76     38585856                  97   \n",
       "9201117                  75     32309592                  98   \n",
       "9201118                  76     41882280                  99   \n",
       "9201119                  82    163696568                  99   \n",
       "\n",
       "         smart_4_normalized  smart_4_raw  smart_5_normalized  smart_5_raw  \\\n",
       "0                       100           26                 100            0   \n",
       "1                       100            7                 100            0   \n",
       "2                       100           12                 100            0   \n",
       "3                       100           10                 100            0   \n",
       "4                       100           11                 100            0   \n",
       "...                     ...          ...                 ...          ...   \n",
       "9201115                 100            1                 100            0   \n",
       "9201116                 100            3                 100            0   \n",
       "9201117                 100            2                 100            0   \n",
       "9201118                 100            1                 100            0   \n",
       "9201119                 100            1                 100            0   \n",
       "\n",
       "         smart_7_normalized  smart_7_raw  smart_9_normalized  smart_9_raw  \\\n",
       "0                        87    564826045                  38        55044   \n",
       "1                        85    390128894                  36        56329   \n",
       "2                        83    208738421                  34        58422   \n",
       "3                        87    621911450                  38        54620   \n",
       "4                        82    187608333                  38        54620   \n",
       "...                     ...          ...                 ...          ...   \n",
       "9201115                  87    487341148                  95         5019   \n",
       "9201116                  84    256187033                  97         2939   \n",
       "9201117                  79     84623606                  99         1036   \n",
       "9201118                  77     46770891                 100          407   \n",
       "9201119                  82    151455333                  98         2345   \n",
       "\n",
       "         smart_10_normalized  smart_12_normalized  smart_12_raw  \\\n",
       "0                        100                  100            26   \n",
       "1                        100                  100             3   \n",
       "2                        100                  100            11   \n",
       "3                        100                  100            10   \n",
       "4                        100                  100            11   \n",
       "...                      ...                  ...           ...   \n",
       "9201115                  100                  100             1   \n",
       "9201116                  100                  100             3   \n",
       "9201117                  100                  100             2   \n",
       "9201118                  100                  100             1   \n",
       "9201119                  100                  100             1   \n",
       "\n",
       "         smart_187_normalized  smart_187_raw  smart_188_normalized  \\\n",
       "0                         100              0                   100   \n",
       "1                         100              0                   100   \n",
       "2                         100              0                   100   \n",
       "3                         100              0                   100   \n",
       "4                         100              0                   100   \n",
       "...                       ...            ...                   ...   \n",
       "9201115                   100              0                   100   \n",
       "9201116                   100              0                   100   \n",
       "9201117                   100              0                   100   \n",
       "9201118                   100              0                   100   \n",
       "9201119                   100              0                   100   \n",
       "\n",
       "         smart_188_raw  smart_190_normalized  smart_190_raw  \\\n",
       "0                    0                    73             27   \n",
       "1                    0                    72             28   \n",
       "2                    0                    83             17   \n",
       "3                    0                    84             16   \n",
       "4                    0                    82             18   \n",
       "...                ...                   ...            ...   \n",
       "9201115              0                    69             31   \n",
       "9201116              0                    79             21   \n",
       "9201117              0                    74             26   \n",
       "9201118              0                    66             34   \n",
       "9201119              0                    71             29   \n",
       "\n",
       "         smart_192_normalized  smart_192_raw  smart_193_normalized  \\\n",
       "0                         100              3                    95   \n",
       "1                         100              0                    76   \n",
       "2                         100              2                    93   \n",
       "3                         100              0                    93   \n",
       "4                         100              0                    94   \n",
       "...                       ...            ...                   ...   \n",
       "9201115                   100              0                   100   \n",
       "9201116                   100              0                   100   \n",
       "9201117                   100              0                   100   \n",
       "9201118                   100              0                   100   \n",
       "9201119                   100              0                   100   \n",
       "\n",
       "         smart_193_raw  smart_194_normalized  smart_194_raw  \\\n",
       "0                11576                    27             27   \n",
       "1                49702                    28             28   \n",
       "2                14304                    17             17   \n",
       "3                15804                    16             16   \n",
       "4                12487                    18             18   \n",
       "...                ...                   ...            ...   \n",
       "9201115            211                    31             31   \n",
       "9201116            135                    21             21   \n",
       "9201117             49                    26             26   \n",
       "9201118             22                    34             34   \n",
       "9201119            111                    29             29   \n",
       "\n",
       "         smart_197_normalized  smart_197_raw  smart_198_normalized  \\\n",
       "0                         100              0                   100   \n",
       "1                         100              0                   100   \n",
       "2                         100              0                   100   \n",
       "3                         100              0                   100   \n",
       "4                         100              0                   100   \n",
       "...                       ...            ...                   ...   \n",
       "9201115                   100              0                   100   \n",
       "9201116                   100              0                   100   \n",
       "9201117                   100              0                   100   \n",
       "9201118                   100              0                   100   \n",
       "9201119                   100              0                   100   \n",
       "\n",
       "         smart_198_raw  smart_199_normalized  smart_199_raw  smart_240_raw  \\\n",
       "0                    0                   200              0          54939   \n",
       "1                    0                   200              0          56060   \n",
       "2                    0                   200              0          58377   \n",
       "3                    0                   200              0          54564   \n",
       "4                    0                   200              0          54576   \n",
       "...                ...                   ...            ...            ...   \n",
       "9201115              0                   200              0           4996   \n",
       "9201116              0                   200              0           2921   \n",
       "9201117              0                   200              0           1029   \n",
       "9201118              0                   200              0            405   \n",
       "9201119              0                   200              0           2330   \n",
       "\n",
       "         smart_241_raw  smart_242_raw  \n",
       "0          68556580648   370398316667  \n",
       "1          67729811048   409848867140  \n",
       "2          69088192984   714479920544  \n",
       "3          60854732600   355300153266  \n",
       "4          55863048616   338697039483  \n",
       "...                ...            ...  \n",
       "9201115    33747256368    47906088444  \n",
       "9201116    24066520400    96578036396  \n",
       "9201117    22340154600    14069767910  \n",
       "9201118    22682193752     5924259866  \n",
       "9201119    18866796408    21580465948  \n",
       "\n",
       "[9201120 rows x 39 columns]"
      ]
     },
     "execution_count": 7,
     "metadata": {},
     "output_type": "execute_result"
    }
   ],
   "source": [
    "q1_2022_seagate_df"
   ]
  },
  {
   "cell_type": "markdown",
   "id": "43f18941-965c-4bd8-a257-1161615c9448",
   "metadata": {},
   "source": [
    "The ratio for `failure` of `0` or `functional` to `1` or `non-functional` is 3253:1 (9198292/2828). The percentage of `1` or `non-functional` is approximately 0.03%. The data has an extreme class imbalance.  "
   ]
  },
  {
   "cell_type": "code",
   "execution_count": 8,
   "id": "4720b91f-e12a-47ce-b1d2-b5bd3ee52f06",
   "metadata": {
    "execution": {
     "iopub.execute_input": "2022-10-22T03:03:32.536168Z",
     "iopub.status.busy": "2022-10-22T03:03:32.535990Z",
     "iopub.status.idle": "2022-10-22T03:03:32.589397Z",
     "shell.execute_reply": "2022-10-22T03:03:32.588903Z",
     "shell.execute_reply.started": "2022-10-22T03:03:32.536152Z"
    },
    "tags": []
   },
   "outputs": [
    {
     "data": {
      "text/html": [
       "<div>\n",
       "<style scoped>\n",
       "    .dataframe tbody tr th:only-of-type {\n",
       "        vertical-align: middle;\n",
       "    }\n",
       "\n",
       "    .dataframe tbody tr th {\n",
       "        vertical-align: top;\n",
       "    }\n",
       "\n",
       "    .dataframe thead th {\n",
       "        text-align: right;\n",
       "    }\n",
       "</style>\n",
       "<table border=\"1\" class=\"dataframe\">\n",
       "  <thead>\n",
       "    <tr style=\"text-align: right;\">\n",
       "      <th></th>\n",
       "      <th>count</th>\n",
       "    </tr>\n",
       "  </thead>\n",
       "  <tbody>\n",
       "    <tr>\n",
       "      <th>0</th>\n",
       "      <td>9198292</td>\n",
       "    </tr>\n",
       "    <tr>\n",
       "      <th>1</th>\n",
       "      <td>2828</td>\n",
       "    </tr>\n",
       "  </tbody>\n",
       "</table>\n",
       "</div>"
      ],
      "text/plain": [
       "     count\n",
       "0  9198292\n",
       "1     2828"
      ]
     },
     "execution_count": 8,
     "metadata": {},
     "output_type": "execute_result"
    }
   ],
   "source": [
    "q1_2022_seagate_df['failure'].value_counts().to_frame('count')"
   ]
  },
  {
   "cell_type": "code",
   "execution_count": 9,
   "id": "551f28fa-c226-4230-9fda-ac630fc5e9b6",
   "metadata": {
    "execution": {
     "iopub.execute_input": "2022-10-22T03:03:32.590538Z",
     "iopub.status.busy": "2022-10-22T03:03:32.590109Z",
     "iopub.status.idle": "2022-10-22T03:03:32.594054Z",
     "shell.execute_reply": "2022-10-22T03:03:32.593505Z",
     "shell.execute_reply.started": "2022-10-22T03:03:32.590519Z"
    },
    "tags": []
   },
   "outputs": [
    {
     "data": {
      "text/plain": [
       "3253.0"
      ]
     },
     "execution_count": 9,
     "metadata": {},
     "output_type": "execute_result"
    }
   ],
   "source": [
    "round(9198292 / 2828, 0)"
   ]
  },
  {
   "cell_type": "code",
   "execution_count": 10,
   "id": "cd9232a9-84cd-4cd9-9040-76f886ef2d76",
   "metadata": {
    "execution": {
     "iopub.execute_input": "2022-10-22T03:03:32.595182Z",
     "iopub.status.busy": "2022-10-22T03:03:32.594809Z",
     "iopub.status.idle": "2022-10-22T03:03:32.598941Z",
     "shell.execute_reply": "2022-10-22T03:03:32.598419Z",
     "shell.execute_reply.started": "2022-10-22T03:03:32.595158Z"
    },
    "tags": []
   },
   "outputs": [
    {
     "data": {
      "text/plain": [
       "0.03"
      ]
     },
     "execution_count": 10,
     "metadata": {},
     "output_type": "execute_result"
    }
   ],
   "source": [
    "non_func_percent(9198292, 2828)"
   ]
  },
  {
   "cell_type": "markdown",
   "id": "cf9539d3-b4aa-47c4-ad99-9d1068848731",
   "metadata": {},
   "source": [
    "## Label encode the categorical features"
   ]
  },
  {
   "cell_type": "markdown",
   "id": "31061e85-0372-48c0-ae65-a15652661b96",
   "metadata": {},
   "source": [
    "Previously, the `serial_number_ltr`, `model`, and `capacity_terabytes` columns were identified as categorical data. To prepare for machine learning, the categorical columns are label encoded. For example, the serial number letter is reassigned from `S` to `0`, model is reassigned from `ST4000DM000` to `9`, and `capacity_terabytes` is reassigned from `4.0` to `1`.  "
   ]
  },
  {
   "cell_type": "code",
   "execution_count": 11,
   "id": "0f0c4a11-7ac4-4c67-8c18-1ce383286041",
   "metadata": {
    "execution": {
     "iopub.execute_input": "2022-10-22T03:03:32.600099Z",
     "iopub.status.busy": "2022-10-22T03:03:32.599723Z",
     "iopub.status.idle": "2022-10-22T03:03:36.659359Z",
     "shell.execute_reply": "2022-10-22T03:03:36.658812Z",
     "shell.execute_reply.started": "2022-10-22T03:03:32.600076Z"
    },
    "tags": []
   },
   "outputs": [],
   "source": [
    "# References\n",
    "# https://towardsdatascience.com/categorical-encoding-using-label-encoding-and-one-hot-encoder-911ef77fb5bd\n",
    "# https://scikit-learn.org/stable/modules/generated/sklearn.preprocessing.LabelEncoder.html\n",
    "\n",
    "# A LabelEncoder instance ('le') is created. The LabelEncoder instance\n",
    "# ('le') is used to transform the categorical columns \n",
    "# ('serial_number_ltr', 'model', 'capacity_bytes', and 'failure') into \n",
    "# labels.\n",
    "le = LabelEncoder()\n",
    "q1_2022_seagate_df['serial_number_ltr'] = le.fit_transform(q1_2022_seagate_df['serial_number_ltr'])\n",
    "q1_2022_seagate_df['model'] = le.fit_transform(q1_2022_seagate_df['model'])\n",
    "q1_2022_seagate_df['capacity_terabytes'] = le.fit_transform(q1_2022_seagate_df['capacity_terabytes'])\n",
    "q1_2022_seagate_df['failure'] = le.fit_transform(q1_2022_seagate_df['failure'])"
   ]
  },
  {
   "cell_type": "markdown",
   "id": "f1d9cbd1-2661-4be8-8d89-e16b3ff0019a",
   "metadata": {},
   "source": [
    "The info for the dataframe reveals 9,201,120 rows and 39 columns - all columns are are `int64`.  "
   ]
  },
  {
   "cell_type": "code",
   "execution_count": 12,
   "id": "46c3c160-3e1d-4e17-a716-06865f0269c1",
   "metadata": {
    "execution": {
     "iopub.execute_input": "2022-10-22T03:03:36.660387Z",
     "iopub.status.busy": "2022-10-22T03:03:36.660109Z",
     "iopub.status.idle": "2022-10-22T03:03:36.668268Z",
     "shell.execute_reply": "2022-10-22T03:03:36.667807Z",
     "shell.execute_reply.started": "2022-10-22T03:03:36.660367Z"
    },
    "tags": []
   },
   "outputs": [
    {
     "name": "stdout",
     "output_type": "stream",
     "text": [
      "<class 'pandas.core.frame.DataFrame'>\n",
      "RangeIndex: 9201120 entries, 0 to 9201119\n",
      "Data columns (total 39 columns):\n",
      " #   Column                Dtype\n",
      "---  ------                -----\n",
      " 0   serial_number_ltr     int64\n",
      " 1   model                 int64\n",
      " 2   capacity_terabytes    int64\n",
      " 3   failure               int64\n",
      " 4   smart_1_normalized    int64\n",
      " 5   smart_1_raw           int64\n",
      " 6   smart_3_normalized    int64\n",
      " 7   smart_4_normalized    int64\n",
      " 8   smart_4_raw           int64\n",
      " 9   smart_5_normalized    int64\n",
      " 10  smart_5_raw           int64\n",
      " 11  smart_7_normalized    int64\n",
      " 12  smart_7_raw           int64\n",
      " 13  smart_9_normalized    int64\n",
      " 14  smart_9_raw           int64\n",
      " 15  smart_10_normalized   int64\n",
      " 16  smart_12_normalized   int64\n",
      " 17  smart_12_raw          int64\n",
      " 18  smart_187_normalized  int64\n",
      " 19  smart_187_raw         int64\n",
      " 20  smart_188_normalized  int64\n",
      " 21  smart_188_raw         int64\n",
      " 22  smart_190_normalized  int64\n",
      " 23  smart_190_raw         int64\n",
      " 24  smart_192_normalized  int64\n",
      " 25  smart_192_raw         int64\n",
      " 26  smart_193_normalized  int64\n",
      " 27  smart_193_raw         int64\n",
      " 28  smart_194_normalized  int64\n",
      " 29  smart_194_raw         int64\n",
      " 30  smart_197_normalized  int64\n",
      " 31  smart_197_raw         int64\n",
      " 32  smart_198_normalized  int64\n",
      " 33  smart_198_raw         int64\n",
      " 34  smart_199_normalized  int64\n",
      " 35  smart_199_raw         int64\n",
      " 36  smart_240_raw         int64\n",
      " 37  smart_241_raw         int64\n",
      " 38  smart_242_raw         int64\n",
      "dtypes: int64(39)\n",
      "memory usage: 2.7 GB\n"
     ]
    }
   ],
   "source": [
    "q1_2022_seagate_df.info()"
   ]
  },
  {
   "cell_type": "markdown",
   "id": "26ae95b3-e598-43e1-9173-5d6228273556",
   "metadata": {},
   "source": [
    "The first 5 rows are examined to ensure that the data is consistent across all columns.  "
   ]
  },
  {
   "cell_type": "code",
   "execution_count": 13,
   "id": "5eef7841-5e08-489b-80fa-520ee85443ae",
   "metadata": {
    "execution": {
     "iopub.execute_input": "2022-10-22T03:03:36.669217Z",
     "iopub.status.busy": "2022-10-22T03:03:36.668890Z",
     "iopub.status.idle": "2022-10-22T03:03:36.752035Z",
     "shell.execute_reply": "2022-10-22T03:03:36.751503Z",
     "shell.execute_reply.started": "2022-10-22T03:03:36.669199Z"
    },
    "tags": []
   },
   "outputs": [
    {
     "data": {
      "text/html": [
       "<div>\n",
       "<style scoped>\n",
       "    .dataframe tbody tr th:only-of-type {\n",
       "        vertical-align: middle;\n",
       "    }\n",
       "\n",
       "    .dataframe tbody tr th {\n",
       "        vertical-align: top;\n",
       "    }\n",
       "\n",
       "    .dataframe thead th {\n",
       "        text-align: right;\n",
       "    }\n",
       "</style>\n",
       "<table border=\"1\" class=\"dataframe\">\n",
       "  <thead>\n",
       "    <tr style=\"text-align: right;\">\n",
       "      <th></th>\n",
       "      <th>serial_number_ltr</th>\n",
       "      <th>model</th>\n",
       "      <th>capacity_terabytes</th>\n",
       "      <th>failure</th>\n",
       "      <th>smart_1_normalized</th>\n",
       "      <th>smart_1_raw</th>\n",
       "      <th>smart_3_normalized</th>\n",
       "      <th>smart_4_normalized</th>\n",
       "      <th>smart_4_raw</th>\n",
       "      <th>smart_5_normalized</th>\n",
       "      <th>smart_5_raw</th>\n",
       "      <th>smart_7_normalized</th>\n",
       "      <th>smart_7_raw</th>\n",
       "      <th>smart_9_normalized</th>\n",
       "      <th>smart_9_raw</th>\n",
       "      <th>smart_10_normalized</th>\n",
       "      <th>smart_12_normalized</th>\n",
       "      <th>smart_12_raw</th>\n",
       "      <th>smart_187_normalized</th>\n",
       "      <th>smart_187_raw</th>\n",
       "      <th>smart_188_normalized</th>\n",
       "      <th>smart_188_raw</th>\n",
       "      <th>smart_190_normalized</th>\n",
       "      <th>smart_190_raw</th>\n",
       "      <th>smart_192_normalized</th>\n",
       "      <th>smart_192_raw</th>\n",
       "      <th>smart_193_normalized</th>\n",
       "      <th>smart_193_raw</th>\n",
       "      <th>smart_194_normalized</th>\n",
       "      <th>smart_194_raw</th>\n",
       "      <th>smart_197_normalized</th>\n",
       "      <th>smart_197_raw</th>\n",
       "      <th>smart_198_normalized</th>\n",
       "      <th>smart_198_raw</th>\n",
       "      <th>smart_199_normalized</th>\n",
       "      <th>smart_199_raw</th>\n",
       "      <th>smart_240_raw</th>\n",
       "      <th>smart_241_raw</th>\n",
       "      <th>smart_242_raw</th>\n",
       "    </tr>\n",
       "  </thead>\n",
       "  <tbody>\n",
       "    <tr>\n",
       "      <th>0</th>\n",
       "      <td>0</td>\n",
       "      <td>9</td>\n",
       "      <td>1</td>\n",
       "      <td>0</td>\n",
       "      <td>111</td>\n",
       "      <td>41705776</td>\n",
       "      <td>91</td>\n",
       "      <td>100</td>\n",
       "      <td>26</td>\n",
       "      <td>100</td>\n",
       "      <td>0</td>\n",
       "      <td>87</td>\n",
       "      <td>564826045</td>\n",
       "      <td>38</td>\n",
       "      <td>55044</td>\n",
       "      <td>100</td>\n",
       "      <td>100</td>\n",
       "      <td>26</td>\n",
       "      <td>100</td>\n",
       "      <td>0</td>\n",
       "      <td>100</td>\n",
       "      <td>0</td>\n",
       "      <td>73</td>\n",
       "      <td>27</td>\n",
       "      <td>100</td>\n",
       "      <td>3</td>\n",
       "      <td>95</td>\n",
       "      <td>11576</td>\n",
       "      <td>27</td>\n",
       "      <td>27</td>\n",
       "      <td>100</td>\n",
       "      <td>0</td>\n",
       "      <td>100</td>\n",
       "      <td>0</td>\n",
       "      <td>200</td>\n",
       "      <td>0</td>\n",
       "      <td>54939</td>\n",
       "      <td>68556580648</td>\n",
       "      <td>370398316667</td>\n",
       "    </tr>\n",
       "    <tr>\n",
       "      <th>1</th>\n",
       "      <td>0</td>\n",
       "      <td>9</td>\n",
       "      <td>1</td>\n",
       "      <td>0</td>\n",
       "      <td>118</td>\n",
       "      <td>169130600</td>\n",
       "      <td>97</td>\n",
       "      <td>100</td>\n",
       "      <td>7</td>\n",
       "      <td>100</td>\n",
       "      <td>0</td>\n",
       "      <td>85</td>\n",
       "      <td>390128894</td>\n",
       "      <td>36</td>\n",
       "      <td>56329</td>\n",
       "      <td>100</td>\n",
       "      <td>100</td>\n",
       "      <td>3</td>\n",
       "      <td>100</td>\n",
       "      <td>0</td>\n",
       "      <td>100</td>\n",
       "      <td>0</td>\n",
       "      <td>72</td>\n",
       "      <td>28</td>\n",
       "      <td>100</td>\n",
       "      <td>0</td>\n",
       "      <td>76</td>\n",
       "      <td>49702</td>\n",
       "      <td>28</td>\n",
       "      <td>28</td>\n",
       "      <td>100</td>\n",
       "      <td>0</td>\n",
       "      <td>100</td>\n",
       "      <td>0</td>\n",
       "      <td>200</td>\n",
       "      <td>0</td>\n",
       "      <td>56060</td>\n",
       "      <td>67729811048</td>\n",
       "      <td>409848867140</td>\n",
       "    </tr>\n",
       "    <tr>\n",
       "      <th>2</th>\n",
       "      <td>0</td>\n",
       "      <td>9</td>\n",
       "      <td>1</td>\n",
       "      <td>0</td>\n",
       "      <td>118</td>\n",
       "      <td>189175216</td>\n",
       "      <td>92</td>\n",
       "      <td>100</td>\n",
       "      <td>12</td>\n",
       "      <td>100</td>\n",
       "      <td>0</td>\n",
       "      <td>83</td>\n",
       "      <td>208738421</td>\n",
       "      <td>34</td>\n",
       "      <td>58422</td>\n",
       "      <td>100</td>\n",
       "      <td>100</td>\n",
       "      <td>11</td>\n",
       "      <td>100</td>\n",
       "      <td>0</td>\n",
       "      <td>100</td>\n",
       "      <td>0</td>\n",
       "      <td>83</td>\n",
       "      <td>17</td>\n",
       "      <td>100</td>\n",
       "      <td>2</td>\n",
       "      <td>93</td>\n",
       "      <td>14304</td>\n",
       "      <td>17</td>\n",
       "      <td>17</td>\n",
       "      <td>100</td>\n",
       "      <td>0</td>\n",
       "      <td>100</td>\n",
       "      <td>0</td>\n",
       "      <td>200</td>\n",
       "      <td>0</td>\n",
       "      <td>58377</td>\n",
       "      <td>69088192984</td>\n",
       "      <td>714479920544</td>\n",
       "    </tr>\n",
       "    <tr>\n",
       "      <th>3</th>\n",
       "      <td>0</td>\n",
       "      <td>9</td>\n",
       "      <td>1</td>\n",
       "      <td>0</td>\n",
       "      <td>109</td>\n",
       "      <td>21882992</td>\n",
       "      <td>92</td>\n",
       "      <td>100</td>\n",
       "      <td>10</td>\n",
       "      <td>100</td>\n",
       "      <td>0</td>\n",
       "      <td>87</td>\n",
       "      <td>621911450</td>\n",
       "      <td>38</td>\n",
       "      <td>54620</td>\n",
       "      <td>100</td>\n",
       "      <td>100</td>\n",
       "      <td>10</td>\n",
       "      <td>100</td>\n",
       "      <td>0</td>\n",
       "      <td>100</td>\n",
       "      <td>0</td>\n",
       "      <td>84</td>\n",
       "      <td>16</td>\n",
       "      <td>100</td>\n",
       "      <td>0</td>\n",
       "      <td>93</td>\n",
       "      <td>15804</td>\n",
       "      <td>16</td>\n",
       "      <td>16</td>\n",
       "      <td>100</td>\n",
       "      <td>0</td>\n",
       "      <td>100</td>\n",
       "      <td>0</td>\n",
       "      <td>200</td>\n",
       "      <td>0</td>\n",
       "      <td>54564</td>\n",
       "      <td>60854732600</td>\n",
       "      <td>355300153266</td>\n",
       "    </tr>\n",
       "    <tr>\n",
       "      <th>4</th>\n",
       "      <td>0</td>\n",
       "      <td>9</td>\n",
       "      <td>1</td>\n",
       "      <td>0</td>\n",
       "      <td>117</td>\n",
       "      <td>154406968</td>\n",
       "      <td>92</td>\n",
       "      <td>100</td>\n",
       "      <td>11</td>\n",
       "      <td>100</td>\n",
       "      <td>0</td>\n",
       "      <td>82</td>\n",
       "      <td>187608333</td>\n",
       "      <td>38</td>\n",
       "      <td>54620</td>\n",
       "      <td>100</td>\n",
       "      <td>100</td>\n",
       "      <td>11</td>\n",
       "      <td>100</td>\n",
       "      <td>0</td>\n",
       "      <td>100</td>\n",
       "      <td>0</td>\n",
       "      <td>82</td>\n",
       "      <td>18</td>\n",
       "      <td>100</td>\n",
       "      <td>0</td>\n",
       "      <td>94</td>\n",
       "      <td>12487</td>\n",
       "      <td>18</td>\n",
       "      <td>18</td>\n",
       "      <td>100</td>\n",
       "      <td>0</td>\n",
       "      <td>100</td>\n",
       "      <td>0</td>\n",
       "      <td>200</td>\n",
       "      <td>0</td>\n",
       "      <td>54576</td>\n",
       "      <td>55863048616</td>\n",
       "      <td>338697039483</td>\n",
       "    </tr>\n",
       "    <tr>\n",
       "      <th>...</th>\n",
       "      <td>...</td>\n",
       "      <td>...</td>\n",
       "      <td>...</td>\n",
       "      <td>...</td>\n",
       "      <td>...</td>\n",
       "      <td>...</td>\n",
       "      <td>...</td>\n",
       "      <td>...</td>\n",
       "      <td>...</td>\n",
       "      <td>...</td>\n",
       "      <td>...</td>\n",
       "      <td>...</td>\n",
       "      <td>...</td>\n",
       "      <td>...</td>\n",
       "      <td>...</td>\n",
       "      <td>...</td>\n",
       "      <td>...</td>\n",
       "      <td>...</td>\n",
       "      <td>...</td>\n",
       "      <td>...</td>\n",
       "      <td>...</td>\n",
       "      <td>...</td>\n",
       "      <td>...</td>\n",
       "      <td>...</td>\n",
       "      <td>...</td>\n",
       "      <td>...</td>\n",
       "      <td>...</td>\n",
       "      <td>...</td>\n",
       "      <td>...</td>\n",
       "      <td>...</td>\n",
       "      <td>...</td>\n",
       "      <td>...</td>\n",
       "      <td>...</td>\n",
       "      <td>...</td>\n",
       "      <td>...</td>\n",
       "      <td>...</td>\n",
       "      <td>...</td>\n",
       "      <td>...</td>\n",
       "      <td>...</td>\n",
       "    </tr>\n",
       "    <tr>\n",
       "      <th>9201115</th>\n",
       "      <td>2</td>\n",
       "      <td>4</td>\n",
       "      <td>4</td>\n",
       "      <td>0</td>\n",
       "      <td>80</td>\n",
       "      <td>109909024</td>\n",
       "      <td>99</td>\n",
       "      <td>100</td>\n",
       "      <td>1</td>\n",
       "      <td>100</td>\n",
       "      <td>0</td>\n",
       "      <td>87</td>\n",
       "      <td>487341148</td>\n",
       "      <td>95</td>\n",
       "      <td>5019</td>\n",
       "      <td>100</td>\n",
       "      <td>100</td>\n",
       "      <td>1</td>\n",
       "      <td>100</td>\n",
       "      <td>0</td>\n",
       "      <td>100</td>\n",
       "      <td>0</td>\n",
       "      <td>69</td>\n",
       "      <td>31</td>\n",
       "      <td>100</td>\n",
       "      <td>0</td>\n",
       "      <td>100</td>\n",
       "      <td>211</td>\n",
       "      <td>31</td>\n",
       "      <td>31</td>\n",
       "      <td>100</td>\n",
       "      <td>0</td>\n",
       "      <td>100</td>\n",
       "      <td>0</td>\n",
       "      <td>200</td>\n",
       "      <td>0</td>\n",
       "      <td>4996</td>\n",
       "      <td>33747256368</td>\n",
       "      <td>47906088444</td>\n",
       "    </tr>\n",
       "    <tr>\n",
       "      <th>9201116</th>\n",
       "      <td>2</td>\n",
       "      <td>4</td>\n",
       "      <td>4</td>\n",
       "      <td>0</td>\n",
       "      <td>76</td>\n",
       "      <td>38585856</td>\n",
       "      <td>97</td>\n",
       "      <td>100</td>\n",
       "      <td>3</td>\n",
       "      <td>100</td>\n",
       "      <td>0</td>\n",
       "      <td>84</td>\n",
       "      <td>256187033</td>\n",
       "      <td>97</td>\n",
       "      <td>2939</td>\n",
       "      <td>100</td>\n",
       "      <td>100</td>\n",
       "      <td>3</td>\n",
       "      <td>100</td>\n",
       "      <td>0</td>\n",
       "      <td>100</td>\n",
       "      <td>0</td>\n",
       "      <td>79</td>\n",
       "      <td>21</td>\n",
       "      <td>100</td>\n",
       "      <td>0</td>\n",
       "      <td>100</td>\n",
       "      <td>135</td>\n",
       "      <td>21</td>\n",
       "      <td>21</td>\n",
       "      <td>100</td>\n",
       "      <td>0</td>\n",
       "      <td>100</td>\n",
       "      <td>0</td>\n",
       "      <td>200</td>\n",
       "      <td>0</td>\n",
       "      <td>2921</td>\n",
       "      <td>24066520400</td>\n",
       "      <td>96578036396</td>\n",
       "    </tr>\n",
       "    <tr>\n",
       "      <th>9201117</th>\n",
       "      <td>2</td>\n",
       "      <td>0</td>\n",
       "      <td>3</td>\n",
       "      <td>0</td>\n",
       "      <td>75</td>\n",
       "      <td>32309592</td>\n",
       "      <td>98</td>\n",
       "      <td>100</td>\n",
       "      <td>2</td>\n",
       "      <td>100</td>\n",
       "      <td>0</td>\n",
       "      <td>79</td>\n",
       "      <td>84623606</td>\n",
       "      <td>99</td>\n",
       "      <td>1036</td>\n",
       "      <td>100</td>\n",
       "      <td>100</td>\n",
       "      <td>2</td>\n",
       "      <td>100</td>\n",
       "      <td>0</td>\n",
       "      <td>100</td>\n",
       "      <td>0</td>\n",
       "      <td>74</td>\n",
       "      <td>26</td>\n",
       "      <td>100</td>\n",
       "      <td>0</td>\n",
       "      <td>100</td>\n",
       "      <td>49</td>\n",
       "      <td>26</td>\n",
       "      <td>26</td>\n",
       "      <td>100</td>\n",
       "      <td>0</td>\n",
       "      <td>100</td>\n",
       "      <td>0</td>\n",
       "      <td>200</td>\n",
       "      <td>0</td>\n",
       "      <td>1029</td>\n",
       "      <td>22340154600</td>\n",
       "      <td>14069767910</td>\n",
       "    </tr>\n",
       "    <tr>\n",
       "      <th>9201118</th>\n",
       "      <td>2</td>\n",
       "      <td>4</td>\n",
       "      <td>4</td>\n",
       "      <td>0</td>\n",
       "      <td>76</td>\n",
       "      <td>41882280</td>\n",
       "      <td>99</td>\n",
       "      <td>100</td>\n",
       "      <td>1</td>\n",
       "      <td>100</td>\n",
       "      <td>0</td>\n",
       "      <td>77</td>\n",
       "      <td>46770891</td>\n",
       "      <td>100</td>\n",
       "      <td>407</td>\n",
       "      <td>100</td>\n",
       "      <td>100</td>\n",
       "      <td>1</td>\n",
       "      <td>100</td>\n",
       "      <td>0</td>\n",
       "      <td>100</td>\n",
       "      <td>0</td>\n",
       "      <td>66</td>\n",
       "      <td>34</td>\n",
       "      <td>100</td>\n",
       "      <td>0</td>\n",
       "      <td>100</td>\n",
       "      <td>22</td>\n",
       "      <td>34</td>\n",
       "      <td>34</td>\n",
       "      <td>100</td>\n",
       "      <td>0</td>\n",
       "      <td>100</td>\n",
       "      <td>0</td>\n",
       "      <td>200</td>\n",
       "      <td>0</td>\n",
       "      <td>405</td>\n",
       "      <td>22682193752</td>\n",
       "      <td>5924259866</td>\n",
       "    </tr>\n",
       "    <tr>\n",
       "      <th>9201119</th>\n",
       "      <td>2</td>\n",
       "      <td>0</td>\n",
       "      <td>3</td>\n",
       "      <td>0</td>\n",
       "      <td>82</td>\n",
       "      <td>163696568</td>\n",
       "      <td>99</td>\n",
       "      <td>100</td>\n",
       "      <td>1</td>\n",
       "      <td>100</td>\n",
       "      <td>0</td>\n",
       "      <td>82</td>\n",
       "      <td>151455333</td>\n",
       "      <td>98</td>\n",
       "      <td>2345</td>\n",
       "      <td>100</td>\n",
       "      <td>100</td>\n",
       "      <td>1</td>\n",
       "      <td>100</td>\n",
       "      <td>0</td>\n",
       "      <td>100</td>\n",
       "      <td>0</td>\n",
       "      <td>71</td>\n",
       "      <td>29</td>\n",
       "      <td>100</td>\n",
       "      <td>0</td>\n",
       "      <td>100</td>\n",
       "      <td>111</td>\n",
       "      <td>29</td>\n",
       "      <td>29</td>\n",
       "      <td>100</td>\n",
       "      <td>0</td>\n",
       "      <td>100</td>\n",
       "      <td>0</td>\n",
       "      <td>200</td>\n",
       "      <td>0</td>\n",
       "      <td>2330</td>\n",
       "      <td>18866796408</td>\n",
       "      <td>21580465948</td>\n",
       "    </tr>\n",
       "  </tbody>\n",
       "</table>\n",
       "<p>9201120 rows × 39 columns</p>\n",
       "</div>"
      ],
      "text/plain": [
       "         serial_number_ltr  model  capacity_terabytes  failure  \\\n",
       "0                        0      9                   1        0   \n",
       "1                        0      9                   1        0   \n",
       "2                        0      9                   1        0   \n",
       "3                        0      9                   1        0   \n",
       "4                        0      9                   1        0   \n",
       "...                    ...    ...                 ...      ...   \n",
       "9201115                  2      4                   4        0   \n",
       "9201116                  2      4                   4        0   \n",
       "9201117                  2      0                   3        0   \n",
       "9201118                  2      4                   4        0   \n",
       "9201119                  2      0                   3        0   \n",
       "\n",
       "         smart_1_normalized  smart_1_raw  smart_3_normalized  \\\n",
       "0                       111     41705776                  91   \n",
       "1                       118    169130600                  97   \n",
       "2                       118    189175216                  92   \n",
       "3                       109     21882992                  92   \n",
       "4                       117    154406968                  92   \n",
       "...                     ...          ...                 ...   \n",
       "9201115                  80    109909024                  99   \n",
       "9201116                  76     38585856                  97   \n",
       "9201117                  75     32309592                  98   \n",
       "9201118                  76     41882280                  99   \n",
       "9201119                  82    163696568                  99   \n",
       "\n",
       "         smart_4_normalized  smart_4_raw  smart_5_normalized  smart_5_raw  \\\n",
       "0                       100           26                 100            0   \n",
       "1                       100            7                 100            0   \n",
       "2                       100           12                 100            0   \n",
       "3                       100           10                 100            0   \n",
       "4                       100           11                 100            0   \n",
       "...                     ...          ...                 ...          ...   \n",
       "9201115                 100            1                 100            0   \n",
       "9201116                 100            3                 100            0   \n",
       "9201117                 100            2                 100            0   \n",
       "9201118                 100            1                 100            0   \n",
       "9201119                 100            1                 100            0   \n",
       "\n",
       "         smart_7_normalized  smart_7_raw  smart_9_normalized  smart_9_raw  \\\n",
       "0                        87    564826045                  38        55044   \n",
       "1                        85    390128894                  36        56329   \n",
       "2                        83    208738421                  34        58422   \n",
       "3                        87    621911450                  38        54620   \n",
       "4                        82    187608333                  38        54620   \n",
       "...                     ...          ...                 ...          ...   \n",
       "9201115                  87    487341148                  95         5019   \n",
       "9201116                  84    256187033                  97         2939   \n",
       "9201117                  79     84623606                  99         1036   \n",
       "9201118                  77     46770891                 100          407   \n",
       "9201119                  82    151455333                  98         2345   \n",
       "\n",
       "         smart_10_normalized  smart_12_normalized  smart_12_raw  \\\n",
       "0                        100                  100            26   \n",
       "1                        100                  100             3   \n",
       "2                        100                  100            11   \n",
       "3                        100                  100            10   \n",
       "4                        100                  100            11   \n",
       "...                      ...                  ...           ...   \n",
       "9201115                  100                  100             1   \n",
       "9201116                  100                  100             3   \n",
       "9201117                  100                  100             2   \n",
       "9201118                  100                  100             1   \n",
       "9201119                  100                  100             1   \n",
       "\n",
       "         smart_187_normalized  smart_187_raw  smart_188_normalized  \\\n",
       "0                         100              0                   100   \n",
       "1                         100              0                   100   \n",
       "2                         100              0                   100   \n",
       "3                         100              0                   100   \n",
       "4                         100              0                   100   \n",
       "...                       ...            ...                   ...   \n",
       "9201115                   100              0                   100   \n",
       "9201116                   100              0                   100   \n",
       "9201117                   100              0                   100   \n",
       "9201118                   100              0                   100   \n",
       "9201119                   100              0                   100   \n",
       "\n",
       "         smart_188_raw  smart_190_normalized  smart_190_raw  \\\n",
       "0                    0                    73             27   \n",
       "1                    0                    72             28   \n",
       "2                    0                    83             17   \n",
       "3                    0                    84             16   \n",
       "4                    0                    82             18   \n",
       "...                ...                   ...            ...   \n",
       "9201115              0                    69             31   \n",
       "9201116              0                    79             21   \n",
       "9201117              0                    74             26   \n",
       "9201118              0                    66             34   \n",
       "9201119              0                    71             29   \n",
       "\n",
       "         smart_192_normalized  smart_192_raw  smart_193_normalized  \\\n",
       "0                         100              3                    95   \n",
       "1                         100              0                    76   \n",
       "2                         100              2                    93   \n",
       "3                         100              0                    93   \n",
       "4                         100              0                    94   \n",
       "...                       ...            ...                   ...   \n",
       "9201115                   100              0                   100   \n",
       "9201116                   100              0                   100   \n",
       "9201117                   100              0                   100   \n",
       "9201118                   100              0                   100   \n",
       "9201119                   100              0                   100   \n",
       "\n",
       "         smart_193_raw  smart_194_normalized  smart_194_raw  \\\n",
       "0                11576                    27             27   \n",
       "1                49702                    28             28   \n",
       "2                14304                    17             17   \n",
       "3                15804                    16             16   \n",
       "4                12487                    18             18   \n",
       "...                ...                   ...            ...   \n",
       "9201115            211                    31             31   \n",
       "9201116            135                    21             21   \n",
       "9201117             49                    26             26   \n",
       "9201118             22                    34             34   \n",
       "9201119            111                    29             29   \n",
       "\n",
       "         smart_197_normalized  smart_197_raw  smart_198_normalized  \\\n",
       "0                         100              0                   100   \n",
       "1                         100              0                   100   \n",
       "2                         100              0                   100   \n",
       "3                         100              0                   100   \n",
       "4                         100              0                   100   \n",
       "...                       ...            ...                   ...   \n",
       "9201115                   100              0                   100   \n",
       "9201116                   100              0                   100   \n",
       "9201117                   100              0                   100   \n",
       "9201118                   100              0                   100   \n",
       "9201119                   100              0                   100   \n",
       "\n",
       "         smart_198_raw  smart_199_normalized  smart_199_raw  smart_240_raw  \\\n",
       "0                    0                   200              0          54939   \n",
       "1                    0                   200              0          56060   \n",
       "2                    0                   200              0          58377   \n",
       "3                    0                   200              0          54564   \n",
       "4                    0                   200              0          54576   \n",
       "...                ...                   ...            ...            ...   \n",
       "9201115              0                   200              0           4996   \n",
       "9201116              0                   200              0           2921   \n",
       "9201117              0                   200              0           1029   \n",
       "9201118              0                   200              0            405   \n",
       "9201119              0                   200              0           2330   \n",
       "\n",
       "         smart_241_raw  smart_242_raw  \n",
       "0          68556580648   370398316667  \n",
       "1          67729811048   409848867140  \n",
       "2          69088192984   714479920544  \n",
       "3          60854732600   355300153266  \n",
       "4          55863048616   338697039483  \n",
       "...                ...            ...  \n",
       "9201115    33747256368    47906088444  \n",
       "9201116    24066520400    96578036396  \n",
       "9201117    22340154600    14069767910  \n",
       "9201118    22682193752     5924259866  \n",
       "9201119    18866796408    21580465948  \n",
       "\n",
       "[9201120 rows x 39 columns]"
      ]
     },
     "execution_count": 13,
     "metadata": {},
     "output_type": "execute_result"
    }
   ],
   "source": [
    "q1_2022_seagate_df"
   ]
  },
  {
   "cell_type": "markdown",
   "id": "51713f3a-fd42-4068-8d60-0af6e7ee9474",
   "metadata": {},
   "source": [
    "## Split the data into X and y"
   ]
  },
  {
   "cell_type": "markdown",
   "id": "71f802db-8d4e-44bd-9e16-8dbe645cf874",
   "metadata": {},
   "source": [
    "The data is split into a `X` matrix and a `y` array, where the `X` matrix contains the features, and `y` array contains the labels (target).  "
   ]
  },
  {
   "cell_type": "code",
   "execution_count": 14,
   "id": "04a6efbf-d2b2-4ab0-b4e9-3ab86327b6b7",
   "metadata": {
    "execution": {
     "iopub.execute_input": "2022-10-22T03:03:36.753110Z",
     "iopub.status.busy": "2022-10-22T03:03:36.752693Z",
     "iopub.status.idle": "2022-10-22T03:03:39.716094Z",
     "shell.execute_reply": "2022-10-22T03:03:39.715529Z",
     "shell.execute_reply.started": "2022-10-22T03:03:36.753091Z"
    },
    "tags": []
   },
   "outputs": [],
   "source": [
    "# The Pandas DataFrame ('q1_2022_seagate_df') is used to split the data\n",
    "# into an 'X' matrix ('X') and 'y' array ('y').\n",
    "X = q1_2022_seagate_df.drop(columns='failure')\n",
    "y = q1_2022_seagate_df['failure']"
   ]
  },
  {
   "cell_type": "markdown",
   "id": "ecf40ce9-f005-4c6d-a0e1-7f0bb8639c8b",
   "metadata": {},
   "source": [
    "The `X` matrix only contains the features and no longer contains the `failure` (target).  "
   ]
  },
  {
   "cell_type": "code",
   "execution_count": 15,
   "id": "241c243c-948d-4661-9627-ea67f730741a",
   "metadata": {
    "execution": {
     "iopub.execute_input": "2022-10-22T03:03:39.717134Z",
     "iopub.status.busy": "2022-10-22T03:03:39.716857Z",
     "iopub.status.idle": "2022-10-22T03:03:39.725111Z",
     "shell.execute_reply": "2022-10-22T03:03:39.724645Z",
     "shell.execute_reply.started": "2022-10-22T03:03:39.717113Z"
    },
    "tags": []
   },
   "outputs": [
    {
     "name": "stdout",
     "output_type": "stream",
     "text": [
      "<class 'pandas.core.frame.DataFrame'>\n",
      "RangeIndex: 9201120 entries, 0 to 9201119\n",
      "Data columns (total 38 columns):\n",
      " #   Column                Dtype\n",
      "---  ------                -----\n",
      " 0   serial_number_ltr     int64\n",
      " 1   model                 int64\n",
      " 2   capacity_terabytes    int64\n",
      " 3   smart_1_normalized    int64\n",
      " 4   smart_1_raw           int64\n",
      " 5   smart_3_normalized    int64\n",
      " 6   smart_4_normalized    int64\n",
      " 7   smart_4_raw           int64\n",
      " 8   smart_5_normalized    int64\n",
      " 9   smart_5_raw           int64\n",
      " 10  smart_7_normalized    int64\n",
      " 11  smart_7_raw           int64\n",
      " 12  smart_9_normalized    int64\n",
      " 13  smart_9_raw           int64\n",
      " 14  smart_10_normalized   int64\n",
      " 15  smart_12_normalized   int64\n",
      " 16  smart_12_raw          int64\n",
      " 17  smart_187_normalized  int64\n",
      " 18  smart_187_raw         int64\n",
      " 19  smart_188_normalized  int64\n",
      " 20  smart_188_raw         int64\n",
      " 21  smart_190_normalized  int64\n",
      " 22  smart_190_raw         int64\n",
      " 23  smart_192_normalized  int64\n",
      " 24  smart_192_raw         int64\n",
      " 25  smart_193_normalized  int64\n",
      " 26  smart_193_raw         int64\n",
      " 27  smart_194_normalized  int64\n",
      " 28  smart_194_raw         int64\n",
      " 29  smart_197_normalized  int64\n",
      " 30  smart_197_raw         int64\n",
      " 31  smart_198_normalized  int64\n",
      " 32  smart_198_raw         int64\n",
      " 33  smart_199_normalized  int64\n",
      " 34  smart_199_raw         int64\n",
      " 35  smart_240_raw         int64\n",
      " 36  smart_241_raw         int64\n",
      " 37  smart_242_raw         int64\n",
      "dtypes: int64(38)\n",
      "memory usage: 2.6 GB\n"
     ]
    }
   ],
   "source": [
    "X.info()"
   ]
  },
  {
   "cell_type": "markdown",
   "id": "a37369e7-6589-43bf-aa30-7a5298d63c0c",
   "metadata": {},
   "source": [
    "The first 5 rows of the `X` matrix are examined to ensure that the data is consistent across all columns.  "
   ]
  },
  {
   "cell_type": "code",
   "execution_count": 16,
   "id": "5a6e6828-bf86-4c1c-8abe-cc6c5c780377",
   "metadata": {
    "execution": {
     "iopub.execute_input": "2022-10-22T03:03:39.725999Z",
     "iopub.status.busy": "2022-10-22T03:03:39.725708Z",
     "iopub.status.idle": "2022-10-22T03:03:39.739281Z",
     "shell.execute_reply": "2022-10-22T03:03:39.738858Z",
     "shell.execute_reply.started": "2022-10-22T03:03:39.725973Z"
    },
    "tags": []
   },
   "outputs": [
    {
     "data": {
      "text/html": [
       "<div>\n",
       "<style scoped>\n",
       "    .dataframe tbody tr th:only-of-type {\n",
       "        vertical-align: middle;\n",
       "    }\n",
       "\n",
       "    .dataframe tbody tr th {\n",
       "        vertical-align: top;\n",
       "    }\n",
       "\n",
       "    .dataframe thead th {\n",
       "        text-align: right;\n",
       "    }\n",
       "</style>\n",
       "<table border=\"1\" class=\"dataframe\">\n",
       "  <thead>\n",
       "    <tr style=\"text-align: right;\">\n",
       "      <th></th>\n",
       "      <th>serial_number_ltr</th>\n",
       "      <th>model</th>\n",
       "      <th>capacity_terabytes</th>\n",
       "      <th>smart_1_normalized</th>\n",
       "      <th>smart_1_raw</th>\n",
       "      <th>smart_3_normalized</th>\n",
       "      <th>smart_4_normalized</th>\n",
       "      <th>smart_4_raw</th>\n",
       "      <th>smart_5_normalized</th>\n",
       "      <th>smart_5_raw</th>\n",
       "      <th>smart_7_normalized</th>\n",
       "      <th>smart_7_raw</th>\n",
       "      <th>smart_9_normalized</th>\n",
       "      <th>smart_9_raw</th>\n",
       "      <th>smart_10_normalized</th>\n",
       "      <th>smart_12_normalized</th>\n",
       "      <th>smart_12_raw</th>\n",
       "      <th>smart_187_normalized</th>\n",
       "      <th>smart_187_raw</th>\n",
       "      <th>smart_188_normalized</th>\n",
       "      <th>smart_188_raw</th>\n",
       "      <th>smart_190_normalized</th>\n",
       "      <th>smart_190_raw</th>\n",
       "      <th>smart_192_normalized</th>\n",
       "      <th>smart_192_raw</th>\n",
       "      <th>smart_193_normalized</th>\n",
       "      <th>smart_193_raw</th>\n",
       "      <th>smart_194_normalized</th>\n",
       "      <th>smart_194_raw</th>\n",
       "      <th>smart_197_normalized</th>\n",
       "      <th>smart_197_raw</th>\n",
       "      <th>smart_198_normalized</th>\n",
       "      <th>smart_198_raw</th>\n",
       "      <th>smart_199_normalized</th>\n",
       "      <th>smart_199_raw</th>\n",
       "      <th>smart_240_raw</th>\n",
       "      <th>smart_241_raw</th>\n",
       "      <th>smart_242_raw</th>\n",
       "    </tr>\n",
       "  </thead>\n",
       "  <tbody>\n",
       "    <tr>\n",
       "      <th>0</th>\n",
       "      <td>0</td>\n",
       "      <td>9</td>\n",
       "      <td>1</td>\n",
       "      <td>111</td>\n",
       "      <td>41705776</td>\n",
       "      <td>91</td>\n",
       "      <td>100</td>\n",
       "      <td>26</td>\n",
       "      <td>100</td>\n",
       "      <td>0</td>\n",
       "      <td>87</td>\n",
       "      <td>564826045</td>\n",
       "      <td>38</td>\n",
       "      <td>55044</td>\n",
       "      <td>100</td>\n",
       "      <td>100</td>\n",
       "      <td>26</td>\n",
       "      <td>100</td>\n",
       "      <td>0</td>\n",
       "      <td>100</td>\n",
       "      <td>0</td>\n",
       "      <td>73</td>\n",
       "      <td>27</td>\n",
       "      <td>100</td>\n",
       "      <td>3</td>\n",
       "      <td>95</td>\n",
       "      <td>11576</td>\n",
       "      <td>27</td>\n",
       "      <td>27</td>\n",
       "      <td>100</td>\n",
       "      <td>0</td>\n",
       "      <td>100</td>\n",
       "      <td>0</td>\n",
       "      <td>200</td>\n",
       "      <td>0</td>\n",
       "      <td>54939</td>\n",
       "      <td>68556580648</td>\n",
       "      <td>370398316667</td>\n",
       "    </tr>\n",
       "    <tr>\n",
       "      <th>1</th>\n",
       "      <td>0</td>\n",
       "      <td>9</td>\n",
       "      <td>1</td>\n",
       "      <td>118</td>\n",
       "      <td>169130600</td>\n",
       "      <td>97</td>\n",
       "      <td>100</td>\n",
       "      <td>7</td>\n",
       "      <td>100</td>\n",
       "      <td>0</td>\n",
       "      <td>85</td>\n",
       "      <td>390128894</td>\n",
       "      <td>36</td>\n",
       "      <td>56329</td>\n",
       "      <td>100</td>\n",
       "      <td>100</td>\n",
       "      <td>3</td>\n",
       "      <td>100</td>\n",
       "      <td>0</td>\n",
       "      <td>100</td>\n",
       "      <td>0</td>\n",
       "      <td>72</td>\n",
       "      <td>28</td>\n",
       "      <td>100</td>\n",
       "      <td>0</td>\n",
       "      <td>76</td>\n",
       "      <td>49702</td>\n",
       "      <td>28</td>\n",
       "      <td>28</td>\n",
       "      <td>100</td>\n",
       "      <td>0</td>\n",
       "      <td>100</td>\n",
       "      <td>0</td>\n",
       "      <td>200</td>\n",
       "      <td>0</td>\n",
       "      <td>56060</td>\n",
       "      <td>67729811048</td>\n",
       "      <td>409848867140</td>\n",
       "    </tr>\n",
       "    <tr>\n",
       "      <th>2</th>\n",
       "      <td>0</td>\n",
       "      <td>9</td>\n",
       "      <td>1</td>\n",
       "      <td>118</td>\n",
       "      <td>189175216</td>\n",
       "      <td>92</td>\n",
       "      <td>100</td>\n",
       "      <td>12</td>\n",
       "      <td>100</td>\n",
       "      <td>0</td>\n",
       "      <td>83</td>\n",
       "      <td>208738421</td>\n",
       "      <td>34</td>\n",
       "      <td>58422</td>\n",
       "      <td>100</td>\n",
       "      <td>100</td>\n",
       "      <td>11</td>\n",
       "      <td>100</td>\n",
       "      <td>0</td>\n",
       "      <td>100</td>\n",
       "      <td>0</td>\n",
       "      <td>83</td>\n",
       "      <td>17</td>\n",
       "      <td>100</td>\n",
       "      <td>2</td>\n",
       "      <td>93</td>\n",
       "      <td>14304</td>\n",
       "      <td>17</td>\n",
       "      <td>17</td>\n",
       "      <td>100</td>\n",
       "      <td>0</td>\n",
       "      <td>100</td>\n",
       "      <td>0</td>\n",
       "      <td>200</td>\n",
       "      <td>0</td>\n",
       "      <td>58377</td>\n",
       "      <td>69088192984</td>\n",
       "      <td>714479920544</td>\n",
       "    </tr>\n",
       "    <tr>\n",
       "      <th>3</th>\n",
       "      <td>0</td>\n",
       "      <td>9</td>\n",
       "      <td>1</td>\n",
       "      <td>109</td>\n",
       "      <td>21882992</td>\n",
       "      <td>92</td>\n",
       "      <td>100</td>\n",
       "      <td>10</td>\n",
       "      <td>100</td>\n",
       "      <td>0</td>\n",
       "      <td>87</td>\n",
       "      <td>621911450</td>\n",
       "      <td>38</td>\n",
       "      <td>54620</td>\n",
       "      <td>100</td>\n",
       "      <td>100</td>\n",
       "      <td>10</td>\n",
       "      <td>100</td>\n",
       "      <td>0</td>\n",
       "      <td>100</td>\n",
       "      <td>0</td>\n",
       "      <td>84</td>\n",
       "      <td>16</td>\n",
       "      <td>100</td>\n",
       "      <td>0</td>\n",
       "      <td>93</td>\n",
       "      <td>15804</td>\n",
       "      <td>16</td>\n",
       "      <td>16</td>\n",
       "      <td>100</td>\n",
       "      <td>0</td>\n",
       "      <td>100</td>\n",
       "      <td>0</td>\n",
       "      <td>200</td>\n",
       "      <td>0</td>\n",
       "      <td>54564</td>\n",
       "      <td>60854732600</td>\n",
       "      <td>355300153266</td>\n",
       "    </tr>\n",
       "    <tr>\n",
       "      <th>4</th>\n",
       "      <td>0</td>\n",
       "      <td>9</td>\n",
       "      <td>1</td>\n",
       "      <td>117</td>\n",
       "      <td>154406968</td>\n",
       "      <td>92</td>\n",
       "      <td>100</td>\n",
       "      <td>11</td>\n",
       "      <td>100</td>\n",
       "      <td>0</td>\n",
       "      <td>82</td>\n",
       "      <td>187608333</td>\n",
       "      <td>38</td>\n",
       "      <td>54620</td>\n",
       "      <td>100</td>\n",
       "      <td>100</td>\n",
       "      <td>11</td>\n",
       "      <td>100</td>\n",
       "      <td>0</td>\n",
       "      <td>100</td>\n",
       "      <td>0</td>\n",
       "      <td>82</td>\n",
       "      <td>18</td>\n",
       "      <td>100</td>\n",
       "      <td>0</td>\n",
       "      <td>94</td>\n",
       "      <td>12487</td>\n",
       "      <td>18</td>\n",
       "      <td>18</td>\n",
       "      <td>100</td>\n",
       "      <td>0</td>\n",
       "      <td>100</td>\n",
       "      <td>0</td>\n",
       "      <td>200</td>\n",
       "      <td>0</td>\n",
       "      <td>54576</td>\n",
       "      <td>55863048616</td>\n",
       "      <td>338697039483</td>\n",
       "    </tr>\n",
       "  </tbody>\n",
       "</table>\n",
       "</div>"
      ],
      "text/plain": [
       "   serial_number_ltr  model  capacity_terabytes  smart_1_normalized  \\\n",
       "0                  0      9                   1                 111   \n",
       "1                  0      9                   1                 118   \n",
       "2                  0      9                   1                 118   \n",
       "3                  0      9                   1                 109   \n",
       "4                  0      9                   1                 117   \n",
       "\n",
       "   smart_1_raw  smart_3_normalized  smart_4_normalized  smart_4_raw  \\\n",
       "0     41705776                  91                 100           26   \n",
       "1    169130600                  97                 100            7   \n",
       "2    189175216                  92                 100           12   \n",
       "3     21882992                  92                 100           10   \n",
       "4    154406968                  92                 100           11   \n",
       "\n",
       "   smart_5_normalized  smart_5_raw  smart_7_normalized  smart_7_raw  \\\n",
       "0                 100            0                  87    564826045   \n",
       "1                 100            0                  85    390128894   \n",
       "2                 100            0                  83    208738421   \n",
       "3                 100            0                  87    621911450   \n",
       "4                 100            0                  82    187608333   \n",
       "\n",
       "   smart_9_normalized  smart_9_raw  smart_10_normalized  smart_12_normalized  \\\n",
       "0                  38        55044                  100                  100   \n",
       "1                  36        56329                  100                  100   \n",
       "2                  34        58422                  100                  100   \n",
       "3                  38        54620                  100                  100   \n",
       "4                  38        54620                  100                  100   \n",
       "\n",
       "   smart_12_raw  smart_187_normalized  smart_187_raw  smart_188_normalized  \\\n",
       "0            26                   100              0                   100   \n",
       "1             3                   100              0                   100   \n",
       "2            11                   100              0                   100   \n",
       "3            10                   100              0                   100   \n",
       "4            11                   100              0                   100   \n",
       "\n",
       "   smart_188_raw  smart_190_normalized  smart_190_raw  smart_192_normalized  \\\n",
       "0              0                    73             27                   100   \n",
       "1              0                    72             28                   100   \n",
       "2              0                    83             17                   100   \n",
       "3              0                    84             16                   100   \n",
       "4              0                    82             18                   100   \n",
       "\n",
       "   smart_192_raw  smart_193_normalized  smart_193_raw  smart_194_normalized  \\\n",
       "0              3                    95          11576                    27   \n",
       "1              0                    76          49702                    28   \n",
       "2              2                    93          14304                    17   \n",
       "3              0                    93          15804                    16   \n",
       "4              0                    94          12487                    18   \n",
       "\n",
       "   smart_194_raw  smart_197_normalized  smart_197_raw  smart_198_normalized  \\\n",
       "0             27                   100              0                   100   \n",
       "1             28                   100              0                   100   \n",
       "2             17                   100              0                   100   \n",
       "3             16                   100              0                   100   \n",
       "4             18                   100              0                   100   \n",
       "\n",
       "   smart_198_raw  smart_199_normalized  smart_199_raw  smart_240_raw  \\\n",
       "0              0                   200              0          54939   \n",
       "1              0                   200              0          56060   \n",
       "2              0                   200              0          58377   \n",
       "3              0                   200              0          54564   \n",
       "4              0                   200              0          54576   \n",
       "\n",
       "   smart_241_raw  smart_242_raw  \n",
       "0    68556580648   370398316667  \n",
       "1    67729811048   409848867140  \n",
       "2    69088192984   714479920544  \n",
       "3    60854732600   355300153266  \n",
       "4    55863048616   338697039483  "
      ]
     },
     "execution_count": 16,
     "metadata": {},
     "output_type": "execute_result"
    }
   ],
   "source": [
    "X.head(5)"
   ]
  },
  {
   "cell_type": "markdown",
   "id": "f4cfa96f-8a8a-482b-aca7-60d7cbabb2e4",
   "metadata": {},
   "source": [
    "The `y` array only contains the `failure` (target) and does not include the features.  "
   ]
  },
  {
   "cell_type": "code",
   "execution_count": 17,
   "id": "0476ea0c-9772-46f4-8785-a5443c8d98f3",
   "metadata": {
    "execution": {
     "iopub.execute_input": "2022-10-22T03:03:39.740245Z",
     "iopub.status.busy": "2022-10-22T03:03:39.739861Z",
     "iopub.status.idle": "2022-10-22T03:03:39.811894Z",
     "shell.execute_reply": "2022-10-22T03:03:39.811356Z",
     "shell.execute_reply.started": "2022-10-22T03:03:39.740227Z"
    },
    "tags": []
   },
   "outputs": [
    {
     "name": "stdout",
     "output_type": "stream",
     "text": [
      "<class 'pandas.core.series.Series'>\n",
      "RangeIndex: 9201120 entries, 0 to 9201119\n",
      "Series name: failure\n",
      "Non-Null Count    Dtype\n",
      "--------------    -----\n",
      "9201120 non-null  int64\n",
      "dtypes: int64(1)\n",
      "memory usage: 70.2 MB\n"
     ]
    }
   ],
   "source": [
    "y.info()"
   ]
  },
  {
   "cell_type": "markdown",
   "id": "50bcae94-67dd-428e-b856-2055e5d57839",
   "metadata": {},
   "source": [
    "The first 5 values of the `y` array are examined.  "
   ]
  },
  {
   "cell_type": "code",
   "execution_count": 18,
   "id": "dbacfefb-81a9-444b-8a4a-5db9be49d86c",
   "metadata": {
    "execution": {
     "iopub.execute_input": "2022-10-22T03:03:39.813050Z",
     "iopub.status.busy": "2022-10-22T03:03:39.812614Z",
     "iopub.status.idle": "2022-10-22T03:03:39.816765Z",
     "shell.execute_reply": "2022-10-22T03:03:39.816336Z",
     "shell.execute_reply.started": "2022-10-22T03:03:39.813030Z"
    },
    "tags": []
   },
   "outputs": [
    {
     "data": {
      "text/plain": [
       "0    0\n",
       "1    0\n",
       "2    0\n",
       "3    0\n",
       "4    0\n",
       "Name: failure, dtype: int64"
      ]
     },
     "execution_count": 18,
     "metadata": {},
     "output_type": "execute_result"
    }
   ],
   "source": [
    "y[0:5]"
   ]
  },
  {
   "cell_type": "markdown",
   "id": "70672d28-eacf-456e-bea0-56e970b3bae2",
   "metadata": {},
   "source": [
    "The `y` or label contains 9,198,292 `0` or `functional` and 2,828 `1` or `non-functional` hard drive snapshots.  "
   ]
  },
  {
   "cell_type": "code",
   "execution_count": 19,
   "id": "373a84f2-6af5-4f64-887d-f4aaf54fce02",
   "metadata": {
    "execution": {
     "iopub.execute_input": "2022-10-22T03:03:39.817636Z",
     "iopub.status.busy": "2022-10-22T03:03:39.817371Z",
     "iopub.status.idle": "2022-10-22T03:03:39.872274Z",
     "shell.execute_reply": "2022-10-22T03:03:39.871841Z",
     "shell.execute_reply.started": "2022-10-22T03:03:39.817618Z"
    },
    "tags": []
   },
   "outputs": [
    {
     "data": {
      "text/html": [
       "<div>\n",
       "<style scoped>\n",
       "    .dataframe tbody tr th:only-of-type {\n",
       "        vertical-align: middle;\n",
       "    }\n",
       "\n",
       "    .dataframe tbody tr th {\n",
       "        vertical-align: top;\n",
       "    }\n",
       "\n",
       "    .dataframe thead th {\n",
       "        text-align: right;\n",
       "    }\n",
       "</style>\n",
       "<table border=\"1\" class=\"dataframe\">\n",
       "  <thead>\n",
       "    <tr style=\"text-align: right;\">\n",
       "      <th></th>\n",
       "      <th>count</th>\n",
       "    </tr>\n",
       "  </thead>\n",
       "  <tbody>\n",
       "    <tr>\n",
       "      <th>0</th>\n",
       "      <td>9198292</td>\n",
       "    </tr>\n",
       "    <tr>\n",
       "      <th>1</th>\n",
       "      <td>2828</td>\n",
       "    </tr>\n",
       "  </tbody>\n",
       "</table>\n",
       "</div>"
      ],
      "text/plain": [
       "     count\n",
       "0  9198292\n",
       "1     2828"
      ]
     },
     "execution_count": 19,
     "metadata": {},
     "output_type": "execute_result"
    }
   ],
   "source": [
    "y.value_counts().to_frame('count')"
   ]
  },
  {
   "cell_type": "markdown",
   "id": "c0417a47-5183-43c5-964b-843a520d4891",
   "metadata": {},
   "source": [
    "The ratio for `failure` of `0` or `functional` to `1` or `non-functional` is 3253:1 (9198292/2828); very highly imbalanced data. However, the percentage of `1` or `non-functional` remains at approximately 0.03%.  "
   ]
  },
  {
   "cell_type": "code",
   "execution_count": 20,
   "id": "3c59af48-a786-418e-91d0-2c9a1aa881c2",
   "metadata": {
    "execution": {
     "iopub.execute_input": "2022-10-22T03:03:39.873200Z",
     "iopub.status.busy": "2022-10-22T03:03:39.872864Z",
     "iopub.status.idle": "2022-10-22T03:03:39.876493Z",
     "shell.execute_reply": "2022-10-22T03:03:39.876075Z",
     "shell.execute_reply.started": "2022-10-22T03:03:39.873182Z"
    },
    "tags": []
   },
   "outputs": [
    {
     "data": {
      "text/plain": [
       "3253.0"
      ]
     },
     "execution_count": 20,
     "metadata": {},
     "output_type": "execute_result"
    }
   ],
   "source": [
    "round(9198292 / 2828, 0)"
   ]
  },
  {
   "cell_type": "code",
   "execution_count": 21,
   "id": "0e37a3ce-b136-4d76-8a41-385a4b5ddf2a",
   "metadata": {
    "execution": {
     "iopub.execute_input": "2022-10-22T03:03:39.877224Z",
     "iopub.status.busy": "2022-10-22T03:03:39.877045Z",
     "iopub.status.idle": "2022-10-22T03:03:39.881023Z",
     "shell.execute_reply": "2022-10-22T03:03:39.880607Z",
     "shell.execute_reply.started": "2022-10-22T03:03:39.877207Z"
    },
    "tags": []
   },
   "outputs": [
    {
     "data": {
      "text/plain": [
       "0.03"
      ]
     },
     "execution_count": 21,
     "metadata": {},
     "output_type": "execute_result"
    }
   ],
   "source": [
    "non_func_percent(9198292, 2828)"
   ]
  },
  {
   "cell_type": "markdown",
   "id": "8e5f5492-8fc9-4a4c-849a-b3e077965049",
   "metadata": {},
   "source": [
    "## Split the data into train and test  "
   ]
  },
  {
   "cell_type": "markdown",
   "id": "84783639-9428-43f1-9d40-0f3e76a8683d",
   "metadata": {},
   "source": [
    "The data is further split into `train` and `test`. The `train` data will be used to train and the `test` data will be used to validate the model on unseen data.  "
   ]
  },
  {
   "cell_type": "code",
   "execution_count": 22,
   "id": "a9063950-452a-4614-bd06-691240802a7e",
   "metadata": {
    "execution": {
     "iopub.execute_input": "2022-10-22T03:03:39.884003Z",
     "iopub.status.busy": "2022-10-22T03:03:39.883679Z",
     "iopub.status.idle": "2022-10-22T03:03:47.469613Z",
     "shell.execute_reply": "2022-10-22T03:03:47.469054Z",
     "shell.execute_reply.started": "2022-10-22T03:03:39.883985Z"
    },
    "tags": []
   },
   "outputs": [],
   "source": [
    "# An 'X' matrix ('X') and 'y' array ('y') are split into train and test \n",
    "# datasets.\n",
    "# The train size is 80% and the test size is 20%.\n",
    "# A random state of '42' is used for reproducibility and stratify is\n",
    "# implemented to ensure observations from both classes.\n",
    "X_train, X_test, y_train, y_test = train_test_split(\n",
    "    X, y, \n",
    "    test_size=0.20, \n",
    "    random_state=42, \n",
    "    stratify=y)"
   ]
  },
  {
   "cell_type": "code",
   "execution_count": 23,
   "id": "cca7da27-0de4-4dc7-a531-7af0a0cf29d3",
   "metadata": {
    "execution": {
     "iopub.execute_input": "2022-10-22T03:03:47.470573Z",
     "iopub.status.busy": "2022-10-22T03:03:47.470358Z",
     "iopub.status.idle": "2022-10-22T03:03:47.474117Z",
     "shell.execute_reply": "2022-10-22T03:03:47.473646Z",
     "shell.execute_reply.started": "2022-10-22T03:03:47.470554Z"
    },
    "tags": []
   },
   "outputs": [
    {
     "name": "stdout",
     "output_type": "stream",
     "text": [
      "X train data size: (7360896, 38)\n",
      "y train data size: (7360896,)\n",
      "X test data size: (1840224, 38)\n",
      "y test data size: (1840224,)\n"
     ]
    }
   ],
   "source": [
    "print(\"X train data size:\", X_train.shape)\n",
    "print(\"y train data size:\", y_train.shape)\n",
    "print(\"X test data size:\", X_test.shape)\n",
    "print(\"y test data size:\", y_test.shape)"
   ]
  },
  {
   "cell_type": "markdown",
   "id": "08bf0a68-4801-4acd-bc5f-f72045747d74",
   "metadata": {},
   "source": [
    "Confirmed that the `X_train` matrix only contains the features and does not include the `failure` (target).  "
   ]
  },
  {
   "cell_type": "code",
   "execution_count": 24,
   "id": "bfaf95e0-996a-492b-bc75-659484d35483",
   "metadata": {
    "execution": {
     "iopub.execute_input": "2022-10-22T03:03:47.474889Z",
     "iopub.status.busy": "2022-10-22T03:03:47.474706Z",
     "iopub.status.idle": "2022-10-22T03:03:47.483525Z",
     "shell.execute_reply": "2022-10-22T03:03:47.483072Z",
     "shell.execute_reply.started": "2022-10-22T03:03:47.474872Z"
    },
    "tags": []
   },
   "outputs": [
    {
     "name": "stdout",
     "output_type": "stream",
     "text": [
      "<class 'pandas.core.frame.DataFrame'>\n",
      "Int64Index: 7360896 entries, 2722206 to 3860611\n",
      "Data columns (total 38 columns):\n",
      " #   Column                Dtype\n",
      "---  ------                -----\n",
      " 0   serial_number_ltr     int64\n",
      " 1   model                 int64\n",
      " 2   capacity_terabytes    int64\n",
      " 3   smart_1_normalized    int64\n",
      " 4   smart_1_raw           int64\n",
      " 5   smart_3_normalized    int64\n",
      " 6   smart_4_normalized    int64\n",
      " 7   smart_4_raw           int64\n",
      " 8   smart_5_normalized    int64\n",
      " 9   smart_5_raw           int64\n",
      " 10  smart_7_normalized    int64\n",
      " 11  smart_7_raw           int64\n",
      " 12  smart_9_normalized    int64\n",
      " 13  smart_9_raw           int64\n",
      " 14  smart_10_normalized   int64\n",
      " 15  smart_12_normalized   int64\n",
      " 16  smart_12_raw          int64\n",
      " 17  smart_187_normalized  int64\n",
      " 18  smart_187_raw         int64\n",
      " 19  smart_188_normalized  int64\n",
      " 20  smart_188_raw         int64\n",
      " 21  smart_190_normalized  int64\n",
      " 22  smart_190_raw         int64\n",
      " 23  smart_192_normalized  int64\n",
      " 24  smart_192_raw         int64\n",
      " 25  smart_193_normalized  int64\n",
      " 26  smart_193_raw         int64\n",
      " 27  smart_194_normalized  int64\n",
      " 28  smart_194_raw         int64\n",
      " 29  smart_197_normalized  int64\n",
      " 30  smart_197_raw         int64\n",
      " 31  smart_198_normalized  int64\n",
      " 32  smart_198_raw         int64\n",
      " 33  smart_199_normalized  int64\n",
      " 34  smart_199_raw         int64\n",
      " 35  smart_240_raw         int64\n",
      " 36  smart_241_raw         int64\n",
      " 37  smart_242_raw         int64\n",
      "dtypes: int64(38)\n",
      "memory usage: 2.1 GB\n"
     ]
    }
   ],
   "source": [
    "X_train.info()"
   ]
  },
  {
   "cell_type": "markdown",
   "id": "dc47696b-c835-4940-b1c1-c00a3de1035c",
   "metadata": {},
   "source": [
    "The first 5 rows of the `X_train` matrix are examined to ensure that the data is consistent across all columns.  "
   ]
  },
  {
   "cell_type": "code",
   "execution_count": 25,
   "id": "a44f314a-2b70-44a7-96d1-e27ee73bb1eb",
   "metadata": {
    "execution": {
     "iopub.execute_input": "2022-10-22T03:03:47.484393Z",
     "iopub.status.busy": "2022-10-22T03:03:47.484128Z",
     "iopub.status.idle": "2022-10-22T03:03:47.497183Z",
     "shell.execute_reply": "2022-10-22T03:03:47.496755Z",
     "shell.execute_reply.started": "2022-10-22T03:03:47.484376Z"
    },
    "tags": []
   },
   "outputs": [
    {
     "data": {
      "text/html": [
       "<div>\n",
       "<style scoped>\n",
       "    .dataframe tbody tr th:only-of-type {\n",
       "        vertical-align: middle;\n",
       "    }\n",
       "\n",
       "    .dataframe tbody tr th {\n",
       "        vertical-align: top;\n",
       "    }\n",
       "\n",
       "    .dataframe thead th {\n",
       "        text-align: right;\n",
       "    }\n",
       "</style>\n",
       "<table border=\"1\" class=\"dataframe\">\n",
       "  <thead>\n",
       "    <tr style=\"text-align: right;\">\n",
       "      <th></th>\n",
       "      <th>serial_number_ltr</th>\n",
       "      <th>model</th>\n",
       "      <th>capacity_terabytes</th>\n",
       "      <th>smart_1_normalized</th>\n",
       "      <th>smart_1_raw</th>\n",
       "      <th>smart_3_normalized</th>\n",
       "      <th>smart_4_normalized</th>\n",
       "      <th>smart_4_raw</th>\n",
       "      <th>smart_5_normalized</th>\n",
       "      <th>smart_5_raw</th>\n",
       "      <th>smart_7_normalized</th>\n",
       "      <th>smart_7_raw</th>\n",
       "      <th>smart_9_normalized</th>\n",
       "      <th>smart_9_raw</th>\n",
       "      <th>smart_10_normalized</th>\n",
       "      <th>smart_12_normalized</th>\n",
       "      <th>smart_12_raw</th>\n",
       "      <th>smart_187_normalized</th>\n",
       "      <th>smart_187_raw</th>\n",
       "      <th>smart_188_normalized</th>\n",
       "      <th>smart_188_raw</th>\n",
       "      <th>smart_190_normalized</th>\n",
       "      <th>smart_190_raw</th>\n",
       "      <th>smart_192_normalized</th>\n",
       "      <th>smart_192_raw</th>\n",
       "      <th>smart_193_normalized</th>\n",
       "      <th>smart_193_raw</th>\n",
       "      <th>smart_194_normalized</th>\n",
       "      <th>smart_194_raw</th>\n",
       "      <th>smart_197_normalized</th>\n",
       "      <th>smart_197_raw</th>\n",
       "      <th>smart_198_normalized</th>\n",
       "      <th>smart_198_raw</th>\n",
       "      <th>smart_199_normalized</th>\n",
       "      <th>smart_199_raw</th>\n",
       "      <th>smart_240_raw</th>\n",
       "      <th>smart_241_raw</th>\n",
       "      <th>smart_242_raw</th>\n",
       "    </tr>\n",
       "  </thead>\n",
       "  <tbody>\n",
       "    <tr>\n",
       "      <th>2722206</th>\n",
       "      <td>2</td>\n",
       "      <td>6</td>\n",
       "      <td>5</td>\n",
       "      <td>83</td>\n",
       "      <td>180931624</td>\n",
       "      <td>98</td>\n",
       "      <td>100</td>\n",
       "      <td>2</td>\n",
       "      <td>100</td>\n",
       "      <td>0</td>\n",
       "      <td>89</td>\n",
       "      <td>726114280</td>\n",
       "      <td>87</td>\n",
       "      <td>11761</td>\n",
       "      <td>100</td>\n",
       "      <td>100</td>\n",
       "      <td>2</td>\n",
       "      <td>100</td>\n",
       "      <td>0</td>\n",
       "      <td>100</td>\n",
       "      <td>0</td>\n",
       "      <td>74</td>\n",
       "      <td>26</td>\n",
       "      <td>100</td>\n",
       "      <td>1</td>\n",
       "      <td>100</td>\n",
       "      <td>1252</td>\n",
       "      <td>26</td>\n",
       "      <td>26</td>\n",
       "      <td>100</td>\n",
       "      <td>0</td>\n",
       "      <td>100</td>\n",
       "      <td>0</td>\n",
       "      <td>200</td>\n",
       "      <td>0</td>\n",
       "      <td>11388</td>\n",
       "      <td>76514038152</td>\n",
       "      <td>161704380238</td>\n",
       "    </tr>\n",
       "    <tr>\n",
       "      <th>5676868</th>\n",
       "      <td>2</td>\n",
       "      <td>4</td>\n",
       "      <td>4</td>\n",
       "      <td>83</td>\n",
       "      <td>211399344</td>\n",
       "      <td>95</td>\n",
       "      <td>100</td>\n",
       "      <td>4</td>\n",
       "      <td>100</td>\n",
       "      <td>0</td>\n",
       "      <td>83</td>\n",
       "      <td>206632265</td>\n",
       "      <td>87</td>\n",
       "      <td>11591</td>\n",
       "      <td>100</td>\n",
       "      <td>100</td>\n",
       "      <td>4</td>\n",
       "      <td>100</td>\n",
       "      <td>0</td>\n",
       "      <td>100</td>\n",
       "      <td>0</td>\n",
       "      <td>67</td>\n",
       "      <td>33</td>\n",
       "      <td>100</td>\n",
       "      <td>1</td>\n",
       "      <td>100</td>\n",
       "      <td>577</td>\n",
       "      <td>33</td>\n",
       "      <td>33</td>\n",
       "      <td>100</td>\n",
       "      <td>0</td>\n",
       "      <td>100</td>\n",
       "      <td>0</td>\n",
       "      <td>200</td>\n",
       "      <td>0</td>\n",
       "      <td>11513</td>\n",
       "      <td>31146046360</td>\n",
       "      <td>143873766603</td>\n",
       "    </tr>\n",
       "    <tr>\n",
       "      <th>1723803</th>\n",
       "      <td>2</td>\n",
       "      <td>9</td>\n",
       "      <td>1</td>\n",
       "      <td>108</td>\n",
       "      <td>16463440</td>\n",
       "      <td>91</td>\n",
       "      <td>100</td>\n",
       "      <td>16</td>\n",
       "      <td>100</td>\n",
       "      <td>0</td>\n",
       "      <td>87</td>\n",
       "      <td>569292162</td>\n",
       "      <td>31</td>\n",
       "      <td>60859</td>\n",
       "      <td>100</td>\n",
       "      <td>100</td>\n",
       "      <td>16</td>\n",
       "      <td>100</td>\n",
       "      <td>0</td>\n",
       "      <td>100</td>\n",
       "      <td>0</td>\n",
       "      <td>83</td>\n",
       "      <td>17</td>\n",
       "      <td>100</td>\n",
       "      <td>1</td>\n",
       "      <td>75</td>\n",
       "      <td>51054</td>\n",
       "      <td>17</td>\n",
       "      <td>17</td>\n",
       "      <td>100</td>\n",
       "      <td>0</td>\n",
       "      <td>100</td>\n",
       "      <td>0</td>\n",
       "      <td>200</td>\n",
       "      <td>0</td>\n",
       "      <td>60681</td>\n",
       "      <td>73971752752</td>\n",
       "      <td>329766916753</td>\n",
       "    </tr>\n",
       "    <tr>\n",
       "      <th>5244666</th>\n",
       "      <td>2</td>\n",
       "      <td>8</td>\n",
       "      <td>6</td>\n",
       "      <td>82</td>\n",
       "      <td>172972960</td>\n",
       "      <td>99</td>\n",
       "      <td>100</td>\n",
       "      <td>1</td>\n",
       "      <td>100</td>\n",
       "      <td>0</td>\n",
       "      <td>89</td>\n",
       "      <td>798533845</td>\n",
       "      <td>93</td>\n",
       "      <td>6844</td>\n",
       "      <td>100</td>\n",
       "      <td>100</td>\n",
       "      <td>1</td>\n",
       "      <td>100</td>\n",
       "      <td>0</td>\n",
       "      <td>100</td>\n",
       "      <td>0</td>\n",
       "      <td>65</td>\n",
       "      <td>35</td>\n",
       "      <td>100</td>\n",
       "      <td>0</td>\n",
       "      <td>99</td>\n",
       "      <td>3278</td>\n",
       "      <td>35</td>\n",
       "      <td>35</td>\n",
       "      <td>100</td>\n",
       "      <td>0</td>\n",
       "      <td>100</td>\n",
       "      <td>0</td>\n",
       "      <td>200</td>\n",
       "      <td>0</td>\n",
       "      <td>6131</td>\n",
       "      <td>47949673480</td>\n",
       "      <td>80155030470</td>\n",
       "    </tr>\n",
       "    <tr>\n",
       "      <th>3373051</th>\n",
       "      <td>2</td>\n",
       "      <td>13</td>\n",
       "      <td>2</td>\n",
       "      <td>83</td>\n",
       "      <td>192023560</td>\n",
       "      <td>89</td>\n",
       "      <td>100</td>\n",
       "      <td>17</td>\n",
       "      <td>100</td>\n",
       "      <td>0</td>\n",
       "      <td>90</td>\n",
       "      <td>1112929470</td>\n",
       "      <td>55</td>\n",
       "      <td>39499</td>\n",
       "      <td>100</td>\n",
       "      <td>100</td>\n",
       "      <td>17</td>\n",
       "      <td>100</td>\n",
       "      <td>0</td>\n",
       "      <td>100</td>\n",
       "      <td>0</td>\n",
       "      <td>65</td>\n",
       "      <td>35</td>\n",
       "      <td>100</td>\n",
       "      <td>70</td>\n",
       "      <td>87</td>\n",
       "      <td>26224</td>\n",
       "      <td>35</td>\n",
       "      <td>35</td>\n",
       "      <td>100</td>\n",
       "      <td>0</td>\n",
       "      <td>100</td>\n",
       "      <td>0</td>\n",
       "      <td>200</td>\n",
       "      <td>0</td>\n",
       "      <td>39462</td>\n",
       "      <td>71222080016</td>\n",
       "      <td>490472017990</td>\n",
       "    </tr>\n",
       "  </tbody>\n",
       "</table>\n",
       "</div>"
      ],
      "text/plain": [
       "         serial_number_ltr  model  capacity_terabytes  smart_1_normalized  \\\n",
       "2722206                  2      6                   5                  83   \n",
       "5676868                  2      4                   4                  83   \n",
       "1723803                  2      9                   1                 108   \n",
       "5244666                  2      8                   6                  82   \n",
       "3373051                  2     13                   2                  83   \n",
       "\n",
       "         smart_1_raw  smart_3_normalized  smart_4_normalized  smart_4_raw  \\\n",
       "2722206    180931624                  98                 100            2   \n",
       "5676868    211399344                  95                 100            4   \n",
       "1723803     16463440                  91                 100           16   \n",
       "5244666    172972960                  99                 100            1   \n",
       "3373051    192023560                  89                 100           17   \n",
       "\n",
       "         smart_5_normalized  smart_5_raw  smart_7_normalized  smart_7_raw  \\\n",
       "2722206                 100            0                  89    726114280   \n",
       "5676868                 100            0                  83    206632265   \n",
       "1723803                 100            0                  87    569292162   \n",
       "5244666                 100            0                  89    798533845   \n",
       "3373051                 100            0                  90   1112929470   \n",
       "\n",
       "         smart_9_normalized  smart_9_raw  smart_10_normalized  \\\n",
       "2722206                  87        11761                  100   \n",
       "5676868                  87        11591                  100   \n",
       "1723803                  31        60859                  100   \n",
       "5244666                  93         6844                  100   \n",
       "3373051                  55        39499                  100   \n",
       "\n",
       "         smart_12_normalized  smart_12_raw  smart_187_normalized  \\\n",
       "2722206                  100             2                   100   \n",
       "5676868                  100             4                   100   \n",
       "1723803                  100            16                   100   \n",
       "5244666                  100             1                   100   \n",
       "3373051                  100            17                   100   \n",
       "\n",
       "         smart_187_raw  smart_188_normalized  smart_188_raw  \\\n",
       "2722206              0                   100              0   \n",
       "5676868              0                   100              0   \n",
       "1723803              0                   100              0   \n",
       "5244666              0                   100              0   \n",
       "3373051              0                   100              0   \n",
       "\n",
       "         smart_190_normalized  smart_190_raw  smart_192_normalized  \\\n",
       "2722206                    74             26                   100   \n",
       "5676868                    67             33                   100   \n",
       "1723803                    83             17                   100   \n",
       "5244666                    65             35                   100   \n",
       "3373051                    65             35                   100   \n",
       "\n",
       "         smart_192_raw  smart_193_normalized  smart_193_raw  \\\n",
       "2722206              1                   100           1252   \n",
       "5676868              1                   100            577   \n",
       "1723803              1                    75          51054   \n",
       "5244666              0                    99           3278   \n",
       "3373051             70                    87          26224   \n",
       "\n",
       "         smart_194_normalized  smart_194_raw  smart_197_normalized  \\\n",
       "2722206                    26             26                   100   \n",
       "5676868                    33             33                   100   \n",
       "1723803                    17             17                   100   \n",
       "5244666                    35             35                   100   \n",
       "3373051                    35             35                   100   \n",
       "\n",
       "         smart_197_raw  smart_198_normalized  smart_198_raw  \\\n",
       "2722206              0                   100              0   \n",
       "5676868              0                   100              0   \n",
       "1723803              0                   100              0   \n",
       "5244666              0                   100              0   \n",
       "3373051              0                   100              0   \n",
       "\n",
       "         smart_199_normalized  smart_199_raw  smart_240_raw  smart_241_raw  \\\n",
       "2722206                   200              0          11388    76514038152   \n",
       "5676868                   200              0          11513    31146046360   \n",
       "1723803                   200              0          60681    73971752752   \n",
       "5244666                   200              0           6131    47949673480   \n",
       "3373051                   200              0          39462    71222080016   \n",
       "\n",
       "         smart_242_raw  \n",
       "2722206   161704380238  \n",
       "5676868   143873766603  \n",
       "1723803   329766916753  \n",
       "5244666    80155030470  \n",
       "3373051   490472017990  "
      ]
     },
     "execution_count": 25,
     "metadata": {},
     "output_type": "execute_result"
    }
   ],
   "source": [
    "X_train.head(5)"
   ]
  },
  {
   "cell_type": "markdown",
   "id": "2152b3a9-481d-4ec4-af25-85451160002e",
   "metadata": {},
   "source": [
    "The `y_train` array only contains the `failure` (target) and does not include the features.  "
   ]
  },
  {
   "cell_type": "code",
   "execution_count": 26,
   "id": "5541279e-0f69-4b83-ae65-8479ec7d10be",
   "metadata": {
    "execution": {
     "iopub.execute_input": "2022-10-22T03:03:47.497905Z",
     "iopub.status.busy": "2022-10-22T03:03:47.497725Z",
     "iopub.status.idle": "2022-10-22T03:03:47.558669Z",
     "shell.execute_reply": "2022-10-22T03:03:47.558152Z",
     "shell.execute_reply.started": "2022-10-22T03:03:47.497889Z"
    },
    "tags": []
   },
   "outputs": [
    {
     "name": "stdout",
     "output_type": "stream",
     "text": [
      "<class 'pandas.core.series.Series'>\n",
      "Int64Index: 7360896 entries, 2722206 to 3860611\n",
      "Series name: failure\n",
      "Non-Null Count    Dtype\n",
      "--------------    -----\n",
      "7360896 non-null  int64\n",
      "dtypes: int64(1)\n",
      "memory usage: 112.3 MB\n"
     ]
    }
   ],
   "source": [
    "y_train.info()"
   ]
  },
  {
   "cell_type": "markdown",
   "id": "a1bf92be-d6e0-43e0-a591-9232f01d222f",
   "metadata": {},
   "source": [
    "The first 5 values of the `y_train` array are examined.  "
   ]
  },
  {
   "cell_type": "code",
   "execution_count": 27,
   "id": "49234b37-4467-433c-b6f1-45579cfc8d0d",
   "metadata": {
    "execution": {
     "iopub.execute_input": "2022-10-22T03:03:47.559754Z",
     "iopub.status.busy": "2022-10-22T03:03:47.559369Z",
     "iopub.status.idle": "2022-10-22T03:03:47.563500Z",
     "shell.execute_reply": "2022-10-22T03:03:47.563071Z",
     "shell.execute_reply.started": "2022-10-22T03:03:47.559733Z"
    },
    "tags": []
   },
   "outputs": [
    {
     "data": {
      "text/plain": [
       "2722206    0\n",
       "5676868    0\n",
       "1723803    0\n",
       "5244666    0\n",
       "3373051    0\n",
       "Name: failure, dtype: int64"
      ]
     },
     "execution_count": 27,
     "metadata": {},
     "output_type": "execute_result"
    }
   ],
   "source": [
    "y_train[0:5]"
   ]
  },
  {
   "cell_type": "markdown",
   "id": "bf5673a0-eeff-45c3-9768-341fa025a121",
   "metadata": {},
   "source": [
    "The ratio for `failure` of `0` or `functional` to `1` or `non-functional` is 3253:1 (9198292/2828); very highly imbalanced data. However, the percentage of `1` or `non-functional` remains at approximately 0.03%.  "
   ]
  },
  {
   "cell_type": "code",
   "execution_count": 28,
   "id": "032c9356-5d8e-4da7-ab3e-fe1c53ab67c1",
   "metadata": {
    "execution": {
     "iopub.execute_input": "2022-10-22T03:03:47.564382Z",
     "iopub.status.busy": "2022-10-22T03:03:47.564115Z",
     "iopub.status.idle": "2022-10-22T03:03:47.608847Z",
     "shell.execute_reply": "2022-10-22T03:03:47.608413Z",
     "shell.execute_reply.started": "2022-10-22T03:03:47.564364Z"
    },
    "tags": []
   },
   "outputs": [
    {
     "data": {
      "text/html": [
       "<div>\n",
       "<style scoped>\n",
       "    .dataframe tbody tr th:only-of-type {\n",
       "        vertical-align: middle;\n",
       "    }\n",
       "\n",
       "    .dataframe tbody tr th {\n",
       "        vertical-align: top;\n",
       "    }\n",
       "\n",
       "    .dataframe thead th {\n",
       "        text-align: right;\n",
       "    }\n",
       "</style>\n",
       "<table border=\"1\" class=\"dataframe\">\n",
       "  <thead>\n",
       "    <tr style=\"text-align: right;\">\n",
       "      <th></th>\n",
       "      <th>count</th>\n",
       "    </tr>\n",
       "  </thead>\n",
       "  <tbody>\n",
       "    <tr>\n",
       "      <th>0</th>\n",
       "      <td>7358634</td>\n",
       "    </tr>\n",
       "    <tr>\n",
       "      <th>1</th>\n",
       "      <td>2262</td>\n",
       "    </tr>\n",
       "  </tbody>\n",
       "</table>\n",
       "</div>"
      ],
      "text/plain": [
       "     count\n",
       "0  7358634\n",
       "1     2262"
      ]
     },
     "execution_count": 28,
     "metadata": {},
     "output_type": "execute_result"
    }
   ],
   "source": [
    "y_train.value_counts().to_frame('count')"
   ]
  },
  {
   "cell_type": "markdown",
   "id": "c364e722-e773-473e-9e3e-cf96907c9cb5",
   "metadata": {},
   "source": [
    "The `y_train` or label contains 9,198,292 `0` or `functional` and 2,828 `1` or `non-functional` hard drive snapshots.  "
   ]
  },
  {
   "cell_type": "code",
   "execution_count": 29,
   "id": "85260927-2938-4cfb-b19b-ba8f77000a16",
   "metadata": {
    "execution": {
     "iopub.execute_input": "2022-10-22T03:03:47.609774Z",
     "iopub.status.busy": "2022-10-22T03:03:47.609447Z",
     "iopub.status.idle": "2022-10-22T03:03:47.612920Z",
     "shell.execute_reply": "2022-10-22T03:03:47.612501Z",
     "shell.execute_reply.started": "2022-10-22T03:03:47.609757Z"
    },
    "tags": []
   },
   "outputs": [
    {
     "data": {
      "text/plain": [
       "3253.0"
      ]
     },
     "execution_count": 29,
     "metadata": {},
     "output_type": "execute_result"
    }
   ],
   "source": [
    "round(7358634 / 2262, 0)"
   ]
  },
  {
   "cell_type": "code",
   "execution_count": 30,
   "id": "d1c11601-c970-4dc6-8df8-55ef4a1c0b74",
   "metadata": {
    "execution": {
     "iopub.execute_input": "2022-10-22T03:03:47.613750Z",
     "iopub.status.busy": "2022-10-22T03:03:47.613489Z",
     "iopub.status.idle": "2022-10-22T03:03:47.616916Z",
     "shell.execute_reply": "2022-10-22T03:03:47.616502Z",
     "shell.execute_reply.started": "2022-10-22T03:03:47.613732Z"
    },
    "tags": []
   },
   "outputs": [
    {
     "data": {
      "text/plain": [
       "0.03"
      ]
     },
     "execution_count": 30,
     "metadata": {},
     "output_type": "execute_result"
    }
   ],
   "source": [
    "non_func_percent(7358634, 2262)"
   ]
  },
  {
   "cell_type": "markdown",
   "id": "5adf1173-8219-4761-9f49-17e20b79e0d0",
   "metadata": {},
   "source": [
    "Confirmed that the `X_test` matrix only contains the features and does not include the `failure` (target).  "
   ]
  },
  {
   "cell_type": "code",
   "execution_count": 31,
   "id": "18e39b33-0816-4692-b7a7-d25bbd00c379",
   "metadata": {
    "execution": {
     "iopub.execute_input": "2022-10-22T03:03:47.617759Z",
     "iopub.status.busy": "2022-10-22T03:03:47.617498Z",
     "iopub.status.idle": "2022-10-22T03:03:47.625069Z",
     "shell.execute_reply": "2022-10-22T03:03:47.624621Z",
     "shell.execute_reply.started": "2022-10-22T03:03:47.617742Z"
    },
    "tags": []
   },
   "outputs": [
    {
     "name": "stdout",
     "output_type": "stream",
     "text": [
      "<class 'pandas.core.frame.DataFrame'>\n",
      "Int64Index: 1840224 entries, 7820082 to 1072440\n",
      "Data columns (total 38 columns):\n",
      " #   Column                Dtype\n",
      "---  ------                -----\n",
      " 0   serial_number_ltr     int64\n",
      " 1   model                 int64\n",
      " 2   capacity_terabytes    int64\n",
      " 3   smart_1_normalized    int64\n",
      " 4   smart_1_raw           int64\n",
      " 5   smart_3_normalized    int64\n",
      " 6   smart_4_normalized    int64\n",
      " 7   smart_4_raw           int64\n",
      " 8   smart_5_normalized    int64\n",
      " 9   smart_5_raw           int64\n",
      " 10  smart_7_normalized    int64\n",
      " 11  smart_7_raw           int64\n",
      " 12  smart_9_normalized    int64\n",
      " 13  smart_9_raw           int64\n",
      " 14  smart_10_normalized   int64\n",
      " 15  smart_12_normalized   int64\n",
      " 16  smart_12_raw          int64\n",
      " 17  smart_187_normalized  int64\n",
      " 18  smart_187_raw         int64\n",
      " 19  smart_188_normalized  int64\n",
      " 20  smart_188_raw         int64\n",
      " 21  smart_190_normalized  int64\n",
      " 22  smart_190_raw         int64\n",
      " 23  smart_192_normalized  int64\n",
      " 24  smart_192_raw         int64\n",
      " 25  smart_193_normalized  int64\n",
      " 26  smart_193_raw         int64\n",
      " 27  smart_194_normalized  int64\n",
      " 28  smart_194_raw         int64\n",
      " 29  smart_197_normalized  int64\n",
      " 30  smart_197_raw         int64\n",
      " 31  smart_198_normalized  int64\n",
      " 32  smart_198_raw         int64\n",
      " 33  smart_199_normalized  int64\n",
      " 34  smart_199_raw         int64\n",
      " 35  smart_240_raw         int64\n",
      " 36  smart_241_raw         int64\n",
      " 37  smart_242_raw         int64\n",
      "dtypes: int64(38)\n",
      "memory usage: 547.6 MB\n"
     ]
    }
   ],
   "source": [
    "X_test.info()"
   ]
  },
  {
   "cell_type": "markdown",
   "id": "f93a86b4-f74e-47fa-8479-629f2ebb98b0",
   "metadata": {},
   "source": [
    "The `X_train` matrix has consistency in the columns.  "
   ]
  },
  {
   "cell_type": "code",
   "execution_count": 32,
   "id": "4ee4b9ce-ffc6-4b1d-a6c4-2b62bf125fdf",
   "metadata": {
    "execution": {
     "iopub.execute_input": "2022-10-22T03:03:47.625926Z",
     "iopub.status.busy": "2022-10-22T03:03:47.625660Z",
     "iopub.status.idle": "2022-10-22T03:03:47.638861Z",
     "shell.execute_reply": "2022-10-22T03:03:47.638433Z",
     "shell.execute_reply.started": "2022-10-22T03:03:47.625909Z"
    },
    "tags": []
   },
   "outputs": [
    {
     "data": {
      "text/html": [
       "<div>\n",
       "<style scoped>\n",
       "    .dataframe tbody tr th:only-of-type {\n",
       "        vertical-align: middle;\n",
       "    }\n",
       "\n",
       "    .dataframe tbody tr th {\n",
       "        vertical-align: top;\n",
       "    }\n",
       "\n",
       "    .dataframe thead th {\n",
       "        text-align: right;\n",
       "    }\n",
       "</style>\n",
       "<table border=\"1\" class=\"dataframe\">\n",
       "  <thead>\n",
       "    <tr style=\"text-align: right;\">\n",
       "      <th></th>\n",
       "      <th>serial_number_ltr</th>\n",
       "      <th>model</th>\n",
       "      <th>capacity_terabytes</th>\n",
       "      <th>smart_1_normalized</th>\n",
       "      <th>smart_1_raw</th>\n",
       "      <th>smart_3_normalized</th>\n",
       "      <th>smart_4_normalized</th>\n",
       "      <th>smart_4_raw</th>\n",
       "      <th>smart_5_normalized</th>\n",
       "      <th>smart_5_raw</th>\n",
       "      <th>smart_7_normalized</th>\n",
       "      <th>smart_7_raw</th>\n",
       "      <th>smart_9_normalized</th>\n",
       "      <th>smart_9_raw</th>\n",
       "      <th>smart_10_normalized</th>\n",
       "      <th>smart_12_normalized</th>\n",
       "      <th>smart_12_raw</th>\n",
       "      <th>smart_187_normalized</th>\n",
       "      <th>smart_187_raw</th>\n",
       "      <th>smart_188_normalized</th>\n",
       "      <th>smart_188_raw</th>\n",
       "      <th>smart_190_normalized</th>\n",
       "      <th>smart_190_raw</th>\n",
       "      <th>smart_192_normalized</th>\n",
       "      <th>smart_192_raw</th>\n",
       "      <th>smart_193_normalized</th>\n",
       "      <th>smart_193_raw</th>\n",
       "      <th>smart_194_normalized</th>\n",
       "      <th>smart_194_raw</th>\n",
       "      <th>smart_197_normalized</th>\n",
       "      <th>smart_197_raw</th>\n",
       "      <th>smart_198_normalized</th>\n",
       "      <th>smart_198_raw</th>\n",
       "      <th>smart_199_normalized</th>\n",
       "      <th>smart_199_raw</th>\n",
       "      <th>smart_240_raw</th>\n",
       "      <th>smart_241_raw</th>\n",
       "      <th>smart_242_raw</th>\n",
       "    </tr>\n",
       "  </thead>\n",
       "  <tbody>\n",
       "    <tr>\n",
       "      <th>7820082</th>\n",
       "      <td>2</td>\n",
       "      <td>3</td>\n",
       "      <td>4</td>\n",
       "      <td>83</td>\n",
       "      <td>178205160</td>\n",
       "      <td>92</td>\n",
       "      <td>100</td>\n",
       "      <td>9</td>\n",
       "      <td>100</td>\n",
       "      <td>0</td>\n",
       "      <td>86</td>\n",
       "      <td>407826516</td>\n",
       "      <td>85</td>\n",
       "      <td>13827</td>\n",
       "      <td>100</td>\n",
       "      <td>100</td>\n",
       "      <td>9</td>\n",
       "      <td>100</td>\n",
       "      <td>0</td>\n",
       "      <td>100</td>\n",
       "      <td>0</td>\n",
       "      <td>76</td>\n",
       "      <td>24</td>\n",
       "      <td>100</td>\n",
       "      <td>5</td>\n",
       "      <td>100</td>\n",
       "      <td>837</td>\n",
       "      <td>24</td>\n",
       "      <td>24</td>\n",
       "      <td>100</td>\n",
       "      <td>0</td>\n",
       "      <td>100</td>\n",
       "      <td>0</td>\n",
       "      <td>200</td>\n",
       "      <td>0</td>\n",
       "      <td>13670</td>\n",
       "      <td>29616358984</td>\n",
       "      <td>169050885282</td>\n",
       "    </tr>\n",
       "    <tr>\n",
       "      <th>2411402</th>\n",
       "      <td>2</td>\n",
       "      <td>4</td>\n",
       "      <td>4</td>\n",
       "      <td>76</td>\n",
       "      <td>44248952</td>\n",
       "      <td>90</td>\n",
       "      <td>100</td>\n",
       "      <td>8</td>\n",
       "      <td>100</td>\n",
       "      <td>0</td>\n",
       "      <td>82</td>\n",
       "      <td>147180056</td>\n",
       "      <td>84</td>\n",
       "      <td>14065</td>\n",
       "      <td>100</td>\n",
       "      <td>100</td>\n",
       "      <td>7</td>\n",
       "      <td>100</td>\n",
       "      <td>0</td>\n",
       "      <td>100</td>\n",
       "      <td>0</td>\n",
       "      <td>72</td>\n",
       "      <td>28</td>\n",
       "      <td>100</td>\n",
       "      <td>2</td>\n",
       "      <td>100</td>\n",
       "      <td>776</td>\n",
       "      <td>28</td>\n",
       "      <td>28</td>\n",
       "      <td>100</td>\n",
       "      <td>0</td>\n",
       "      <td>100</td>\n",
       "      <td>0</td>\n",
       "      <td>200</td>\n",
       "      <td>0</td>\n",
       "      <td>13937</td>\n",
       "      <td>72202983584</td>\n",
       "      <td>218369147298</td>\n",
       "    </tr>\n",
       "    <tr>\n",
       "      <th>1447606</th>\n",
       "      <td>2</td>\n",
       "      <td>13</td>\n",
       "      <td>2</td>\n",
       "      <td>80</td>\n",
       "      <td>95724744</td>\n",
       "      <td>89</td>\n",
       "      <td>100</td>\n",
       "      <td>9</td>\n",
       "      <td>100</td>\n",
       "      <td>0</td>\n",
       "      <td>94</td>\n",
       "      <td>2482586872</td>\n",
       "      <td>52</td>\n",
       "      <td>42534</td>\n",
       "      <td>100</td>\n",
       "      <td>100</td>\n",
       "      <td>9</td>\n",
       "      <td>100</td>\n",
       "      <td>0</td>\n",
       "      <td>100</td>\n",
       "      <td>0</td>\n",
       "      <td>63</td>\n",
       "      <td>37</td>\n",
       "      <td>100</td>\n",
       "      <td>7</td>\n",
       "      <td>72</td>\n",
       "      <td>57540</td>\n",
       "      <td>37</td>\n",
       "      <td>37</td>\n",
       "      <td>100</td>\n",
       "      <td>0</td>\n",
       "      <td>100</td>\n",
       "      <td>0</td>\n",
       "      <td>200</td>\n",
       "      <td>0</td>\n",
       "      <td>42495</td>\n",
       "      <td>84348667512</td>\n",
       "      <td>352664327748</td>\n",
       "    </tr>\n",
       "    <tr>\n",
       "      <th>3187839</th>\n",
       "      <td>2</td>\n",
       "      <td>3</td>\n",
       "      <td>4</td>\n",
       "      <td>81</td>\n",
       "      <td>132344880</td>\n",
       "      <td>94</td>\n",
       "      <td>100</td>\n",
       "      <td>5</td>\n",
       "      <td>100</td>\n",
       "      <td>0</td>\n",
       "      <td>83</td>\n",
       "      <td>214596619</td>\n",
       "      <td>82</td>\n",
       "      <td>16345</td>\n",
       "      <td>100</td>\n",
       "      <td>100</td>\n",
       "      <td>5</td>\n",
       "      <td>100</td>\n",
       "      <td>0</td>\n",
       "      <td>100</td>\n",
       "      <td>0</td>\n",
       "      <td>67</td>\n",
       "      <td>33</td>\n",
       "      <td>100</td>\n",
       "      <td>0</td>\n",
       "      <td>100</td>\n",
       "      <td>917</td>\n",
       "      <td>33</td>\n",
       "      <td>33</td>\n",
       "      <td>100</td>\n",
       "      <td>0</td>\n",
       "      <td>100</td>\n",
       "      <td>0</td>\n",
       "      <td>200</td>\n",
       "      <td>0</td>\n",
       "      <td>16219</td>\n",
       "      <td>76959572328</td>\n",
       "      <td>201737685252</td>\n",
       "    </tr>\n",
       "    <tr>\n",
       "      <th>1214877</th>\n",
       "      <td>0</td>\n",
       "      <td>9</td>\n",
       "      <td>1</td>\n",
       "      <td>119</td>\n",
       "      <td>221044016</td>\n",
       "      <td>94</td>\n",
       "      <td>100</td>\n",
       "      <td>6</td>\n",
       "      <td>100</td>\n",
       "      <td>0</td>\n",
       "      <td>84</td>\n",
       "      <td>237379309</td>\n",
       "      <td>34</td>\n",
       "      <td>57939</td>\n",
       "      <td>100</td>\n",
       "      <td>100</td>\n",
       "      <td>6</td>\n",
       "      <td>100</td>\n",
       "      <td>0</td>\n",
       "      <td>100</td>\n",
       "      <td>1</td>\n",
       "      <td>73</td>\n",
       "      <td>27</td>\n",
       "      <td>100</td>\n",
       "      <td>0</td>\n",
       "      <td>25</td>\n",
       "      <td>151514</td>\n",
       "      <td>27</td>\n",
       "      <td>27</td>\n",
       "      <td>100</td>\n",
       "      <td>0</td>\n",
       "      <td>100</td>\n",
       "      <td>0</td>\n",
       "      <td>200</td>\n",
       "      <td>0</td>\n",
       "      <td>57242</td>\n",
       "      <td>65140893744</td>\n",
       "      <td>379203008724</td>\n",
       "    </tr>\n",
       "  </tbody>\n",
       "</table>\n",
       "</div>"
      ],
      "text/plain": [
       "         serial_number_ltr  model  capacity_terabytes  smart_1_normalized  \\\n",
       "7820082                  2      3                   4                  83   \n",
       "2411402                  2      4                   4                  76   \n",
       "1447606                  2     13                   2                  80   \n",
       "3187839                  2      3                   4                  81   \n",
       "1214877                  0      9                   1                 119   \n",
       "\n",
       "         smart_1_raw  smart_3_normalized  smart_4_normalized  smart_4_raw  \\\n",
       "7820082    178205160                  92                 100            9   \n",
       "2411402     44248952                  90                 100            8   \n",
       "1447606     95724744                  89                 100            9   \n",
       "3187839    132344880                  94                 100            5   \n",
       "1214877    221044016                  94                 100            6   \n",
       "\n",
       "         smart_5_normalized  smart_5_raw  smart_7_normalized  smart_7_raw  \\\n",
       "7820082                 100            0                  86    407826516   \n",
       "2411402                 100            0                  82    147180056   \n",
       "1447606                 100            0                  94   2482586872   \n",
       "3187839                 100            0                  83    214596619   \n",
       "1214877                 100            0                  84    237379309   \n",
       "\n",
       "         smart_9_normalized  smart_9_raw  smart_10_normalized  \\\n",
       "7820082                  85        13827                  100   \n",
       "2411402                  84        14065                  100   \n",
       "1447606                  52        42534                  100   \n",
       "3187839                  82        16345                  100   \n",
       "1214877                  34        57939                  100   \n",
       "\n",
       "         smart_12_normalized  smart_12_raw  smart_187_normalized  \\\n",
       "7820082                  100             9                   100   \n",
       "2411402                  100             7                   100   \n",
       "1447606                  100             9                   100   \n",
       "3187839                  100             5                   100   \n",
       "1214877                  100             6                   100   \n",
       "\n",
       "         smart_187_raw  smart_188_normalized  smart_188_raw  \\\n",
       "7820082              0                   100              0   \n",
       "2411402              0                   100              0   \n",
       "1447606              0                   100              0   \n",
       "3187839              0                   100              0   \n",
       "1214877              0                   100              1   \n",
       "\n",
       "         smart_190_normalized  smart_190_raw  smart_192_normalized  \\\n",
       "7820082                    76             24                   100   \n",
       "2411402                    72             28                   100   \n",
       "1447606                    63             37                   100   \n",
       "3187839                    67             33                   100   \n",
       "1214877                    73             27                   100   \n",
       "\n",
       "         smart_192_raw  smart_193_normalized  smart_193_raw  \\\n",
       "7820082              5                   100            837   \n",
       "2411402              2                   100            776   \n",
       "1447606              7                    72          57540   \n",
       "3187839              0                   100            917   \n",
       "1214877              0                    25         151514   \n",
       "\n",
       "         smart_194_normalized  smart_194_raw  smart_197_normalized  \\\n",
       "7820082                    24             24                   100   \n",
       "2411402                    28             28                   100   \n",
       "1447606                    37             37                   100   \n",
       "3187839                    33             33                   100   \n",
       "1214877                    27             27                   100   \n",
       "\n",
       "         smart_197_raw  smart_198_normalized  smart_198_raw  \\\n",
       "7820082              0                   100              0   \n",
       "2411402              0                   100              0   \n",
       "1447606              0                   100              0   \n",
       "3187839              0                   100              0   \n",
       "1214877              0                   100              0   \n",
       "\n",
       "         smart_199_normalized  smart_199_raw  smart_240_raw  smart_241_raw  \\\n",
       "7820082                   200              0          13670    29616358984   \n",
       "2411402                   200              0          13937    72202983584   \n",
       "1447606                   200              0          42495    84348667512   \n",
       "3187839                   200              0          16219    76959572328   \n",
       "1214877                   200              0          57242    65140893744   \n",
       "\n",
       "         smart_242_raw  \n",
       "7820082   169050885282  \n",
       "2411402   218369147298  \n",
       "1447606   352664327748  \n",
       "3187839   201737685252  \n",
       "1214877   379203008724  "
      ]
     },
     "execution_count": 32,
     "metadata": {},
     "output_type": "execute_result"
    }
   ],
   "source": [
    "X_test.head(5)"
   ]
  },
  {
   "cell_type": "markdown",
   "id": "256806b7-16e3-4a4d-b403-8cf92e06e5ff",
   "metadata": {},
   "source": [
    "The `y_test` array only contains the `failure` (target) and does not include the features.  "
   ]
  },
  {
   "cell_type": "code",
   "execution_count": 33,
   "id": "da790b1e-352d-4f24-be7a-ae76703e683b",
   "metadata": {
    "execution": {
     "iopub.execute_input": "2022-10-22T03:03:47.639725Z",
     "iopub.status.busy": "2022-10-22T03:03:47.639450Z",
     "iopub.status.idle": "2022-10-22T03:03:47.653306Z",
     "shell.execute_reply": "2022-10-22T03:03:47.652859Z",
     "shell.execute_reply.started": "2022-10-22T03:03:47.639707Z"
    },
    "tags": []
   },
   "outputs": [
    {
     "name": "stdout",
     "output_type": "stream",
     "text": [
      "<class 'pandas.core.series.Series'>\n",
      "Int64Index: 1840224 entries, 7820082 to 1072440\n",
      "Series name: failure\n",
      "Non-Null Count    Dtype\n",
      "--------------    -----\n",
      "1840224 non-null  int64\n",
      "dtypes: int64(1)\n",
      "memory usage: 28.1 MB\n"
     ]
    }
   ],
   "source": [
    "y_test.info()"
   ]
  },
  {
   "cell_type": "markdown",
   "id": "aba7cc23-7bc5-4e5f-a524-d260b6c6dc47",
   "metadata": {},
   "source": [
    "The first 5 values of the `y_test` array are examined.  "
   ]
  },
  {
   "cell_type": "code",
   "execution_count": 34,
   "id": "87c19599-2922-47fa-b014-c0600eaa756b",
   "metadata": {
    "execution": {
     "iopub.execute_input": "2022-10-22T03:03:47.654152Z",
     "iopub.status.busy": "2022-10-22T03:03:47.653879Z",
     "iopub.status.idle": "2022-10-22T03:03:47.657655Z",
     "shell.execute_reply": "2022-10-22T03:03:47.657232Z",
     "shell.execute_reply.started": "2022-10-22T03:03:47.654134Z"
    },
    "tags": []
   },
   "outputs": [
    {
     "data": {
      "text/plain": [
       "7820082    0\n",
       "2411402    0\n",
       "1447606    0\n",
       "3187839    0\n",
       "1214877    0\n",
       "Name: failure, dtype: int64"
      ]
     },
     "execution_count": 34,
     "metadata": {},
     "output_type": "execute_result"
    }
   ],
   "source": [
    "y_test[0:5]"
   ]
  },
  {
   "cell_type": "markdown",
   "id": "e43be042-95c1-478f-8566-4cbfad9a59e7",
   "metadata": {},
   "source": [
    "The ratio for `failure` of `0` or `functional` to `1` or `non-functional` remains at 3250:1 (1839658/566) and the percentage of `1` or `non-functional` remains at approximately 0.03%.  "
   ]
  },
  {
   "cell_type": "code",
   "execution_count": 35,
   "id": "5822848a-d6ca-473a-87a5-523ff35c81b2",
   "metadata": {
    "execution": {
     "iopub.execute_input": "2022-10-22T03:03:47.658484Z",
     "iopub.status.busy": "2022-10-22T03:03:47.658224Z",
     "iopub.status.idle": "2022-10-22T03:03:47.673998Z",
     "shell.execute_reply": "2022-10-22T03:03:47.673567Z",
     "shell.execute_reply.started": "2022-10-22T03:03:47.658466Z"
    },
    "tags": []
   },
   "outputs": [
    {
     "data": {
      "text/html": [
       "<div>\n",
       "<style scoped>\n",
       "    .dataframe tbody tr th:only-of-type {\n",
       "        vertical-align: middle;\n",
       "    }\n",
       "\n",
       "    .dataframe tbody tr th {\n",
       "        vertical-align: top;\n",
       "    }\n",
       "\n",
       "    .dataframe thead th {\n",
       "        text-align: right;\n",
       "    }\n",
       "</style>\n",
       "<table border=\"1\" class=\"dataframe\">\n",
       "  <thead>\n",
       "    <tr style=\"text-align: right;\">\n",
       "      <th></th>\n",
       "      <th>count</th>\n",
       "    </tr>\n",
       "  </thead>\n",
       "  <tbody>\n",
       "    <tr>\n",
       "      <th>0</th>\n",
       "      <td>1839658</td>\n",
       "    </tr>\n",
       "    <tr>\n",
       "      <th>1</th>\n",
       "      <td>566</td>\n",
       "    </tr>\n",
       "  </tbody>\n",
       "</table>\n",
       "</div>"
      ],
      "text/plain": [
       "     count\n",
       "0  1839658\n",
       "1      566"
      ]
     },
     "execution_count": 35,
     "metadata": {},
     "output_type": "execute_result"
    }
   ],
   "source": [
    "y_test.value_counts().to_frame('count')"
   ]
  },
  {
   "cell_type": "markdown",
   "id": "df0e8021-9f50-45f2-9e3c-ef0927f5bfda",
   "metadata": {},
   "source": [
    "The ratio for `failure` of `0` or `functional` to `1` or `non-functional` is 3250:1 (1839658/566); very highly imbalanced data. However, the percentage of `1` or `non-functional` remains at approximately 0.03%.  "
   ]
  },
  {
   "cell_type": "code",
   "execution_count": 36,
   "id": "bef7ba1d-8daa-45af-8be9-e706a45fa7ae",
   "metadata": {
    "execution": {
     "iopub.execute_input": "2022-10-22T03:03:47.674850Z",
     "iopub.status.busy": "2022-10-22T03:03:47.674581Z",
     "iopub.status.idle": "2022-10-22T03:03:47.678010Z",
     "shell.execute_reply": "2022-10-22T03:03:47.677594Z",
     "shell.execute_reply.started": "2022-10-22T03:03:47.674833Z"
    },
    "tags": []
   },
   "outputs": [
    {
     "data": {
      "text/plain": [
       "3250.0"
      ]
     },
     "execution_count": 36,
     "metadata": {},
     "output_type": "execute_result"
    }
   ],
   "source": [
    "round(1839658 / 566, 0)"
   ]
  },
  {
   "cell_type": "code",
   "execution_count": 37,
   "id": "ff9453f9-d13b-47f0-93b1-6ff6262137d0",
   "metadata": {
    "execution": {
     "iopub.execute_input": "2022-10-22T03:03:47.678861Z",
     "iopub.status.busy": "2022-10-22T03:03:47.678599Z",
     "iopub.status.idle": "2022-10-22T03:03:47.681932Z",
     "shell.execute_reply": "2022-10-22T03:03:47.681521Z",
     "shell.execute_reply.started": "2022-10-22T03:03:47.678844Z"
    },
    "tags": []
   },
   "outputs": [
    {
     "data": {
      "text/plain": [
       "0.03"
      ]
     },
     "execution_count": 37,
     "metadata": {},
     "output_type": "execute_result"
    }
   ],
   "source": [
    "non_func_percent(1839658, 566)"
   ]
  },
  {
   "cell_type": "markdown",
   "id": "7e1d42a8-3cf8-4863-8c58-6d5c9f95982c",
   "metadata": {
    "execution": {
     "iopub.execute_input": "2022-09-26T17:12:21.409715Z",
     "iopub.status.busy": "2022-09-26T17:12:21.409335Z",
     "iopub.status.idle": "2022-09-26T17:12:21.412395Z",
     "shell.execute_reply": "2022-09-26T17:12:21.411921Z",
     "shell.execute_reply.started": "2022-09-26T17:12:21.409690Z"
    }
   },
   "source": [
    "## Random sampling (over and under)  "
   ]
  },
  {
   "cell_type": "markdown",
   "id": "48c5916f-66b2-489a-acb2-fbc08434e736",
   "metadata": {},
   "source": [
    "The `X_train` and `y_train` data consists of 7,360,896 rows, which is a substantial amount of data. The size of data can present challenges for maching learning. Using random over-sampling and random under-sampling provides a subset of data, which allows for faster processing of data.  \n",
    "\n",
    "To obtain an optimal sample size, the `1` or `non-functional` (minority class) is oversampled by 10%. Next, the `0` or o`functional` (majority class) is undersampled to match the `1` or `non-functional` (minority class).  "
   ]
  },
  {
   "cell_type": "code",
   "execution_count": 38,
   "id": "6ce1932b-8be6-4771-b9d1-4fbbf793b1e4",
   "metadata": {
    "execution": {
     "iopub.execute_input": "2022-10-22T03:03:47.682675Z",
     "iopub.status.busy": "2022-10-22T03:03:47.682497Z",
     "iopub.status.idle": "2022-10-22T03:03:54.086879Z",
     "shell.execute_reply": "2022-10-22T03:03:54.086317Z",
     "shell.execute_reply.started": "2022-10-22T03:03:47.682659Z"
    },
    "tags": []
   },
   "outputs": [],
   "source": [
    "# References\n",
    "# https://imbalanced-learn.org/stable/references/generated/imblearn.over_sampling.RandomOverSampler.html\n",
    "\n",
    "# The minority class ('non-functional' or 1) is over-sampled by a ratio \n",
    "# (0.1) to increase the quantity of samples in the minority class \n",
    "# ('non-functional' or 1).\n",
    "ros = RandomOverSampler(\n",
    "    sampling_strategy=0.1, \n",
    "    random_state=42\n",
    ")\n",
    "X_train_ros, y_train_ros = ros.fit_resample(\n",
    "    X_train, \n",
    "    y_train\n",
    ")"
   ]
  },
  {
   "cell_type": "markdown",
   "id": "de14cb8d-e2d2-4246-8192-13912e2b8f2a",
   "metadata": {},
   "source": [
    "The minority class is now 10% of the majority class.  "
   ]
  },
  {
   "cell_type": "code",
   "execution_count": 39,
   "id": "f3a11e33-9e83-4b8b-a814-84cfe2397bfe",
   "metadata": {
    "execution": {
     "iopub.execute_input": "2022-10-22T03:03:54.087929Z",
     "iopub.status.busy": "2022-10-22T03:03:54.087646Z",
     "iopub.status.idle": "2022-10-22T03:03:54.136268Z",
     "shell.execute_reply": "2022-10-22T03:03:54.135824Z",
     "shell.execute_reply.started": "2022-10-22T03:03:54.087908Z"
    },
    "tags": []
   },
   "outputs": [
    {
     "data": {
      "text/html": [
       "<div>\n",
       "<style scoped>\n",
       "    .dataframe tbody tr th:only-of-type {\n",
       "        vertical-align: middle;\n",
       "    }\n",
       "\n",
       "    .dataframe tbody tr th {\n",
       "        vertical-align: top;\n",
       "    }\n",
       "\n",
       "    .dataframe thead th {\n",
       "        text-align: right;\n",
       "    }\n",
       "</style>\n",
       "<table border=\"1\" class=\"dataframe\">\n",
       "  <thead>\n",
       "    <tr style=\"text-align: right;\">\n",
       "      <th></th>\n",
       "      <th>count</th>\n",
       "    </tr>\n",
       "  </thead>\n",
       "  <tbody>\n",
       "    <tr>\n",
       "      <th>0</th>\n",
       "      <td>7358634</td>\n",
       "    </tr>\n",
       "    <tr>\n",
       "      <th>1</th>\n",
       "      <td>735863</td>\n",
       "    </tr>\n",
       "  </tbody>\n",
       "</table>\n",
       "</div>"
      ],
      "text/plain": [
       "     count\n",
       "0  7358634\n",
       "1   735863"
      ]
     },
     "execution_count": 39,
     "metadata": {},
     "output_type": "execute_result"
    }
   ],
   "source": [
    "(\n",
    "    y_train_ros\n",
    "    .value_counts()\n",
    "    .to_frame('count')\n",
    ")"
   ]
  },
  {
   "cell_type": "code",
   "execution_count": 40,
   "id": "068ed89c-87d0-4502-8b8f-d1a2d11a0291",
   "metadata": {
    "execution": {
     "iopub.execute_input": "2022-10-22T03:03:54.137412Z",
     "iopub.status.busy": "2022-10-22T03:03:54.137004Z",
     "iopub.status.idle": "2022-10-22T03:03:58.942563Z",
     "shell.execute_reply": "2022-10-22T03:03:58.942010Z",
     "shell.execute_reply.started": "2022-10-22T03:03:54.137393Z"
    },
    "tags": []
   },
   "outputs": [],
   "source": [
    "# References\n",
    "# https://imbalanced-learn.org/stable/references/generated/imblearn.under_sampling.RandomUnderSampler.html\n",
    "\n",
    "# The majority class ('functional' or 0) is under-sampled by a strategy \n",
    "# of 'all' to decrease the quantity of samples in the majority class \n",
    "# ('functional' or 0) to equal the minority class ('non-functional' or\n",
    "# 1).\n",
    "rus = RandomUnderSampler(\n",
    "    sampling_strategy='all', \n",
    "    random_state=42\n",
    ")\n",
    "X_train_res, y_train_res = rus.fit_resample(\n",
    "    X_train_ros, \n",
    "    y_train_ros\n",
    ")"
   ]
  },
  {
   "cell_type": "code",
   "execution_count": 41,
   "id": "92747c9d-09fa-4304-af7f-74fa97cb22e5",
   "metadata": {
    "execution": {
     "iopub.execute_input": "2022-10-22T03:03:58.943531Z",
     "iopub.status.busy": "2022-10-22T03:03:58.943307Z",
     "iopub.status.idle": "2022-10-22T03:03:58.946825Z",
     "shell.execute_reply": "2022-10-22T03:03:58.946352Z",
     "shell.execute_reply.started": "2022-10-22T03:03:58.943513Z"
    },
    "tags": []
   },
   "outputs": [
    {
     "name": "stdout",
     "output_type": "stream",
     "text": [
      "X train data resampled size: (1471726, 38)\n",
      "y train data resampled size: (1471726,)\n"
     ]
    }
   ],
   "source": [
    "print(\"X train data resampled size:\", \n",
    "      X_train_res.shape)\n",
    "print(\"y train data resampled size:\", \n",
    "      y_train_res.shape)"
   ]
  },
  {
   "cell_type": "markdown",
   "id": "63bd7989-3bc6-40bf-bc6c-c0c8e253b888",
   "metadata": {},
   "source": [
    "The data is now balanced for both classes.  "
   ]
  },
  {
   "cell_type": "code",
   "execution_count": 42,
   "id": "a31db004-df0d-4d2e-9366-7297bf2a483b",
   "metadata": {
    "execution": {
     "iopub.execute_input": "2022-10-22T03:03:58.947749Z",
     "iopub.status.busy": "2022-10-22T03:03:58.947460Z",
     "iopub.status.idle": "2022-10-22T03:03:58.961038Z",
     "shell.execute_reply": "2022-10-22T03:03:58.960610Z",
     "shell.execute_reply.started": "2022-10-22T03:03:58.947730Z"
    },
    "tags": []
   },
   "outputs": [
    {
     "data": {
      "text/html": [
       "<div>\n",
       "<style scoped>\n",
       "    .dataframe tbody tr th:only-of-type {\n",
       "        vertical-align: middle;\n",
       "    }\n",
       "\n",
       "    .dataframe tbody tr th {\n",
       "        vertical-align: top;\n",
       "    }\n",
       "\n",
       "    .dataframe thead th {\n",
       "        text-align: right;\n",
       "    }\n",
       "</style>\n",
       "<table border=\"1\" class=\"dataframe\">\n",
       "  <thead>\n",
       "    <tr style=\"text-align: right;\">\n",
       "      <th></th>\n",
       "      <th>count</th>\n",
       "    </tr>\n",
       "  </thead>\n",
       "  <tbody>\n",
       "    <tr>\n",
       "      <th>0</th>\n",
       "      <td>735863</td>\n",
       "    </tr>\n",
       "    <tr>\n",
       "      <th>1</th>\n",
       "      <td>735863</td>\n",
       "    </tr>\n",
       "  </tbody>\n",
       "</table>\n",
       "</div>"
      ],
      "text/plain": [
       "    count\n",
       "0  735863\n",
       "1  735863"
      ]
     },
     "execution_count": 42,
     "metadata": {},
     "output_type": "execute_result"
    }
   ],
   "source": [
    "(\n",
    "    y_train_res.value_counts()\n",
    "    .to_frame('count')\n",
    ")"
   ]
  },
  {
   "cell_type": "markdown",
   "id": "a14431f9-6a14-4dc8-bd6c-f17d575b426e",
   "metadata": {},
   "source": [
    "## Feature selection  "
   ]
  },
  {
   "cell_type": "markdown",
   "id": "defcae61-59d5-4cc4-927f-84f9dbe16e5a",
   "metadata": {},
   "source": [
    "Three techniques are utilized to select features - SelectKBest, random forest classifier feature importance, and SelectByShuffling. "
   ]
  },
  {
   "cell_type": "markdown",
   "id": "ea1a45c9-9573-4532-bb0d-13c9e10a5666",
   "metadata": {},
   "source": [
    "### SelectKBest feature selection  "
   ]
  },
  {
   "cell_type": "code",
   "execution_count": 43,
   "id": "6cba298d-c83b-4d7d-8682-5dc219c630fc",
   "metadata": {
    "execution": {
     "iopub.execute_input": "2022-10-22T03:03:58.961804Z",
     "iopub.status.busy": "2022-10-22T03:03:58.961622Z",
     "iopub.status.idle": "2022-10-22T03:04:02.266299Z",
     "shell.execute_reply": "2022-10-22T03:04:02.265786Z",
     "shell.execute_reply.started": "2022-10-22T03:03:58.961787Z"
    },
    "tags": []
   },
   "outputs": [
    {
     "data": {
      "text/plain": [
       "array([[           2,            6,            5, ...,        11388,\n",
       "         76514038152, 161704380238],\n",
       "       [           2,            4,            4, ...,        11513,\n",
       "         31146046360, 143873766603],\n",
       "       [           2,            9,            1, ...,        60681,\n",
       "         73971752752, 329766916753],\n",
       "       ...,\n",
       "       [           2,            9,            1, ...,        55133,\n",
       "         70948229968, 320173877611],\n",
       "       [           2,           13,            2, ...,        39427,\n",
       "         78992277128, 324068519246],\n",
       "       [           2,            9,            1, ...,        52727,\n",
       "         63558549688, 321868523565]])"
      ]
     },
     "execution_count": 43,
     "metadata": {},
     "output_type": "execute_result"
    }
   ],
   "source": [
    "# References\n",
    "# https://scikit-learn.org/stable/modules/generated/sklearn.feature_selection.SelectKBest.html\n",
    "\n",
    "# SelectKBest feature selection is used with the Chi-squared stats\n",
    "# ('chi2') scoring function and k (all) top features.\n",
    "# The SelectKBest object ('skb_chi2_sample') is created and \n",
    "# fit/transform is applied on the 'X_train' and 'y_train' data.\n",
    "skb_chi2_sample = SelectKBest(score_func=chi2, k='all')\n",
    "skb_chi2_sample.fit_transform(X_train, y_train)"
   ]
  },
  {
   "cell_type": "code",
   "execution_count": 44,
   "id": "0aaff55d-ad33-448e-a347-73b6919b9833",
   "metadata": {
    "execution": {
     "iopub.execute_input": "2022-10-22T03:04:02.267214Z",
     "iopub.status.busy": "2022-10-22T03:04:02.267008Z",
     "iopub.status.idle": "2022-10-22T03:04:02.276052Z",
     "shell.execute_reply": "2022-10-22T03:04:02.275411Z",
     "shell.execute_reply.started": "2022-10-22T03:04:02.267195Z"
    },
    "tags": []
   },
   "outputs": [
    {
     "data": {
      "text/html": [
       "<div>\n",
       "<style scoped>\n",
       "    .dataframe tbody tr th:only-of-type {\n",
       "        vertical-align: middle;\n",
       "    }\n",
       "\n",
       "    .dataframe tbody tr th {\n",
       "        vertical-align: top;\n",
       "    }\n",
       "\n",
       "    .dataframe thead th {\n",
       "        text-align: right;\n",
       "    }\n",
       "</style>\n",
       "<table border=\"1\" class=\"dataframe\">\n",
       "  <thead>\n",
       "    <tr style=\"text-align: right;\">\n",
       "      <th></th>\n",
       "      <th>feature</th>\n",
       "      <th>scores</th>\n",
       "    </tr>\n",
       "  </thead>\n",
       "  <tbody>\n",
       "    <tr>\n",
       "      <th>0</th>\n",
       "      <td>smart_7_raw</td>\n",
       "      <td>41,094,649,613,218.91</td>\n",
       "    </tr>\n",
       "    <tr>\n",
       "      <th>1</th>\n",
       "      <td>smart_242_raw</td>\n",
       "      <td>37,045,446,467,642.90</td>\n",
       "    </tr>\n",
       "    <tr>\n",
       "      <th>2</th>\n",
       "      <td>smart_188_raw</td>\n",
       "      <td>14,527,857,417,944.73</td>\n",
       "    </tr>\n",
       "    <tr>\n",
       "      <th>3</th>\n",
       "      <td>smart_241_raw</td>\n",
       "      <td>1,643,146,073,203.87</td>\n",
       "    </tr>\n",
       "    <tr>\n",
       "      <th>4</th>\n",
       "      <td>smart_199_raw</td>\n",
       "      <td>47,605,722,102.03</td>\n",
       "    </tr>\n",
       "    <tr>\n",
       "      <th>5</th>\n",
       "      <td>smart_5_raw</td>\n",
       "      <td>1,171,595,390.02</td>\n",
       "    </tr>\n",
       "    <tr>\n",
       "      <th>6</th>\n",
       "      <td>smart_197_raw</td>\n",
       "      <td>193,369,861.95</td>\n",
       "    </tr>\n",
       "    <tr>\n",
       "      <th>7</th>\n",
       "      <td>smart_198_raw</td>\n",
       "      <td>193,369,861.95</td>\n",
       "    </tr>\n",
       "    <tr>\n",
       "      <th>8</th>\n",
       "      <td>smart_187_raw</td>\n",
       "      <td>180,528,158.61</td>\n",
       "    </tr>\n",
       "    <tr>\n",
       "      <th>9</th>\n",
       "      <td>smart_1_raw</td>\n",
       "      <td>11,661,749.95</td>\n",
       "    </tr>\n",
       "  </tbody>\n",
       "</table>\n",
       "</div>"
      ],
      "text/plain": [
       "         feature                scores\n",
       "0    smart_7_raw 41,094,649,613,218.91\n",
       "1  smart_242_raw 37,045,446,467,642.90\n",
       "2  smart_188_raw 14,527,857,417,944.73\n",
       "3  smart_241_raw  1,643,146,073,203.87\n",
       "4  smart_199_raw     47,605,722,102.03\n",
       "5    smart_5_raw      1,171,595,390.02\n",
       "6  smart_197_raw        193,369,861.95\n",
       "7  smart_198_raw        193,369,861.95\n",
       "8  smart_187_raw        180,528,158.61\n",
       "9    smart_1_raw         11,661,749.95"
      ]
     },
     "execution_count": 44,
     "metadata": {},
     "output_type": "execute_result"
    }
   ],
   "source": [
    "# A Pandas DataFrame is displayed using the 'X train' columns and \n",
    "# the SelectKBest object ('skb_chi2_sample') scores.\n",
    "# The Pandas DataFrame is sorted by the 'scores' in descending order \n",
    "# and the top 10 results are returned.\n",
    "(\n",
    "    pd.DataFrame(zip(X_train.columns, \n",
    "                     pd.Series(skb_chi2_sample.scores_)), \n",
    "                 columns=['feature', 'scores'])\n",
    "    .sort_values('scores', ascending=False)\n",
    "    .reset_index(drop=True)\n",
    "    .head(10)\n",
    ")"
   ]
  },
  {
   "cell_type": "markdown",
   "id": "cc0fdd19-f811-4737-80d0-c3edc19cf8a8",
   "metadata": {},
   "source": [
    "### Random forest feature importance  "
   ]
  },
  {
   "cell_type": "markdown",
   "id": "84389a57-f845-4e22-a306-6bcedee42776",
   "metadata": {},
   "source": [
    "A random forest classifier estimator needs to be created and fitted on the train data to calculate the feature importance. Due to the complex computations, the resampled data is used.  "
   ]
  },
  {
   "cell_type": "code",
   "execution_count": 45,
   "id": "a5ebef1c-58fb-4039-9ac2-6810a4048128",
   "metadata": {
    "execution": {
     "iopub.execute_input": "2022-10-22T03:04:02.276948Z",
     "iopub.status.busy": "2022-10-22T03:04:02.276757Z",
     "iopub.status.idle": "2022-10-22T03:04:02.280304Z",
     "shell.execute_reply": "2022-10-22T03:04:02.279695Z",
     "shell.execute_reply.started": "2022-10-22T03:04:02.276931Z"
    },
    "tags": []
   },
   "outputs": [],
   "source": [
    "# References\n",
    "# https://scikit-learn.org/stable/modules/generated/sklearn.ensemble.RandomForestClassifier.html\n",
    "\n",
    "# A random forest classifier ('rfc_fs_res') is created using the number \n",
    "# of jobs ('n_jobs') set to '14', so that the CPUs are not over \n",
    "# utilized. The random state of '42' is set for reproducibility.\n",
    "rfc_fs_res = RandomForestClassifier(\n",
    "    n_jobs=14, \n",
    "    random_state=42\n",
    ")"
   ]
  },
  {
   "cell_type": "code",
   "execution_count": 46,
   "id": "7c0d225d-f914-4057-a040-dac9b6d1eede",
   "metadata": {
    "execution": {
     "iopub.execute_input": "2022-10-22T03:04:02.281299Z",
     "iopub.status.busy": "2022-10-22T03:04:02.281113Z",
     "iopub.status.idle": "2022-10-22T03:05:01.759584Z",
     "shell.execute_reply": "2022-10-22T03:05:01.759097Z",
     "shell.execute_reply.started": "2022-10-22T03:04:02.281283Z"
    },
    "tags": []
   },
   "outputs": [
    {
     "data": {
      "text/html": [
       "<style>#sk-container-id-1 {color: black;background-color: white;}#sk-container-id-1 pre{padding: 0;}#sk-container-id-1 div.sk-toggleable {background-color: white;}#sk-container-id-1 label.sk-toggleable__label {cursor: pointer;display: block;width: 100%;margin-bottom: 0;padding: 0.3em;box-sizing: border-box;text-align: center;}#sk-container-id-1 label.sk-toggleable__label-arrow:before {content: \"▸\";float: left;margin-right: 0.25em;color: #696969;}#sk-container-id-1 label.sk-toggleable__label-arrow:hover:before {color: black;}#sk-container-id-1 div.sk-estimator:hover label.sk-toggleable__label-arrow:before {color: black;}#sk-container-id-1 div.sk-toggleable__content {max-height: 0;max-width: 0;overflow: hidden;text-align: left;background-color: #f0f8ff;}#sk-container-id-1 div.sk-toggleable__content pre {margin: 0.2em;color: black;border-radius: 0.25em;background-color: #f0f8ff;}#sk-container-id-1 input.sk-toggleable__control:checked~div.sk-toggleable__content {max-height: 200px;max-width: 100%;overflow: auto;}#sk-container-id-1 input.sk-toggleable__control:checked~label.sk-toggleable__label-arrow:before {content: \"▾\";}#sk-container-id-1 div.sk-estimator input.sk-toggleable__control:checked~label.sk-toggleable__label {background-color: #d4ebff;}#sk-container-id-1 div.sk-label input.sk-toggleable__control:checked~label.sk-toggleable__label {background-color: #d4ebff;}#sk-container-id-1 input.sk-hidden--visually {border: 0;clip: rect(1px 1px 1px 1px);clip: rect(1px, 1px, 1px, 1px);height: 1px;margin: -1px;overflow: hidden;padding: 0;position: absolute;width: 1px;}#sk-container-id-1 div.sk-estimator {font-family: monospace;background-color: #f0f8ff;border: 1px dotted black;border-radius: 0.25em;box-sizing: border-box;margin-bottom: 0.5em;}#sk-container-id-1 div.sk-estimator:hover {background-color: #d4ebff;}#sk-container-id-1 div.sk-parallel-item::after {content: \"\";width: 100%;border-bottom: 1px solid gray;flex-grow: 1;}#sk-container-id-1 div.sk-label:hover label.sk-toggleable__label {background-color: #d4ebff;}#sk-container-id-1 div.sk-serial::before {content: \"\";position: absolute;border-left: 1px solid gray;box-sizing: border-box;top: 0;bottom: 0;left: 50%;z-index: 0;}#sk-container-id-1 div.sk-serial {display: flex;flex-direction: column;align-items: center;background-color: white;padding-right: 0.2em;padding-left: 0.2em;position: relative;}#sk-container-id-1 div.sk-item {position: relative;z-index: 1;}#sk-container-id-1 div.sk-parallel {display: flex;align-items: stretch;justify-content: center;background-color: white;position: relative;}#sk-container-id-1 div.sk-item::before, #sk-container-id-1 div.sk-parallel-item::before {content: \"\";position: absolute;border-left: 1px solid gray;box-sizing: border-box;top: 0;bottom: 0;left: 50%;z-index: -1;}#sk-container-id-1 div.sk-parallel-item {display: flex;flex-direction: column;z-index: 1;position: relative;background-color: white;}#sk-container-id-1 div.sk-parallel-item:first-child::after {align-self: flex-end;width: 50%;}#sk-container-id-1 div.sk-parallel-item:last-child::after {align-self: flex-start;width: 50%;}#sk-container-id-1 div.sk-parallel-item:only-child::after {width: 0;}#sk-container-id-1 div.sk-dashed-wrapped {border: 1px dashed gray;margin: 0 0.4em 0.5em 0.4em;box-sizing: border-box;padding-bottom: 0.4em;background-color: white;}#sk-container-id-1 div.sk-label label {font-family: monospace;font-weight: bold;display: inline-block;line-height: 1.2em;}#sk-container-id-1 div.sk-label-container {text-align: center;}#sk-container-id-1 div.sk-container {/* jupyter's `normalize.less` sets `[hidden] { display: none; }` but bootstrap.min.css set `[hidden] { display: none !important; }` so we also need the `!important` here to be able to override the default hidden behavior on the sphinx rendered scikit-learn.org. See: https://github.com/scikit-learn/scikit-learn/issues/21755 */display: inline-block !important;position: relative;}#sk-container-id-1 div.sk-text-repr-fallback {display: none;}</style><div id=\"sk-container-id-1\" class=\"sk-top-container\"><div class=\"sk-text-repr-fallback\"><pre>RandomForestClassifier(n_jobs=14, random_state=42)</pre><b>In a Jupyter environment, please rerun this cell to show the HTML representation or trust the notebook. <br />On GitHub, the HTML representation is unable to render, please try loading this page with nbviewer.org.</b></div><div class=\"sk-container\" hidden><div class=\"sk-item\"><div class=\"sk-estimator sk-toggleable\"><input class=\"sk-toggleable__control sk-hidden--visually\" id=\"sk-estimator-id-1\" type=\"checkbox\" checked><label for=\"sk-estimator-id-1\" class=\"sk-toggleable__label sk-toggleable__label-arrow\">RandomForestClassifier</label><div class=\"sk-toggleable__content\"><pre>RandomForestClassifier(n_jobs=14, random_state=42)</pre></div></div></div></div></div>"
      ],
      "text/plain": [
       "RandomForestClassifier(n_jobs=14, random_state=42)"
      ]
     },
     "execution_count": 46,
     "metadata": {},
     "output_type": "execute_result"
    }
   ],
   "source": [
    "# A random forest classifier ('rfc_fs_res') is fitted on the 'X_train' \n",
    "# 'y_train' resampled data.\n",
    "rfc_fs_res.fit(\n",
    "    X_train_res, \n",
    "    y_train_res\n",
    ")"
   ]
  },
  {
   "cell_type": "markdown",
   "id": "3fc3eab7-fc46-4867-89f9-c08148c4a979",
   "metadata": {},
   "source": [
    "The feature importances from the random forest classifier are obtained.  "
   ]
  },
  {
   "cell_type": "code",
   "execution_count": 47,
   "id": "4205a3f2-5ddd-499f-9199-01f2bd033d67",
   "metadata": {
    "execution": {
     "iopub.execute_input": "2022-10-22T03:05:01.760614Z",
     "iopub.status.busy": "2022-10-22T03:05:01.760350Z",
     "iopub.status.idle": "2022-10-22T03:05:01.784563Z",
     "shell.execute_reply": "2022-10-22T03:05:01.784074Z",
     "shell.execute_reply.started": "2022-10-22T03:05:01.760594Z"
    },
    "tags": []
   },
   "outputs": [
    {
     "data": {
      "text/html": [
       "<div>\n",
       "<style scoped>\n",
       "    .dataframe tbody tr th:only-of-type {\n",
       "        vertical-align: middle;\n",
       "    }\n",
       "\n",
       "    .dataframe tbody tr th {\n",
       "        vertical-align: top;\n",
       "    }\n",
       "\n",
       "    .dataframe thead th {\n",
       "        text-align: right;\n",
       "    }\n",
       "</style>\n",
       "<table border=\"1\" class=\"dataframe\">\n",
       "  <thead>\n",
       "    <tr style=\"text-align: right;\">\n",
       "      <th></th>\n",
       "      <th>feature</th>\n",
       "      <th>importance</th>\n",
       "    </tr>\n",
       "  </thead>\n",
       "  <tbody>\n",
       "    <tr>\n",
       "      <th>0</th>\n",
       "      <td>smart_187_raw</td>\n",
       "      <td>0.14</td>\n",
       "    </tr>\n",
       "    <tr>\n",
       "      <th>1</th>\n",
       "      <td>smart_187_normalized</td>\n",
       "      <td>0.13</td>\n",
       "    </tr>\n",
       "    <tr>\n",
       "      <th>2</th>\n",
       "      <td>smart_5_raw</td>\n",
       "      <td>0.13</td>\n",
       "    </tr>\n",
       "    <tr>\n",
       "      <th>3</th>\n",
       "      <td>smart_197_raw</td>\n",
       "      <td>0.05</td>\n",
       "    </tr>\n",
       "    <tr>\n",
       "      <th>4</th>\n",
       "      <td>smart_193_raw</td>\n",
       "      <td>0.04</td>\n",
       "    </tr>\n",
       "    <tr>\n",
       "      <th>5</th>\n",
       "      <td>smart_241_raw</td>\n",
       "      <td>0.04</td>\n",
       "    </tr>\n",
       "    <tr>\n",
       "      <th>6</th>\n",
       "      <td>smart_242_raw</td>\n",
       "      <td>0.04</td>\n",
       "    </tr>\n",
       "    <tr>\n",
       "      <th>7</th>\n",
       "      <td>smart_198_raw</td>\n",
       "      <td>0.04</td>\n",
       "    </tr>\n",
       "    <tr>\n",
       "      <th>8</th>\n",
       "      <td>smart_9_raw</td>\n",
       "      <td>0.04</td>\n",
       "    </tr>\n",
       "    <tr>\n",
       "      <th>9</th>\n",
       "      <td>smart_7_raw</td>\n",
       "      <td>0.04</td>\n",
       "    </tr>\n",
       "  </tbody>\n",
       "</table>\n",
       "</div>"
      ],
      "text/plain": [
       "                feature  importance\n",
       "0         smart_187_raw        0.14\n",
       "1  smart_187_normalized        0.13\n",
       "2           smart_5_raw        0.13\n",
       "3         smart_197_raw        0.05\n",
       "4         smart_193_raw        0.04\n",
       "5         smart_241_raw        0.04\n",
       "6         smart_242_raw        0.04\n",
       "7         smart_198_raw        0.04\n",
       "8           smart_9_raw        0.04\n",
       "9           smart_7_raw        0.04"
      ]
     },
     "execution_count": 47,
     "metadata": {},
     "output_type": "execute_result"
    }
   ],
   "source": [
    "# A Pandas DataFrame is created with the 'X_train' resampled data\n",
    "# columns and the feature importances from the random forest classifier\n",
    "# model ('rfc_fs_res'). The 'importance' values are sorted in\n",
    "# descending order and only the first 10 features are displayed.\n",
    "(\n",
    "    pd.DataFrame(zip(X_train_res.columns, \n",
    "                     rfc_fs_res.feature_importances_), \n",
    "                 columns=['feature', 'importance'])\n",
    "    .sort_values('importance', ascending=False)\n",
    "    .reset_index(drop=True)\n",
    "    .head(10)\n",
    ")"
   ]
  },
  {
   "cell_type": "markdown",
   "id": "795d9dc6-3f87-4666-a7d3-9453735f2bc3",
   "metadata": {},
   "source": [
    "### Select by shuffle feature elimination  "
   ]
  },
  {
   "cell_type": "markdown",
   "id": "597e5ed2-26be-4956-b261-39aad4a93694",
   "metadata": {},
   "source": [
    "Select by shuffle uses the random forest classifier estimator and as the features are shuffled, evaluates for a performance drop (Feature-engine developers, 2022). If the feature drop is greater than the threshold of 0.01, the feature is dropped (Feature-engine developers, 2022). Due to the complex computations, the resampled data is used.  "
   ]
  },
  {
   "cell_type": "code",
   "execution_count": 48,
   "id": "f5bc18cc-e823-40cf-8d22-5105a4bdb7b6",
   "metadata": {
    "execution": {
     "iopub.execute_input": "2022-10-22T03:05:01.785524Z",
     "iopub.status.busy": "2022-10-22T03:05:01.785268Z",
     "iopub.status.idle": "2022-10-22T03:05:01.788391Z",
     "shell.execute_reply": "2022-10-22T03:05:01.787939Z",
     "shell.execute_reply.started": "2022-10-22T03:05:01.785503Z"
    },
    "tags": []
   },
   "outputs": [],
   "source": [
    "# References\n",
    "# https://feature-engine.readthedocs.io/en/latest/api_doc/selection/SelectByShuffling.html\n",
    "\n",
    "# Select by shuffle uses the random forest classifier estimator and\n",
    "# randomly checks the model performance drop by shuffling the features.\n",
    "selectbyshuffle_fs = SelectByShuffling(\n",
    "    rfc_fs_res, \n",
    "    scoring='f1', \n",
    "    cv=3, \n",
    "    random_state=42\n",
    ")"
   ]
  },
  {
   "cell_type": "code",
   "execution_count": 49,
   "id": "7033604b-a282-458e-8ded-167fb2edfd1e",
   "metadata": {
    "execution": {
     "iopub.execute_input": "2022-10-22T03:05:01.789253Z",
     "iopub.status.busy": "2022-10-22T03:05:01.789028Z",
     "iopub.status.idle": "2022-10-22T03:09:06.411652Z",
     "shell.execute_reply": "2022-10-22T03:09:06.411050Z",
     "shell.execute_reply.started": "2022-10-22T03:05:01.789236Z"
    },
    "tags": []
   },
   "outputs": [
    {
     "data": {
      "text/html": [
       "<style>#sk-container-id-2 {color: black;background-color: white;}#sk-container-id-2 pre{padding: 0;}#sk-container-id-2 div.sk-toggleable {background-color: white;}#sk-container-id-2 label.sk-toggleable__label {cursor: pointer;display: block;width: 100%;margin-bottom: 0;padding: 0.3em;box-sizing: border-box;text-align: center;}#sk-container-id-2 label.sk-toggleable__label-arrow:before {content: \"▸\";float: left;margin-right: 0.25em;color: #696969;}#sk-container-id-2 label.sk-toggleable__label-arrow:hover:before {color: black;}#sk-container-id-2 div.sk-estimator:hover label.sk-toggleable__label-arrow:before {color: black;}#sk-container-id-2 div.sk-toggleable__content {max-height: 0;max-width: 0;overflow: hidden;text-align: left;background-color: #f0f8ff;}#sk-container-id-2 div.sk-toggleable__content pre {margin: 0.2em;color: black;border-radius: 0.25em;background-color: #f0f8ff;}#sk-container-id-2 input.sk-toggleable__control:checked~div.sk-toggleable__content {max-height: 200px;max-width: 100%;overflow: auto;}#sk-container-id-2 input.sk-toggleable__control:checked~label.sk-toggleable__label-arrow:before {content: \"▾\";}#sk-container-id-2 div.sk-estimator input.sk-toggleable__control:checked~label.sk-toggleable__label {background-color: #d4ebff;}#sk-container-id-2 div.sk-label input.sk-toggleable__control:checked~label.sk-toggleable__label {background-color: #d4ebff;}#sk-container-id-2 input.sk-hidden--visually {border: 0;clip: rect(1px 1px 1px 1px);clip: rect(1px, 1px, 1px, 1px);height: 1px;margin: -1px;overflow: hidden;padding: 0;position: absolute;width: 1px;}#sk-container-id-2 div.sk-estimator {font-family: monospace;background-color: #f0f8ff;border: 1px dotted black;border-radius: 0.25em;box-sizing: border-box;margin-bottom: 0.5em;}#sk-container-id-2 div.sk-estimator:hover {background-color: #d4ebff;}#sk-container-id-2 div.sk-parallel-item::after {content: \"\";width: 100%;border-bottom: 1px solid gray;flex-grow: 1;}#sk-container-id-2 div.sk-label:hover label.sk-toggleable__label {background-color: #d4ebff;}#sk-container-id-2 div.sk-serial::before {content: \"\";position: absolute;border-left: 1px solid gray;box-sizing: border-box;top: 0;bottom: 0;left: 50%;z-index: 0;}#sk-container-id-2 div.sk-serial {display: flex;flex-direction: column;align-items: center;background-color: white;padding-right: 0.2em;padding-left: 0.2em;position: relative;}#sk-container-id-2 div.sk-item {position: relative;z-index: 1;}#sk-container-id-2 div.sk-parallel {display: flex;align-items: stretch;justify-content: center;background-color: white;position: relative;}#sk-container-id-2 div.sk-item::before, #sk-container-id-2 div.sk-parallel-item::before {content: \"\";position: absolute;border-left: 1px solid gray;box-sizing: border-box;top: 0;bottom: 0;left: 50%;z-index: -1;}#sk-container-id-2 div.sk-parallel-item {display: flex;flex-direction: column;z-index: 1;position: relative;background-color: white;}#sk-container-id-2 div.sk-parallel-item:first-child::after {align-self: flex-end;width: 50%;}#sk-container-id-2 div.sk-parallel-item:last-child::after {align-self: flex-start;width: 50%;}#sk-container-id-2 div.sk-parallel-item:only-child::after {width: 0;}#sk-container-id-2 div.sk-dashed-wrapped {border: 1px dashed gray;margin: 0 0.4em 0.5em 0.4em;box-sizing: border-box;padding-bottom: 0.4em;background-color: white;}#sk-container-id-2 div.sk-label label {font-family: monospace;font-weight: bold;display: inline-block;line-height: 1.2em;}#sk-container-id-2 div.sk-label-container {text-align: center;}#sk-container-id-2 div.sk-container {/* jupyter's `normalize.less` sets `[hidden] { display: none; }` but bootstrap.min.css set `[hidden] { display: none !important; }` so we also need the `!important` here to be able to override the default hidden behavior on the sphinx rendered scikit-learn.org. See: https://github.com/scikit-learn/scikit-learn/issues/21755 */display: inline-block !important;position: relative;}#sk-container-id-2 div.sk-text-repr-fallback {display: none;}</style><div id=\"sk-container-id-2\" class=\"sk-top-container\"><div class=\"sk-text-repr-fallback\"><pre>SelectByShuffling(estimator=RandomForestClassifier(n_jobs=14, random_state=42),\n",
       "                  random_state=42, scoring=&#x27;f1&#x27;)</pre><b>In a Jupyter environment, please rerun this cell to show the HTML representation or trust the notebook. <br />On GitHub, the HTML representation is unable to render, please try loading this page with nbviewer.org.</b></div><div class=\"sk-container\" hidden><div class=\"sk-item sk-dashed-wrapped\"><div class=\"sk-label-container\"><div class=\"sk-label sk-toggleable\"><input class=\"sk-toggleable__control sk-hidden--visually\" id=\"sk-estimator-id-2\" type=\"checkbox\" ><label for=\"sk-estimator-id-2\" class=\"sk-toggleable__label sk-toggleable__label-arrow\">SelectByShuffling</label><div class=\"sk-toggleable__content\"><pre>SelectByShuffling(estimator=RandomForestClassifier(n_jobs=14, random_state=42),\n",
       "                  random_state=42, scoring=&#x27;f1&#x27;)</pre></div></div></div><div class=\"sk-parallel\"><div class=\"sk-parallel-item\"><div class=\"sk-item\"><div class=\"sk-label-container\"><div class=\"sk-label sk-toggleable\"><input class=\"sk-toggleable__control sk-hidden--visually\" id=\"sk-estimator-id-3\" type=\"checkbox\" ><label for=\"sk-estimator-id-3\" class=\"sk-toggleable__label sk-toggleable__label-arrow\">estimator: RandomForestClassifier</label><div class=\"sk-toggleable__content\"><pre>RandomForestClassifier(n_jobs=14, random_state=42)</pre></div></div></div><div class=\"sk-serial\"><div class=\"sk-item\"><div class=\"sk-estimator sk-toggleable\"><input class=\"sk-toggleable__control sk-hidden--visually\" id=\"sk-estimator-id-4\" type=\"checkbox\" ><label for=\"sk-estimator-id-4\" class=\"sk-toggleable__label sk-toggleable__label-arrow\">RandomForestClassifier</label><div class=\"sk-toggleable__content\"><pre>RandomForestClassifier(n_jobs=14, random_state=42)</pre></div></div></div></div></div></div></div></div></div></div>"
      ],
      "text/plain": [
       "SelectByShuffling(estimator=RandomForestClassifier(n_jobs=14, random_state=42),\n",
       "                  random_state=42, scoring='f1')"
      ]
     },
     "execution_count": 49,
     "metadata": {},
     "output_type": "execute_result"
    }
   ],
   "source": [
    "# The SelectByShuffling object ('selectbyshuffle_fs') is fitted on the\n",
    "# 'X_train' and 'y_train' resampled data.\n",
    "selectbyshuffle_fs.fit(\n",
    "    X_train_res, \n",
    "    y_train_res\n",
    ")"
   ]
  },
  {
   "cell_type": "code",
   "execution_count": 50,
   "id": "017f6cfc-f40a-4b1e-a6c6-b1ae94274969",
   "metadata": {
    "execution": {
     "iopub.execute_input": "2022-10-22T03:09:06.412872Z",
     "iopub.status.busy": "2022-10-22T03:09:06.412574Z",
     "iopub.status.idle": "2022-10-22T03:09:06.416818Z",
     "shell.execute_reply": "2022-10-22T03:09:06.416390Z",
     "shell.execute_reply.started": "2022-10-22T03:09:06.412847Z"
    },
    "tags": []
   },
   "outputs": [
    {
     "data": {
      "text/plain": [
       "['smart_5_raw',\n",
       " 'smart_7_raw',\n",
       " 'smart_9_raw',\n",
       " 'smart_187_normalized',\n",
       " 'smart_187_raw',\n",
       " 'smart_192_raw',\n",
       " 'smart_193_raw',\n",
       " 'smart_197_raw',\n",
       " 'smart_198_raw',\n",
       " 'smart_240_raw',\n",
       " 'smart_241_raw',\n",
       " 'smart_242_raw']"
      ]
     },
     "execution_count": 50,
     "metadata": {},
     "output_type": "execute_result"
    }
   ],
   "source": [
    "# The features of importances are obtained by from the \n",
    "# SelectByShuffling object ('selectbyshuffle_fs').  \n",
    "selectbyshuffle_fs.get_feature_names_out()"
   ]
  },
  {
   "cell_type": "markdown",
   "id": "f34aacbb-1f65-4f80-867b-9ffa656d9d04",
   "metadata": {},
   "source": [
    "***"
   ]
  },
  {
   "cell_type": "markdown",
   "id": "7b139a2d-15eb-45c8-9acc-002749645eac",
   "metadata": {},
   "source": [
    "## Select the new features  "
   ]
  },
  {
   "cell_type": "markdown",
   "id": "6203c499-e578-442b-a86b-0414a69b8e37",
   "metadata": {},
   "source": [
    "The features are selected that appeared 2 or more times in the feature selection methods, with the exception of `smart_188_raw` feature. The `smart_188_raw` feature only appeared in 1 feature selection method. However, the `smart_188_raw` feature is being included due to possibly being critical in predicting hard drive failure (S.M.A.R.T., 2022). The feature is being included due to domain knowledge.  \n",
    "<br>\n",
    "\n",
    "| ATTRIBUTE             | ATTRIBUTE NAME                                |\n",
    "|-----------------------|-----------------------------------------------|\n",
    "|     smart_5_raw       |     Reallocated Sectors Count                 |\n",
    "|     smart_7_raw       |     Seek Error Rate                           |\n",
    "|     smart_9_raw       |     Power-On Hours                            |\n",
    "|     smart_187_raw     |     Reported Uncorrectable Errors             |\n",
    "|     smart_188_raw*    |     Command Timeout                           |\n",
    "|     smart_193_raw     |     Load Cycle Count                          |\n",
    "|     smart_197_raw     |     Current Pending Sector Count              |\n",
    "|     smart_198_raw     |     (Offline) Uncorrectable Sector Count      |\n",
    "|     smart_240_raw     |     Head Flying Hours                         |\n",
    "|     smart_241_raw     |     Total LBAs Written                        |\n",
    "|     smart_242_raw     |     Total LBAs Read                           |\n",
    "\n",
    "(S.M.A.R.T., 2022)  "
   ]
  },
  {
   "cell_type": "code",
   "execution_count": 51,
   "id": "326c10f4-6ae9-4269-8bb0-42da5b0e3e64",
   "metadata": {
    "execution": {
     "iopub.execute_input": "2022-10-22T03:09:06.417791Z",
     "iopub.status.busy": "2022-10-22T03:09:06.417451Z",
     "iopub.status.idle": "2022-10-22T03:09:06.688885Z",
     "shell.execute_reply": "2022-10-22T03:09:06.688395Z",
     "shell.execute_reply.started": "2022-10-22T03:09:06.417772Z"
    },
    "tags": []
   },
   "outputs": [
    {
     "data": {
      "text/plain": [
       "Index(['smart_5_raw', 'smart_7_raw', 'smart_9_raw', 'smart_187_raw',\n",
       "       'smart_188_raw', 'smart_193_raw', 'smart_197_raw', 'smart_198_raw',\n",
       "       'smart_240_raw', 'smart_241_raw', 'smart_242_raw', 'failure'],\n",
       "      dtype='object')"
      ]
     },
     "execution_count": 51,
     "metadata": {},
     "output_type": "execute_result"
    }
   ],
   "source": [
    "# A new Pandas DataFrame ('q1_2022_seagate_feat_df') is created with \n",
    "# the new features that are selected.\n",
    "features = ['smart_5_raw', 'smart_7_raw', 'smart_9_raw', \n",
    "            'smart_187_raw', 'smart_188_raw', 'smart_193_raw', \n",
    "            'smart_197_raw', 'smart_198_raw', 'smart_240_raw', \n",
    "            'smart_241_raw', 'smart_242_raw', 'failure']\n",
    "q1_2022_seagate_feat_df = q1_2022_seagate_df[features]\n",
    "q1_2022_seagate_feat_df.columns"
   ]
  },
  {
   "cell_type": "markdown",
   "id": "76ca1efa-b321-43eb-9252-8db3fbc33187",
   "metadata": {},
   "source": [
    "## Split the data into X and y with the new features"
   ]
  },
  {
   "cell_type": "markdown",
   "id": "0dc9b9ef-a027-435f-bba5-e3f027924141",
   "metadata": {},
   "source": [
    "The data with the new features is split into a `X` matrix and a `y` array, where the `X` matrix contains the features, and `y` array contains the labels (target).  "
   ]
  },
  {
   "cell_type": "code",
   "execution_count": 52,
   "id": "b036d122-7799-4a33-a0ee-664bf8b86315",
   "metadata": {
    "execution": {
     "iopub.execute_input": "2022-10-22T03:09:06.689875Z",
     "iopub.status.busy": "2022-10-22T03:09:06.689601Z",
     "iopub.status.idle": "2022-10-22T03:09:06.938729Z",
     "shell.execute_reply": "2022-10-22T03:09:06.938168Z",
     "shell.execute_reply.started": "2022-10-22T03:09:06.689856Z"
    },
    "tags": []
   },
   "outputs": [],
   "source": [
    "# The Pandas DataFrame ('q1_2022_seagate_df') is used to split the \n",
    "# data into an 'X' matrix ('X_feat') and 'y' array ('y_feat').\n",
    "X_feat = q1_2022_seagate_feat_df.drop(columns='failure')\n",
    "y_feat = q1_2022_seagate_feat_df['failure']"
   ]
  },
  {
   "cell_type": "markdown",
   "id": "8aaba6db-a268-44d4-80de-dbfe4cbd8825",
   "metadata": {},
   "source": [
    "The `X` matrix only contains the `smart` features and no longer contains the `failure` (target).  "
   ]
  },
  {
   "cell_type": "code",
   "execution_count": 53,
   "id": "8bd45a76-cede-439b-ba4f-e5b3f0e6b009",
   "metadata": {
    "execution": {
     "iopub.execute_input": "2022-10-22T03:09:06.939803Z",
     "iopub.status.busy": "2022-10-22T03:09:06.939501Z",
     "iopub.status.idle": "2022-10-22T03:09:06.948899Z",
     "shell.execute_reply": "2022-10-22T03:09:06.948428Z",
     "shell.execute_reply.started": "2022-10-22T03:09:06.939783Z"
    },
    "tags": []
   },
   "outputs": [
    {
     "name": "stdout",
     "output_type": "stream",
     "text": [
      "<class 'pandas.core.frame.DataFrame'>\n",
      "RangeIndex: 9201120 entries, 0 to 9201119\n",
      "Data columns (total 11 columns):\n",
      " #   Column         Dtype\n",
      "---  ------         -----\n",
      " 0   smart_5_raw    int64\n",
      " 1   smart_7_raw    int64\n",
      " 2   smart_9_raw    int64\n",
      " 3   smart_187_raw  int64\n",
      " 4   smart_188_raw  int64\n",
      " 5   smart_193_raw  int64\n",
      " 6   smart_197_raw  int64\n",
      " 7   smart_198_raw  int64\n",
      " 8   smart_240_raw  int64\n",
      " 9   smart_241_raw  int64\n",
      " 10  smart_242_raw  int64\n",
      "dtypes: int64(11)\n",
      "memory usage: 772.2 MB\n"
     ]
    }
   ],
   "source": [
    "X_feat.info()"
   ]
  },
  {
   "cell_type": "markdown",
   "id": "1fe3afa5-0e06-4864-9b7e-ae1384535008",
   "metadata": {
    "execution": {
     "iopub.execute_input": "2022-10-09T17:57:28.480621Z",
     "iopub.status.busy": "2022-10-09T17:57:28.480239Z",
     "iopub.status.idle": "2022-10-09T17:57:28.484503Z",
     "shell.execute_reply": "2022-10-09T17:57:28.483925Z",
     "shell.execute_reply.started": "2022-10-09T17:57:28.480597Z"
    }
   },
   "source": [
    "The `y` array only contains the `failure` (target).  "
   ]
  },
  {
   "cell_type": "code",
   "execution_count": 54,
   "id": "d14711a7-ffb0-455e-8f08-9ecbfccc0de0",
   "metadata": {
    "execution": {
     "iopub.execute_input": "2022-10-22T03:09:06.949807Z",
     "iopub.status.busy": "2022-10-22T03:09:06.949620Z",
     "iopub.status.idle": "2022-10-22T03:09:07.022884Z",
     "shell.execute_reply": "2022-10-22T03:09:07.022357Z",
     "shell.execute_reply.started": "2022-10-22T03:09:06.949790Z"
    },
    "tags": []
   },
   "outputs": [
    {
     "name": "stdout",
     "output_type": "stream",
     "text": [
      "<class 'pandas.core.series.Series'>\n",
      "RangeIndex: 9201120 entries, 0 to 9201119\n",
      "Series name: failure\n",
      "Non-Null Count    Dtype\n",
      "--------------    -----\n",
      "9201120 non-null  int64\n",
      "dtypes: int64(1)\n",
      "memory usage: 70.2 MB\n"
     ]
    }
   ],
   "source": [
    "y_feat.info()"
   ]
  },
  {
   "cell_type": "markdown",
   "id": "02f5be98-d712-40c8-aaf0-e17525707e36",
   "metadata": {},
   "source": [
    "## Split the data into train and test with the new features"
   ]
  },
  {
   "cell_type": "code",
   "execution_count": 55,
   "id": "3e4602bc-6c8c-4633-80b1-524049b619dc",
   "metadata": {
    "execution": {
     "iopub.execute_input": "2022-10-22T03:09:07.023923Z",
     "iopub.status.busy": "2022-10-22T03:09:07.023653Z",
     "iopub.status.idle": "2022-10-22T03:09:11.325580Z",
     "shell.execute_reply": "2022-10-22T03:09:11.324998Z",
     "shell.execute_reply.started": "2022-10-22T03:09:07.023903Z"
    },
    "tags": []
   },
   "outputs": [],
   "source": [
    "# An 'X' matrix ('X_feat') and 'y' array ('y_feature') are split into \n",
    "# train and test datasets.\n",
    "# The train size is 80% and the test size is 20%.\n",
    "# A random state of '42' is used for reproducibility and stratify is\n",
    "# implemented to ensure observations from both classes.\n",
    "X_train_feat, X_test_feat, y_train_feat, y_test_feat = train_test_split(\n",
    "    X_feat, y_feat, \n",
    "    test_size=0.20, \n",
    "    random_state=42, \n",
    "    stratify=y)"
   ]
  },
  {
   "cell_type": "code",
   "execution_count": 56,
   "id": "ff19b48a-989b-4704-b9e1-518d3881bd80",
   "metadata": {
    "execution": {
     "iopub.execute_input": "2022-10-22T03:09:11.326685Z",
     "iopub.status.busy": "2022-10-22T03:09:11.326398Z",
     "iopub.status.idle": "2022-10-22T03:09:11.330306Z",
     "shell.execute_reply": "2022-10-22T03:09:11.329820Z",
     "shell.execute_reply.started": "2022-10-22T03:09:11.326664Z"
    },
    "tags": []
   },
   "outputs": [
    {
     "name": "stdout",
     "output_type": "stream",
     "text": [
      "X train data size with new features:  (7360896, 11)\n",
      "y train data size with new features:  (1840224, 11)\n",
      "X test data size with new features:  (7360896,)\n",
      "y test data size with new features: (1840224,)\n"
     ]
    }
   ],
   "source": [
    "print(\"X train data size with new features: \", X_train_feat.shape)\n",
    "print(\"y train data size with new features: \", X_test_feat.shape)\n",
    "print(\"X test data size with new features: \", y_train_feat.shape)\n",
    "print(\"y test data size with new features:\", y_test_feat.shape)"
   ]
  },
  {
   "cell_type": "markdown",
   "id": "63a7664f-edf0-4f0e-9e1a-ac7b2c3457a7",
   "metadata": {},
   "source": [
    "## Random sampling (over and under) new features  "
   ]
  },
  {
   "cell_type": "markdown",
   "id": "82a3e4c3-243f-4633-a438-4d9227df4408",
   "metadata": {},
   "source": [
    "Once the new features are selected, random over-sampling and random under-sampling needs to be applied to the to data reduce the size. The reduced data is used for finding the best parameters with BayesSearchCV for the machine learning models.  Using random over-sampling and random under-sampling provides a subset of data, which allows for faster processing of data.  "
   ]
  },
  {
   "cell_type": "code",
   "execution_count": 57,
   "id": "dc3e4183-79c2-4b4d-bb95-7ca01062e4f7",
   "metadata": {
    "execution": {
     "iopub.execute_input": "2022-10-22T03:09:11.331294Z",
     "iopub.status.busy": "2022-10-22T03:09:11.330961Z",
     "iopub.status.idle": "2022-10-22T03:09:13.955742Z",
     "shell.execute_reply": "2022-10-22T03:09:13.955084Z",
     "shell.execute_reply.started": "2022-10-22T03:09:11.331276Z"
    },
    "tags": []
   },
   "outputs": [],
   "source": [
    "# References\n",
    "# https://imbalanced-learn.org/stable/references/generated/imblearn.over_sampling.RandomOverSampler.html\n",
    "\n",
    "# The minority class ('non-functional' or 1) is over-sampled by 10% \n",
    "# (0.1) to increase the quantity of samples in the minority class \n",
    "# ('non-functional' or 1).\n",
    "ros = RandomOverSampler(\n",
    "    sampling_strategy=0.1, \n",
    "    random_state=42\n",
    ")\n",
    "X_train_ros_feat, y_train_ros_feat = ros.fit_resample(\n",
    "    X_train_feat, \n",
    "    y_train_feat\n",
    ")"
   ]
  },
  {
   "cell_type": "code",
   "execution_count": 58,
   "id": "2cc8f240-e9a5-4f35-81a0-dd7fe8091502",
   "metadata": {
    "execution": {
     "iopub.execute_input": "2022-10-22T03:09:13.956809Z",
     "iopub.status.busy": "2022-10-22T03:09:13.956536Z",
     "iopub.status.idle": "2022-10-22T03:09:16.413901Z",
     "shell.execute_reply": "2022-10-22T03:09:16.413335Z",
     "shell.execute_reply.started": "2022-10-22T03:09:13.956788Z"
    },
    "tags": []
   },
   "outputs": [],
   "source": [
    "# References\n",
    "# https://imbalanced-learn.org/stable/references/generated/imblearn.under_sampling.RandomUnderSampler.html\n",
    "\n",
    "# The majority class ('functional' or 0) is under-sampled by a strategy \n",
    "# of 'all' to decrease the quantity of samples in the majority class \n",
    "# ('functional' or 0) to equal the minority class ('non-functional' or\n",
    "# 1).\n",
    "rus = RandomUnderSampler(\n",
    "    random_state=42\n",
    ")\n",
    "X_train_res_feat, y_train_res_feat = rus.fit_resample(\n",
    "    X_train_ros_feat, \n",
    "    y_train_ros_feat\n",
    ") "
   ]
  },
  {
   "cell_type": "code",
   "execution_count": 59,
   "id": "e33e59f9-5cb9-4686-92cd-4ed47ecc44c7",
   "metadata": {
    "execution": {
     "iopub.execute_input": "2022-10-22T03:09:16.415003Z",
     "iopub.status.busy": "2022-10-22T03:09:16.414714Z",
     "iopub.status.idle": "2022-10-22T03:09:16.418278Z",
     "shell.execute_reply": "2022-10-22T03:09:16.417804Z",
     "shell.execute_reply.started": "2022-10-22T03:09:16.414982Z"
    },
    "tags": []
   },
   "outputs": [
    {
     "name": "stdout",
     "output_type": "stream",
     "text": [
      "X train data resampled size with new features: (1471726, 11)\n",
      "y train data resampled size with new features: (1471726,)\n"
     ]
    }
   ],
   "source": [
    "print(\"X train data resampled size with new features:\", \n",
    "      X_train_res_feat.shape)\n",
    "print(\"y train data resampled size with new features:\", \n",
    "      y_train_res_feat.shape)"
   ]
  },
  {
   "cell_type": "markdown",
   "id": "37601248-8290-4ba3-817c-4866de46687c",
   "metadata": {},
   "source": [
    "The data is now balanced for both classes.  "
   ]
  },
  {
   "cell_type": "code",
   "execution_count": 60,
   "id": "3e1d9dcd-6d6b-430b-8fcb-99daa52f3980",
   "metadata": {
    "execution": {
     "iopub.execute_input": "2022-10-22T03:09:16.419215Z",
     "iopub.status.busy": "2022-10-22T03:09:16.418942Z",
     "iopub.status.idle": "2022-10-22T03:09:16.434478Z",
     "shell.execute_reply": "2022-10-22T03:09:16.434020Z",
     "shell.execute_reply.started": "2022-10-22T03:09:16.419197Z"
    },
    "tags": []
   },
   "outputs": [
    {
     "data": {
      "text/html": [
       "<div>\n",
       "<style scoped>\n",
       "    .dataframe tbody tr th:only-of-type {\n",
       "        vertical-align: middle;\n",
       "    }\n",
       "\n",
       "    .dataframe tbody tr th {\n",
       "        vertical-align: top;\n",
       "    }\n",
       "\n",
       "    .dataframe thead th {\n",
       "        text-align: right;\n",
       "    }\n",
       "</style>\n",
       "<table border=\"1\" class=\"dataframe\">\n",
       "  <thead>\n",
       "    <tr style=\"text-align: right;\">\n",
       "      <th></th>\n",
       "      <th>count</th>\n",
       "    </tr>\n",
       "  </thead>\n",
       "  <tbody>\n",
       "    <tr>\n",
       "      <th>0</th>\n",
       "      <td>735863</td>\n",
       "    </tr>\n",
       "    <tr>\n",
       "      <th>1</th>\n",
       "      <td>735863</td>\n",
       "    </tr>\n",
       "  </tbody>\n",
       "</table>\n",
       "</div>"
      ],
      "text/plain": [
       "    count\n",
       "0  735863\n",
       "1  735863"
      ]
     },
     "execution_count": 60,
     "metadata": {},
     "output_type": "execute_result"
    }
   ],
   "source": [
    "y_train_res_feat.value_counts().to_frame('count')"
   ]
  },
  {
   "cell_type": "markdown",
   "id": "af06ce41-7b76-4e23-84ce-a4de26d9fd05",
   "metadata": {},
   "source": [
    "## Random forest classifier baseline"
   ]
  },
  {
   "cell_type": "markdown",
   "id": "84af6e3c-1809-41b9-9f9f-e09db895c058",
   "metadata": {},
   "source": [
    "A random forest classifier was previously established for feature selection. However, the random classifier used resampled data. For a baseline to compare other gradient boosted models, a random forest classifier model is run on the full data. The gradient boosted models will be measured against the F1 and F2 scores.  "
   ]
  },
  {
   "cell_type": "code",
   "execution_count": 61,
   "id": "5a8399d0-9f2b-45a0-af4a-e74c155fbd1e",
   "metadata": {
    "execution": {
     "iopub.execute_input": "2022-10-22T03:09:16.435428Z",
     "iopub.status.busy": "2022-10-22T03:09:16.435108Z",
     "iopub.status.idle": "2022-10-22T03:09:16.438112Z",
     "shell.execute_reply": "2022-10-22T03:09:16.437657Z",
     "shell.execute_reply.started": "2022-10-22T03:09:16.435409Z"
    },
    "tags": []
   },
   "outputs": [],
   "source": [
    "# References\n",
    "# https://scikit-learn.org/stable/modules/generated/sklearn.ensemble.RandomForestClassifier.html\n",
    "\n",
    "# A random forest classifier ('rfc_feat') is created using the number\n",
    "# of jobs ('n_jobs') set to '14', so that the CPUs are not over \n",
    "# utilized. The random state of '42' is set for reproducibility.\n",
    "rfc_feat = RandomForestClassifier(\n",
    "    n_jobs=14,\n",
    "    random_state=42\n",
    ")"
   ]
  },
  {
   "cell_type": "code",
   "execution_count": 62,
   "id": "4b381d52-3539-45f6-ad75-0607ea07fa92",
   "metadata": {
    "execution": {
     "iopub.execute_input": "2022-10-22T03:09:16.438859Z",
     "iopub.status.busy": "2022-10-22T03:09:16.438678Z",
     "iopub.status.idle": "2022-10-22T03:09:16.443048Z",
     "shell.execute_reply": "2022-10-22T03:09:16.442629Z",
     "shell.execute_reply.started": "2022-10-22T03:09:16.438843Z"
    },
    "tags": []
   },
   "outputs": [
    {
     "data": {
      "text/plain": [
       "{'bootstrap': True,\n",
       " 'ccp_alpha': 0.0,\n",
       " 'class_weight': None,\n",
       " 'criterion': 'gini',\n",
       " 'max_depth': None,\n",
       " 'max_features': 'sqrt',\n",
       " 'max_leaf_nodes': None,\n",
       " 'max_samples': None,\n",
       " 'min_impurity_decrease': 0.0,\n",
       " 'min_samples_leaf': 1,\n",
       " 'min_samples_split': 2,\n",
       " 'min_weight_fraction_leaf': 0.0,\n",
       " 'n_estimators': 100,\n",
       " 'n_jobs': 14,\n",
       " 'oob_score': False,\n",
       " 'random_state': 42,\n",
       " 'verbose': 0,\n",
       " 'warm_start': False}"
      ]
     },
     "execution_count": 62,
     "metadata": {},
     "output_type": "execute_result"
    }
   ],
   "source": [
    "# Display the parameters for the random forest classifier object \n",
    "# ('rfc_feat').\n",
    "rfc_feat.get_params()"
   ]
  },
  {
   "cell_type": "code",
   "execution_count": 63,
   "id": "d147d07b-67f5-48c1-8c73-f4dcfd4e8a82",
   "metadata": {
    "execution": {
     "iopub.execute_input": "2022-10-22T03:09:16.443901Z",
     "iopub.status.busy": "2022-10-22T03:09:16.443622Z",
     "iopub.status.idle": "2022-10-22T03:15:53.317930Z",
     "shell.execute_reply": "2022-10-22T03:15:53.317445Z",
     "shell.execute_reply.started": "2022-10-22T03:09:16.443883Z"
    },
    "tags": []
   },
   "outputs": [
    {
     "data": {
      "text/html": [
       "<style>#sk-container-id-3 {color: black;background-color: white;}#sk-container-id-3 pre{padding: 0;}#sk-container-id-3 div.sk-toggleable {background-color: white;}#sk-container-id-3 label.sk-toggleable__label {cursor: pointer;display: block;width: 100%;margin-bottom: 0;padding: 0.3em;box-sizing: border-box;text-align: center;}#sk-container-id-3 label.sk-toggleable__label-arrow:before {content: \"▸\";float: left;margin-right: 0.25em;color: #696969;}#sk-container-id-3 label.sk-toggleable__label-arrow:hover:before {color: black;}#sk-container-id-3 div.sk-estimator:hover label.sk-toggleable__label-arrow:before {color: black;}#sk-container-id-3 div.sk-toggleable__content {max-height: 0;max-width: 0;overflow: hidden;text-align: left;background-color: #f0f8ff;}#sk-container-id-3 div.sk-toggleable__content pre {margin: 0.2em;color: black;border-radius: 0.25em;background-color: #f0f8ff;}#sk-container-id-3 input.sk-toggleable__control:checked~div.sk-toggleable__content {max-height: 200px;max-width: 100%;overflow: auto;}#sk-container-id-3 input.sk-toggleable__control:checked~label.sk-toggleable__label-arrow:before {content: \"▾\";}#sk-container-id-3 div.sk-estimator input.sk-toggleable__control:checked~label.sk-toggleable__label {background-color: #d4ebff;}#sk-container-id-3 div.sk-label input.sk-toggleable__control:checked~label.sk-toggleable__label {background-color: #d4ebff;}#sk-container-id-3 input.sk-hidden--visually {border: 0;clip: rect(1px 1px 1px 1px);clip: rect(1px, 1px, 1px, 1px);height: 1px;margin: -1px;overflow: hidden;padding: 0;position: absolute;width: 1px;}#sk-container-id-3 div.sk-estimator {font-family: monospace;background-color: #f0f8ff;border: 1px dotted black;border-radius: 0.25em;box-sizing: border-box;margin-bottom: 0.5em;}#sk-container-id-3 div.sk-estimator:hover {background-color: #d4ebff;}#sk-container-id-3 div.sk-parallel-item::after {content: \"\";width: 100%;border-bottom: 1px solid gray;flex-grow: 1;}#sk-container-id-3 div.sk-label:hover label.sk-toggleable__label {background-color: #d4ebff;}#sk-container-id-3 div.sk-serial::before {content: \"\";position: absolute;border-left: 1px solid gray;box-sizing: border-box;top: 0;bottom: 0;left: 50%;z-index: 0;}#sk-container-id-3 div.sk-serial {display: flex;flex-direction: column;align-items: center;background-color: white;padding-right: 0.2em;padding-left: 0.2em;position: relative;}#sk-container-id-3 div.sk-item {position: relative;z-index: 1;}#sk-container-id-3 div.sk-parallel {display: flex;align-items: stretch;justify-content: center;background-color: white;position: relative;}#sk-container-id-3 div.sk-item::before, #sk-container-id-3 div.sk-parallel-item::before {content: \"\";position: absolute;border-left: 1px solid gray;box-sizing: border-box;top: 0;bottom: 0;left: 50%;z-index: -1;}#sk-container-id-3 div.sk-parallel-item {display: flex;flex-direction: column;z-index: 1;position: relative;background-color: white;}#sk-container-id-3 div.sk-parallel-item:first-child::after {align-self: flex-end;width: 50%;}#sk-container-id-3 div.sk-parallel-item:last-child::after {align-self: flex-start;width: 50%;}#sk-container-id-3 div.sk-parallel-item:only-child::after {width: 0;}#sk-container-id-3 div.sk-dashed-wrapped {border: 1px dashed gray;margin: 0 0.4em 0.5em 0.4em;box-sizing: border-box;padding-bottom: 0.4em;background-color: white;}#sk-container-id-3 div.sk-label label {font-family: monospace;font-weight: bold;display: inline-block;line-height: 1.2em;}#sk-container-id-3 div.sk-label-container {text-align: center;}#sk-container-id-3 div.sk-container {/* jupyter's `normalize.less` sets `[hidden] { display: none; }` but bootstrap.min.css set `[hidden] { display: none !important; }` so we also need the `!important` here to be able to override the default hidden behavior on the sphinx rendered scikit-learn.org. See: https://github.com/scikit-learn/scikit-learn/issues/21755 */display: inline-block !important;position: relative;}#sk-container-id-3 div.sk-text-repr-fallback {display: none;}</style><div id=\"sk-container-id-3\" class=\"sk-top-container\"><div class=\"sk-text-repr-fallback\"><pre>RandomForestClassifier(n_jobs=14, random_state=42)</pre><b>In a Jupyter environment, please rerun this cell to show the HTML representation or trust the notebook. <br />On GitHub, the HTML representation is unable to render, please try loading this page with nbviewer.org.</b></div><div class=\"sk-container\" hidden><div class=\"sk-item\"><div class=\"sk-estimator sk-toggleable\"><input class=\"sk-toggleable__control sk-hidden--visually\" id=\"sk-estimator-id-5\" type=\"checkbox\" checked><label for=\"sk-estimator-id-5\" class=\"sk-toggleable__label sk-toggleable__label-arrow\">RandomForestClassifier</label><div class=\"sk-toggleable__content\"><pre>RandomForestClassifier(n_jobs=14, random_state=42)</pre></div></div></div></div></div>"
      ],
      "text/plain": [
       "RandomForestClassifier(n_jobs=14, random_state=42)"
      ]
     },
     "execution_count": 63,
     "metadata": {},
     "output_type": "execute_result"
    }
   ],
   "source": [
    "# A random forest classifier ('rfc_feat') is fitted on the 'X_train' \n",
    "# and 'y_train' data with the new features.\n",
    "rfc_feat.fit(\n",
    "    X_train_feat, \n",
    "    y_train_feat\n",
    ")"
   ]
  },
  {
   "cell_type": "code",
   "execution_count": 64,
   "id": "27694416-2649-4e98-b25c-62a223ad3cc7",
   "metadata": {
    "execution": {
     "iopub.execute_input": "2022-10-22T03:15:53.318951Z",
     "iopub.status.busy": "2022-10-22T03:15:53.318689Z",
     "iopub.status.idle": "2022-10-22T03:15:55.708573Z",
     "shell.execute_reply": "2022-10-22T03:15:55.708002Z",
     "shell.execute_reply.started": "2022-10-22T03:15:53.318932Z"
    },
    "tags": []
   },
   "outputs": [],
   "source": [
    "# Predict is called on the 'X_test' data with the new features.\n",
    "y_pred_rfc_feat = rfc_feat.predict(X_test_feat)"
   ]
  },
  {
   "cell_type": "code",
   "execution_count": 65,
   "id": "5f8681ae-8433-4b3d-9622-1936b96da1bd",
   "metadata": {
    "execution": {
     "iopub.execute_input": "2022-10-22T03:15:55.709624Z",
     "iopub.status.busy": "2022-10-22T03:15:55.709360Z",
     "iopub.status.idle": "2022-10-22T03:15:56.787013Z",
     "shell.execute_reply": "2022-10-22T03:15:56.786473Z",
     "shell.execute_reply.started": "2022-10-22T03:15:55.709604Z"
    },
    "tags": []
   },
   "outputs": [
    {
     "name": "stdout",
     "output_type": "stream",
     "text": [
      "RandomForestClassifier resampled performance:\n",
      "Accuracy score: 1.000\n",
      "F1 score: 0.727\n",
      "F2 score: 0.635\n"
     ]
    }
   ],
   "source": [
    "# References\n",
    "# https://scikit-learn.org/stable/modules/generated/sklearn.metrics.accuracy_score.html\n",
    "# https://scikit-learn.org/stable/modules/generated/sklearn.metrics.f1_score.html\n",
    "# https://scikit-learn.org/stable/modules/generated/sklearn.metrics.fbeta_score.html\n",
    "\n",
    "# Scores are printed for accuracy, F1-score, and F2-score.\n",
    "print(\"RandomForestClassifier resampled performance:\")\n",
    "print(f\"Accuracy score: {accuracy_score(y_test_feat, y_pred_rfc_feat):.3f}\")\n",
    "print(f\"F1 score: {f1_score(y_test_feat, y_pred_rfc_feat):.3f}\")\n",
    "print(f\"F2 score: {fbeta_score(y_test_feat, y_pred_rfc_feat, average='binary', beta=2.0):.3f}\")"
   ]
  },
  {
   "cell_type": "code",
   "execution_count": 66,
   "id": "5205bb17-95aa-4afa-ab84-c99612feca76",
   "metadata": {
    "execution": {
     "iopub.execute_input": "2022-10-22T03:15:56.788060Z",
     "iopub.status.busy": "2022-10-22T03:15:56.787782Z",
     "iopub.status.idle": "2022-10-22T03:15:57.009802Z",
     "shell.execute_reply": "2022-10-22T03:15:57.009285Z",
     "shell.execute_reply.started": "2022-10-22T03:15:56.788040Z"
    },
    "tags": []
   },
   "outputs": [
    {
     "name": "stdout",
     "output_type": "stream",
     "text": [
      "RandomForestClassifier best model confusion matrix: \n",
      "[[1839645      13]\n",
      " [    235     331]]\n"
     ]
    }
   ],
   "source": [
    "# References\n",
    "# https://scikit-learn.org/stable/modules/generated/sklearn.metrics.confusion_matrix.html\n",
    "\n",
    "# A confusion matrix is created from the 'y_test' label data and the \n",
    "# 'y_pred' predicted labels with the new features.\n",
    "print(\"RandomForestClassifier best model confusion matrix: \")\n",
    "print(confusion_matrix(y_test_feat, y_pred_rfc_feat))"
   ]
  },
  {
   "cell_type": "code",
   "execution_count": 67,
   "id": "a9b92edd-2868-460a-a222-863bd0c92906",
   "metadata": {
    "execution": {
     "iopub.execute_input": "2022-10-22T03:15:57.015220Z",
     "iopub.status.busy": "2022-10-22T03:15:57.014945Z",
     "iopub.status.idle": "2022-10-22T03:15:57.290144Z",
     "shell.execute_reply": "2022-10-22T03:15:57.289662Z",
     "shell.execute_reply.started": "2022-10-22T03:15:57.015199Z"
    },
    "tags": []
   },
   "outputs": [
    {
     "data": {
      "image/png": "[encoded data removed]",
      "text/plain": [
       "<Figure size 432x288 with 2 Axes>"
      ]
     },
     "metadata": {
      "needs_background": "light"
     },
     "output_type": "display_data"
    }
   ],
   "source": [
    "# References\n",
    "# https://scikit-learn.org/stable/modules/generated/sklearn.metrics.ConfusionMatrixDisplay.html\n",
    "\n",
    "# A graphical confusion matrix is displayed from the 'y_test' label \n",
    "# data and the 'y_pred' predicted labels with the new features. \n",
    "cm = confusion_matrix(y_test_feat, y_pred_rfc_feat, \n",
    "                      labels=rfc_feat.classes_)\n",
    "disp_cm = ConfusionMatrixDisplay(confusion_matrix=cm, \n",
    "                              display_labels=rfc_feat.classes_)\n",
    "disp_cm.plot()\n",
    "plt.show()"
   ]
  },
  {
   "cell_type": "markdown",
   "id": "b557e14f-202e-463f-bc10-f9b78b7c8e83",
   "metadata": {},
   "source": [
    "Perhaps, an easier way to interpret the confusion matrix is explicitly printing out the true negative (`tn`), false negative, (`fn`), true positive (`tp`), and false positive (`fp`) values. The results indicate that the random forest model predicted 1,839,640 true negative (accurately classified as `functional`), 209 false negative (inaccurately classified as `functional`), 357 true positive (accurately classified as `non-functional`), and 18 false positive (inaccurately classified as `non-functional`).  "
   ]
  },
  {
   "cell_type": "code",
   "execution_count": 68,
   "id": "94921b90-e13c-41ed-b259-66be82e79b25",
   "metadata": {
    "execution": {
     "iopub.execute_input": "2022-10-22T03:15:57.291083Z",
     "iopub.status.busy": "2022-10-22T03:15:57.290824Z",
     "iopub.status.idle": "2022-10-22T03:15:57.295048Z",
     "shell.execute_reply": "2022-10-22T03:15:57.294595Z",
     "shell.execute_reply.started": "2022-10-22T03:15:57.291064Z"
    },
    "tags": []
   },
   "outputs": [
    {
     "name": "stdout",
     "output_type": "stream",
     "text": [
      "True negative:  1839645\n",
      "False negative:  235\n",
      "True positive:  331\n",
      "False positive:  13\n"
     ]
    }
   ],
   "source": [
    "# References\n",
    "# https://stackoverflow.com/questions/31324218/scikit-learn-how-to-obtain-true-positive-true-negative-false-positive-and-fal\n",
    "\n",
    "# To provide an explicit count for true negative ('tn'), false negative\n",
    "# ('fn'), true positive ('tp'), and false positive ('fp') values, the \n",
    "# confusion matrix ('cm') is sliced and the values are printed.\n",
    "tn = cm[0][0]\n",
    "print(\"True negative: \", tn)\n",
    "fn = cm[1][0]\n",
    "print(\"False negative: \", fn)\n",
    "tp = cm[1][1]\n",
    "print(\"True positive: \", tp)\n",
    "fp = cm[0][1]\n",
    "print(\"False positive: \", fp)"
   ]
  },
  {
   "cell_type": "markdown",
   "id": "2bc7bb51-d27f-4702-8d66-1893076768e2",
   "metadata": {},
   "source": [
    "The classification report for random forest classifer with default parameters indicate that the precision is higher at 0.95 compared to the recall at 0.63. The random forest classifier model is slightly better at precision.  "
   ]
  },
  {
   "cell_type": "code",
   "execution_count": 69,
   "id": "8c0642f1-e224-4a44-bb2d-6ec37c22387f",
   "metadata": {
    "execution": {
     "iopub.execute_input": "2022-10-22T03:15:57.295902Z",
     "iopub.status.busy": "2022-10-22T03:15:57.295673Z",
     "iopub.status.idle": "2022-10-22T03:15:59.418856Z",
     "shell.execute_reply": "2022-10-22T03:15:59.418305Z",
     "shell.execute_reply.started": "2022-10-22T03:15:57.295884Z"
    },
    "tags": []
   },
   "outputs": [
    {
     "name": "stdout",
     "output_type": "stream",
     "text": [
      "RandomForestClassifier default classification report:\n",
      "                precision    recall  f1-score   support\n",
      "\n",
      "    functional       1.00      1.00      1.00   1839658\n",
      "non-functional       0.96      0.58      0.73       566\n",
      "\n",
      "      accuracy                           1.00   1840224\n",
      "     macro avg       0.98      0.79      0.86   1840224\n",
      "  weighted avg       1.00      1.00      1.00   1840224\n",
      "\n"
     ]
    }
   ],
   "source": [
    "target_names = ['functional', 'non-functional']\n",
    "print(\"RandomForestClassifier default classification report:\")\n",
    "print(classification_report(y_test_feat, y_pred_rfc_feat, \n",
    "                            target_names=target_names))"
   ]
  },
  {
   "cell_type": "markdown",
   "id": "44ef2094-da6e-4655-b528-655db889e481",
   "metadata": {},
   "source": [
    "***"
   ]
  },
  {
   "cell_type": "markdown",
   "id": "6d62af19-601a-4de2-953b-0a9685d19699",
   "metadata": {},
   "source": [
    "## Control the balance of positive and negative weights"
   ]
  },
  {
   "cell_type": "markdown",
   "id": "a747c315-c299-4d8e-838c-303d09ea6769",
   "metadata": {},
   "source": [
    "As previously observed, there is an extreme class imbalance in the data.  \n",
    "\n",
    "The negative class (`0` or `functional`) is 9,198,292 and the positive class (`1` or `non-functional`) is 2,828.  "
   ]
  },
  {
   "cell_type": "code",
   "execution_count": 70,
   "id": "096fb3a9-3200-44d9-84de-9759f238d5b7",
   "metadata": {
    "execution": {
     "iopub.execute_input": "2022-10-22T03:15:59.419884Z",
     "iopub.status.busy": "2022-10-22T03:15:59.419587Z",
     "iopub.status.idle": "2022-10-22T03:15:59.607693Z",
     "shell.execute_reply": "2022-10-22T03:15:59.607177Z",
     "shell.execute_reply.started": "2022-10-22T03:15:59.419864Z"
    },
    "tags": []
   },
   "outputs": [
    {
     "data": {
      "text/html": [
       "<div>\n",
       "<style scoped>\n",
       "    .dataframe tbody tr th:only-of-type {\n",
       "        vertical-align: middle;\n",
       "    }\n",
       "\n",
       "    .dataframe tbody tr th {\n",
       "        vertical-align: top;\n",
       "    }\n",
       "\n",
       "    .dataframe thead th {\n",
       "        text-align: right;\n",
       "    }\n",
       "</style>\n",
       "<table border=\"1\" class=\"dataframe\">\n",
       "  <thead>\n",
       "    <tr style=\"text-align: right;\">\n",
       "      <th></th>\n",
       "      <th>count</th>\n",
       "    </tr>\n",
       "    <tr>\n",
       "      <th>failure</th>\n",
       "      <th></th>\n",
       "    </tr>\n",
       "  </thead>\n",
       "  <tbody>\n",
       "    <tr>\n",
       "      <th>0</th>\n",
       "      <td>9198292</td>\n",
       "    </tr>\n",
       "    <tr>\n",
       "      <th>1</th>\n",
       "      <td>2828</td>\n",
       "    </tr>\n",
       "  </tbody>\n",
       "</table>\n",
       "</div>"
      ],
      "text/plain": [
       "           count\n",
       "failure         \n",
       "0        9198292\n",
       "1           2828"
      ]
     },
     "execution_count": 70,
     "metadata": {},
     "output_type": "execute_result"
    }
   ],
   "source": [
    "(\n",
    "    q1_2022_seagate_feat_df[['failure']]\n",
    "    .value_counts()\n",
    "    .to_frame('count')\n",
    ")"
   ]
  },
  {
   "cell_type": "markdown",
   "id": "99f86100-d835-4448-a645-0ad7c8194d0f",
   "metadata": {},
   "source": [
    "The gradient boosted models offer a `scale_pos_weight` parameter which provides a weight to the positive class and is used to control the class imbalance (Mehta, 2017).  \n",
    "\n",
    "The following calculation can be used to adjust for the extreme class imbalance (Deltascience, 2019):  \n",
    "\n",
    "`scale_pos_weight = sqrt(count(negative examples)/count(positive examples))`"
   ]
  },
  {
   "cell_type": "code",
   "execution_count": 71,
   "id": "b865f303-3dc3-49cf-83c8-1cc602194333",
   "metadata": {
    "execution": {
     "iopub.execute_input": "2022-10-22T03:15:59.608691Z",
     "iopub.status.busy": "2022-10-22T03:15:59.608416Z",
     "iopub.status.idle": "2022-10-22T03:15:59.977366Z",
     "shell.execute_reply": "2022-10-22T03:15:59.976877Z",
     "shell.execute_reply.started": "2022-10-22T03:15:59.608672Z"
    },
    "tags": []
   },
   "outputs": [
    {
     "data": {
      "text/plain": [
       "57.0"
      ]
     },
     "execution_count": 71,
     "metadata": {},
     "output_type": "execute_result"
    }
   ],
   "source": [
    "neg = q1_2022_seagate_feat_df[['failure']].value_counts().values[0]\n",
    "pos = q1_2022_seagate_feat_df[['failure']].value_counts().values[1]\n",
    "scale_pos_weight = round(math.sqrt(neg / pos), 1)\n",
    "scale_pos_weight"
   ]
  },
  {
   "cell_type": "markdown",
   "id": "d38c76e4-5174-4ab8-b7f7-3798f50b995f",
   "metadata": {},
   "source": [
    "The `scale_pos_weight` parameter will be applied to the best parameters to fit the model.  "
   ]
  },
  {
   "cell_type": "markdown",
   "id": "ec15c025-9b5c-4955-99b5-ca705e66b118",
   "metadata": {},
   "source": [
    "## LightGBM classifier  "
   ]
  },
  {
   "cell_type": "markdown",
   "id": "5b69cf92-1dcb-4098-8972-68ba3acb8551",
   "metadata": {},
   "source": [
    "### Default"
   ]
  },
  {
   "cell_type": "markdown",
   "id": "83d25043-4755-45f7-8451-6c2a3e4667a7",
   "metadata": {},
   "source": [
    "A LightGBM classifier model is created with default parameters to determine the performance by evaluating F1 and F2 scores.  "
   ]
  },
  {
   "cell_type": "code",
   "execution_count": 72,
   "id": "dfff24a1-7c56-4737-9759-001e76704a4d",
   "metadata": {
    "execution": {
     "iopub.execute_input": "2022-10-22T03:15:59.978557Z",
     "iopub.status.busy": "2022-10-22T03:15:59.978086Z",
     "iopub.status.idle": "2022-10-22T03:15:59.981298Z",
     "shell.execute_reply": "2022-10-22T03:15:59.980849Z",
     "shell.execute_reply.started": "2022-10-22T03:15:59.978537Z"
    },
    "tags": []
   },
   "outputs": [],
   "source": [
    "# References\n",
    "# https://lightgbm.readthedocs.io/en/v3.3.2/Python-API.html\n",
    "\n",
    "# A LightGBM classifier ('LGBMClassifier') estimator is created\n",
    "# random state of '42'.  LGBMClassifier does not have a evaluation \n",
    "# metric for 'F1'. The 'F1' score will be evaluated during \n",
    "# BayesSearchCV. All other parameters are default.\n",
    "lgbc = lgb.LGBMClassifier(\n",
    "    n_jobs=14,\n",
    "    random_state=42\n",
    ")"
   ]
  },
  {
   "cell_type": "markdown",
   "id": "0e1c7603-194f-4930-86ff-a1201cb93fd8",
   "metadata": {},
   "source": [
    "The LightGBM classifier estimator with the default parameters are fit on the `X_train` and `y_train` data with the selected features.  "
   ]
  },
  {
   "cell_type": "code",
   "execution_count": 73,
   "id": "ed231bb5-b48d-40c1-887c-dcf66aa399d4",
   "metadata": {
    "execution": {
     "iopub.execute_input": "2022-10-22T03:15:59.982181Z",
     "iopub.status.busy": "2022-10-22T03:15:59.981899Z",
     "iopub.status.idle": "2022-10-22T03:16:07.031751Z",
     "shell.execute_reply": "2022-10-22T03:16:07.031152Z",
     "shell.execute_reply.started": "2022-10-22T03:15:59.982162Z"
    },
    "tags": []
   },
   "outputs": [
    {
     "data": {
      "text/html": [
       "<style>#sk-container-id-4 {color: black;background-color: white;}#sk-container-id-4 pre{padding: 0;}#sk-container-id-4 div.sk-toggleable {background-color: white;}#sk-container-id-4 label.sk-toggleable__label {cursor: pointer;display: block;width: 100%;margin-bottom: 0;padding: 0.3em;box-sizing: border-box;text-align: center;}#sk-container-id-4 label.sk-toggleable__label-arrow:before {content: \"▸\";float: left;margin-right: 0.25em;color: #696969;}#sk-container-id-4 label.sk-toggleable__label-arrow:hover:before {color: black;}#sk-container-id-4 div.sk-estimator:hover label.sk-toggleable__label-arrow:before {color: black;}#sk-container-id-4 div.sk-toggleable__content {max-height: 0;max-width: 0;overflow: hidden;text-align: left;background-color: #f0f8ff;}#sk-container-id-4 div.sk-toggleable__content pre {margin: 0.2em;color: black;border-radius: 0.25em;background-color: #f0f8ff;}#sk-container-id-4 input.sk-toggleable__control:checked~div.sk-toggleable__content {max-height: 200px;max-width: 100%;overflow: auto;}#sk-container-id-4 input.sk-toggleable__control:checked~label.sk-toggleable__label-arrow:before {content: \"▾\";}#sk-container-id-4 div.sk-estimator input.sk-toggleable__control:checked~label.sk-toggleable__label {background-color: #d4ebff;}#sk-container-id-4 div.sk-label input.sk-toggleable__control:checked~label.sk-toggleable__label {background-color: #d4ebff;}#sk-container-id-4 input.sk-hidden--visually {border: 0;clip: rect(1px 1px 1px 1px);clip: rect(1px, 1px, 1px, 1px);height: 1px;margin: -1px;overflow: hidden;padding: 0;position: absolute;width: 1px;}#sk-container-id-4 div.sk-estimator {font-family: monospace;background-color: #f0f8ff;border: 1px dotted black;border-radius: 0.25em;box-sizing: border-box;margin-bottom: 0.5em;}#sk-container-id-4 div.sk-estimator:hover {background-color: #d4ebff;}#sk-container-id-4 div.sk-parallel-item::after {content: \"\";width: 100%;border-bottom: 1px solid gray;flex-grow: 1;}#sk-container-id-4 div.sk-label:hover label.sk-toggleable__label {background-color: #d4ebff;}#sk-container-id-4 div.sk-serial::before {content: \"\";position: absolute;border-left: 1px solid gray;box-sizing: border-box;top: 0;bottom: 0;left: 50%;z-index: 0;}#sk-container-id-4 div.sk-serial {display: flex;flex-direction: column;align-items: center;background-color: white;padding-right: 0.2em;padding-left: 0.2em;position: relative;}#sk-container-id-4 div.sk-item {position: relative;z-index: 1;}#sk-container-id-4 div.sk-parallel {display: flex;align-items: stretch;justify-content: center;background-color: white;position: relative;}#sk-container-id-4 div.sk-item::before, #sk-container-id-4 div.sk-parallel-item::before {content: \"\";position: absolute;border-left: 1px solid gray;box-sizing: border-box;top: 0;bottom: 0;left: 50%;z-index: -1;}#sk-container-id-4 div.sk-parallel-item {display: flex;flex-direction: column;z-index: 1;position: relative;background-color: white;}#sk-container-id-4 div.sk-parallel-item:first-child::after {align-self: flex-end;width: 50%;}#sk-container-id-4 div.sk-parallel-item:last-child::after {align-self: flex-start;width: 50%;}#sk-container-id-4 div.sk-parallel-item:only-child::after {width: 0;}#sk-container-id-4 div.sk-dashed-wrapped {border: 1px dashed gray;margin: 0 0.4em 0.5em 0.4em;box-sizing: border-box;padding-bottom: 0.4em;background-color: white;}#sk-container-id-4 div.sk-label label {font-family: monospace;font-weight: bold;display: inline-block;line-height: 1.2em;}#sk-container-id-4 div.sk-label-container {text-align: center;}#sk-container-id-4 div.sk-container {/* jupyter's `normalize.less` sets `[hidden] { display: none; }` but bootstrap.min.css set `[hidden] { display: none !important; }` so we also need the `!important` here to be able to override the default hidden behavior on the sphinx rendered scikit-learn.org. See: https://github.com/scikit-learn/scikit-learn/issues/21755 */display: inline-block !important;position: relative;}#sk-container-id-4 div.sk-text-repr-fallback {display: none;}</style><div id=\"sk-container-id-4\" class=\"sk-top-container\"><div class=\"sk-text-repr-fallback\"><pre>LGBMClassifier(n_jobs=14, random_state=42)</pre><b>In a Jupyter environment, please rerun this cell to show the HTML representation or trust the notebook. <br />On GitHub, the HTML representation is unable to render, please try loading this page with nbviewer.org.</b></div><div class=\"sk-container\" hidden><div class=\"sk-item\"><div class=\"sk-estimator sk-toggleable\"><input class=\"sk-toggleable__control sk-hidden--visually\" id=\"sk-estimator-id-6\" type=\"checkbox\" checked><label for=\"sk-estimator-id-6\" class=\"sk-toggleable__label sk-toggleable__label-arrow\">LGBMClassifier</label><div class=\"sk-toggleable__content\"><pre>LGBMClassifier(n_jobs=14, random_state=42)</pre></div></div></div></div></div>"
      ],
      "text/plain": [
       "LGBMClassifier(n_jobs=14, random_state=42)"
      ]
     },
     "execution_count": 73,
     "metadata": {},
     "output_type": "execute_result"
    }
   ],
   "source": [
    "# The LightGBM classifier ('LGBMClassifier') estimator is fitted on\n",
    "# the 'X_train' and 'y_train' data with the selected features.\n",
    "lgbc.fit(X_train_feat, y_train_feat)"
   ]
  },
  {
   "cell_type": "markdown",
   "id": "bd2e9ebd-5b0c-4bd9-b62b-b91bfd0062d5",
   "metadata": {},
   "source": [
    "The LightGBM classifier model predicts on the `X_test` data with the select features.  "
   ]
  },
  {
   "cell_type": "code",
   "execution_count": 74,
   "id": "228ab5e7-ed4c-4f38-bf4a-44fb0b853d8f",
   "metadata": {
    "execution": {
     "iopub.execute_input": "2022-10-22T03:16:07.032967Z",
     "iopub.status.busy": "2022-10-22T03:16:07.032735Z",
     "iopub.status.idle": "2022-10-22T03:16:07.758960Z",
     "shell.execute_reply": "2022-10-22T03:16:07.758299Z",
     "shell.execute_reply.started": "2022-10-22T03:16:07.032947Z"
    },
    "tags": []
   },
   "outputs": [],
   "source": [
    "# Predict is called on the 'X_test' data with the selected features.\n",
    "y_pred_lgbc = lgbc.predict(X_test_feat)"
   ]
  },
  {
   "cell_type": "code",
   "execution_count": 75,
   "id": "563a74f0-5d08-41cf-945e-3572c8b1a712",
   "metadata": {
    "execution": {
     "iopub.execute_input": "2022-10-22T03:16:07.760645Z",
     "iopub.status.busy": "2022-10-22T03:16:07.759984Z",
     "iopub.status.idle": "2022-10-22T03:16:08.890684Z",
     "shell.execute_reply": "2022-10-22T03:16:08.889938Z",
     "shell.execute_reply.started": "2022-10-22T03:16:07.760618Z"
    },
    "tags": []
   },
   "outputs": [
    {
     "name": "stdout",
     "output_type": "stream",
     "text": [
      "LGBMClassifier default parameters performance:\n",
      "Accuracy score: 1.000\n",
      "F1 score: 0.240\n",
      "F2 score: 0.236\n"
     ]
    }
   ],
   "source": [
    "# References\n",
    "# https://scikit-learn.org/stable/modules/generated/sklearn.metrics.accuracy_score.html\n",
    "# https://scikit-learn.org/stable/modules/generated/sklearn.metrics.f1_score.html\n",
    "# https://scikit-learn.org/stable/modules/generated/sklearn.metrics.fbeta_score.html\n",
    "\n",
    "# Scores are printed for accuracy, F1-score, and F2-score.\n",
    "print(\"LGBMClassifier default parameters performance:\")\n",
    "print(f\"Accuracy score: {accuracy_score(y_test_feat, y_pred_lgbc):.3f}\")\n",
    "print(f\"F1 score: {f1_score(y_test_feat, y_pred_lgbc):.3f}\")\n",
    "print(f\"F2 score: {fbeta_score(y_test_feat, y_pred_lgbc, average='binary', beta=2.0):.3f}\")"
   ]
  },
  {
   "cell_type": "markdown",
   "id": "7518877a-1021-4eb0-b553-11f79521cdf8",
   "metadata": {},
   "source": [
    "### Parameter grid  "
   ]
  },
  {
   "cell_type": "markdown",
   "id": "c6f3646b-edc3-436b-80d2-cc7f4c1ed473",
   "metadata": {},
   "source": [
    "In an effort to improve the F1 and F2 scores, a grid is created with various parameters to search through to find the optimal parameters.  "
   ]
  },
  {
   "cell_type": "code",
   "execution_count": 76,
   "id": "a743c9a9-df87-41e8-842a-fa0f14c815e0",
   "metadata": {
    "execution": {
     "iopub.execute_input": "2022-10-22T03:16:08.891785Z",
     "iopub.status.busy": "2022-10-22T03:16:08.891476Z",
     "iopub.status.idle": "2022-10-22T03:16:08.894825Z",
     "shell.execute_reply": "2022-10-22T03:16:08.894200Z",
     "shell.execute_reply.started": "2022-10-22T03:16:08.891763Z"
    },
    "tags": []
   },
   "outputs": [],
   "source": [
    "# The LightGBM classifier ('LGBMClassifier') estimator ('lgbc_tune') \n",
    "# is created for tuning.\n",
    "lgbc_tune = lgb.LGBMClassifier()"
   ]
  },
  {
   "cell_type": "code",
   "execution_count": 77,
   "id": "c6b0b174-623a-413b-bb49-a01a2527ed99",
   "metadata": {
    "execution": {
     "iopub.execute_input": "2022-10-22T03:16:08.895695Z",
     "iopub.status.busy": "2022-10-22T03:16:08.895478Z",
     "iopub.status.idle": "2022-10-22T03:16:08.900379Z",
     "shell.execute_reply": "2022-10-22T03:16:08.899900Z",
     "shell.execute_reply.started": "2022-10-22T03:16:08.895676Z"
    },
    "tags": []
   },
   "outputs": [
    {
     "data": {
      "text/plain": [
       "{'boosting_type': 'gbdt',\n",
       " 'class_weight': None,\n",
       " 'colsample_bytree': 1.0,\n",
       " 'importance_type': 'split',\n",
       " 'learning_rate': 0.1,\n",
       " 'max_depth': -1,\n",
       " 'min_child_samples': 20,\n",
       " 'min_child_weight': 0.001,\n",
       " 'min_split_gain': 0.0,\n",
       " 'n_estimators': 100,\n",
       " 'n_jobs': -1,\n",
       " 'num_leaves': 31,\n",
       " 'objective': None,\n",
       " 'random_state': None,\n",
       " 'reg_alpha': 0.0,\n",
       " 'reg_lambda': 0.0,\n",
       " 'silent': 'warn',\n",
       " 'subsample': 1.0,\n",
       " 'subsample_for_bin': 200000,\n",
       " 'subsample_freq': 0}"
      ]
     },
     "execution_count": 77,
     "metadata": {},
     "output_type": "execute_result"
    }
   ],
   "source": [
    "# The parameters of the LightGBM classifier estimator ('lgbc_tune') are \n",
    "# displayed.\n",
    "lgbc_tune.get_params()"
   ]
  },
  {
   "cell_type": "code",
   "execution_count": 78,
   "id": "eb186db1-af62-4b6f-a541-e9d0c4c5fee9",
   "metadata": {
    "execution": {
     "iopub.execute_input": "2022-10-22T03:16:08.901238Z",
     "iopub.status.busy": "2022-10-22T03:16:08.900954Z",
     "iopub.status.idle": "2022-10-22T03:16:08.904752Z",
     "shell.execute_reply": "2022-10-22T03:16:08.904110Z",
     "shell.execute_reply.started": "2022-10-22T03:16:08.901220Z"
    },
    "tags": []
   },
   "outputs": [],
   "source": [
    "# References\n",
    "# https://lightgbm.readthedocs.io/en/v3.3.2/pythonapi/lightgbm.LGBMClassifier.html#lightgbm.LGBMClassifier\n",
    "# # https://towardsdatascience.com/catboost-vs-lightgbm-vs-xgboost-c80f40662924\n",
    "\n",
    "# A paramter grid ('lgbc_param_grid') to search for the best parameters \n",
    "# for the LightGBM classifier estimator ('lgbc_tune') is created.\n",
    "lgbc_param_grid = {\n",
    "    'max_depth': [3, 6, 9],\n",
    "    'learning_rate': [0.1, 0.3, 0.5],\n",
    "    'n_estimators': [100, 500, 1000],   \n",
    "    'random_state' : [42],\n",
    "    'n_jobs': [14],\n",
    "}"
   ]
  },
  {
   "cell_type": "markdown",
   "id": "32b7aa61-9d81-4a75-9ed4-0483a0e65d91",
   "metadata": {},
   "source": [
    "### BayesSearchCV"
   ]
  },
  {
   "cell_type": "markdown",
   "id": "986a4c5d-290d-4fec-be1b-378bd1d00b23",
   "metadata": {},
   "source": [
    "Using BayesSearchCV with RepeatedStratifiedKFold the parameters are searched and evaluated to find the best parameters.  "
   ]
  },
  {
   "cell_type": "code",
   "execution_count": 79,
   "id": "d368ad98-3288-48f2-96c4-0fae6ed7ba3b",
   "metadata": {
    "execution": {
     "iopub.execute_input": "2022-10-22T03:16:08.905879Z",
     "iopub.status.busy": "2022-10-22T03:16:08.905585Z",
     "iopub.status.idle": "2022-10-22T03:16:08.916102Z",
     "shell.execute_reply": "2022-10-22T03:16:08.915549Z",
     "shell.execute_reply.started": "2022-10-22T03:16:08.905854Z"
    },
    "tags": []
   },
   "outputs": [],
   "source": [
    "# References\n",
    "# https://scikit-optimize.github.io/stable/modules/generated/skopt.BayesSearchCV.html\n",
    "\n",
    "# A BayesSearchCV object ('lgbc_opt') is created to search the \n",
    "# parameter grid ('lgbc_param_grid') for the best parameters with the \n",
    "# LightGBM classifier estimator ('lgbc_tune'). The scoring is set to \n",
    "# 'f1', '5' parameter samples, '1' number of jobs, and a random state \n",
    "# of '42'. (Stratified)KFold of 3 is used for cross-validation.\n",
    "lgbc_opt = (\n",
    "    BayesSearchCV(\n",
    "        lgbc_tune, lgbc_param_grid, n_iter=5, \n",
    "        scoring='f1', n_jobs=1, refit=True, \n",
    "        cv=3, random_state=42)\n",
    ")"
   ]
  },
  {
   "cell_type": "code",
   "execution_count": 80,
   "id": "859fb88f-460d-403d-9794-41c126253b4c",
   "metadata": {
    "execution": {
     "iopub.execute_input": "2022-10-22T03:16:08.916983Z",
     "iopub.status.busy": "2022-10-22T03:16:08.916703Z",
     "iopub.status.idle": "2022-10-22T03:16:08.921883Z",
     "shell.execute_reply": "2022-10-22T03:16:08.921257Z",
     "shell.execute_reply.started": "2022-10-22T03:16:08.916965Z"
    },
    "tags": []
   },
   "outputs": [
    {
     "data": {
      "text/plain": [
       "{'cv': 3,\n",
       " 'error_score': 'raise',\n",
       " 'estimator__boosting_type': 'gbdt',\n",
       " 'estimator__class_weight': None,\n",
       " 'estimator__colsample_bytree': 1.0,\n",
       " 'estimator__importance_type': 'split',\n",
       " 'estimator__learning_rate': 0.1,\n",
       " 'estimator__max_depth': -1,\n",
       " 'estimator__min_child_samples': 20,\n",
       " 'estimator__min_child_weight': 0.001,\n",
       " 'estimator__min_split_gain': 0.0,\n",
       " 'estimator__n_estimators': 100,\n",
       " 'estimator__n_jobs': -1,\n",
       " 'estimator__num_leaves': 31,\n",
       " 'estimator__objective': None,\n",
       " 'estimator__random_state': None,\n",
       " 'estimator__reg_alpha': 0.0,\n",
       " 'estimator__reg_lambda': 0.0,\n",
       " 'estimator__silent': 'warn',\n",
       " 'estimator__subsample': 1.0,\n",
       " 'estimator__subsample_for_bin': 200000,\n",
       " 'estimator__subsample_freq': 0,\n",
       " 'estimator': LGBMClassifier(),\n",
       " 'fit_params': None,\n",
       " 'iid': 'deprecated',\n",
       " 'n_iter': 5,\n",
       " 'n_jobs': 1,\n",
       " 'n_points': 1,\n",
       " 'optimizer_kwargs': None,\n",
       " 'pre_dispatch': '2*n_jobs',\n",
       " 'random_state': 42,\n",
       " 'refit': True,\n",
       " 'return_train_score': False,\n",
       " 'scoring': 'f1',\n",
       " 'search_spaces': {'max_depth': [3, 6, 9],\n",
       "  'learning_rate': [0.1, 0.3, 0.5],\n",
       "  'n_estimators': [100, 500, 1000],\n",
       "  'random_state': [42],\n",
       "  'n_jobs': [14]},\n",
       " 'verbose': 0}"
      ]
     },
     "execution_count": 80,
     "metadata": {},
     "output_type": "execute_result"
    }
   ],
   "source": [
    "# The parameters of the BayesSearchCV object ('lgbc_opt') are \n",
    "# displayed.\n",
    "lgbc_opt.get_params()"
   ]
  },
  {
   "cell_type": "markdown",
   "id": "011d243d-873d-4e29-9693-3815091b8cb4",
   "metadata": {},
   "source": [
    "The BayesSearchCV is implemented with the LightGBM classifier estimator and fit on the `X_train` and `y_train` data with the selected features to search for the best parameters.  "
   ]
  },
  {
   "cell_type": "code",
   "execution_count": 81,
   "id": "cc775040-e225-43df-a422-088ad9153881",
   "metadata": {
    "execution": {
     "iopub.execute_input": "2022-10-22T03:16:08.922869Z",
     "iopub.status.busy": "2022-10-22T03:16:08.922568Z",
     "iopub.status.idle": "2022-10-22T03:18:08.961296Z",
     "shell.execute_reply": "2022-10-22T03:18:08.960529Z",
     "shell.execute_reply.started": "2022-10-22T03:16:08.922851Z"
    },
    "tags": []
   },
   "outputs": [
    {
     "data": {
      "text/html": [
       "<style>#sk-container-id-5 {color: black;background-color: white;}#sk-container-id-5 pre{padding: 0;}#sk-container-id-5 div.sk-toggleable {background-color: white;}#sk-container-id-5 label.sk-toggleable__label {cursor: pointer;display: block;width: 100%;margin-bottom: 0;padding: 0.3em;box-sizing: border-box;text-align: center;}#sk-container-id-5 label.sk-toggleable__label-arrow:before {content: \"▸\";float: left;margin-right: 0.25em;color: #696969;}#sk-container-id-5 label.sk-toggleable__label-arrow:hover:before {color: black;}#sk-container-id-5 div.sk-estimator:hover label.sk-toggleable__label-arrow:before {color: black;}#sk-container-id-5 div.sk-toggleable__content {max-height: 0;max-width: 0;overflow: hidden;text-align: left;background-color: #f0f8ff;}#sk-container-id-5 div.sk-toggleable__content pre {margin: 0.2em;color: black;border-radius: 0.25em;background-color: #f0f8ff;}#sk-container-id-5 input.sk-toggleable__control:checked~div.sk-toggleable__content {max-height: 200px;max-width: 100%;overflow: auto;}#sk-container-id-5 input.sk-toggleable__control:checked~label.sk-toggleable__label-arrow:before {content: \"▾\";}#sk-container-id-5 div.sk-estimator input.sk-toggleable__control:checked~label.sk-toggleable__label {background-color: #d4ebff;}#sk-container-id-5 div.sk-label input.sk-toggleable__control:checked~label.sk-toggleable__label {background-color: #d4ebff;}#sk-container-id-5 input.sk-hidden--visually {border: 0;clip: rect(1px 1px 1px 1px);clip: rect(1px, 1px, 1px, 1px);height: 1px;margin: -1px;overflow: hidden;padding: 0;position: absolute;width: 1px;}#sk-container-id-5 div.sk-estimator {font-family: monospace;background-color: #f0f8ff;border: 1px dotted black;border-radius: 0.25em;box-sizing: border-box;margin-bottom: 0.5em;}#sk-container-id-5 div.sk-estimator:hover {background-color: #d4ebff;}#sk-container-id-5 div.sk-parallel-item::after {content: \"\";width: 100%;border-bottom: 1px solid gray;flex-grow: 1;}#sk-container-id-5 div.sk-label:hover label.sk-toggleable__label {background-color: #d4ebff;}#sk-container-id-5 div.sk-serial::before {content: \"\";position: absolute;border-left: 1px solid gray;box-sizing: border-box;top: 0;bottom: 0;left: 50%;z-index: 0;}#sk-container-id-5 div.sk-serial {display: flex;flex-direction: column;align-items: center;background-color: white;padding-right: 0.2em;padding-left: 0.2em;position: relative;}#sk-container-id-5 div.sk-item {position: relative;z-index: 1;}#sk-container-id-5 div.sk-parallel {display: flex;align-items: stretch;justify-content: center;background-color: white;position: relative;}#sk-container-id-5 div.sk-item::before, #sk-container-id-5 div.sk-parallel-item::before {content: \"\";position: absolute;border-left: 1px solid gray;box-sizing: border-box;top: 0;bottom: 0;left: 50%;z-index: -1;}#sk-container-id-5 div.sk-parallel-item {display: flex;flex-direction: column;z-index: 1;position: relative;background-color: white;}#sk-container-id-5 div.sk-parallel-item:first-child::after {align-self: flex-end;width: 50%;}#sk-container-id-5 div.sk-parallel-item:last-child::after {align-self: flex-start;width: 50%;}#sk-container-id-5 div.sk-parallel-item:only-child::after {width: 0;}#sk-container-id-5 div.sk-dashed-wrapped {border: 1px dashed gray;margin: 0 0.4em 0.5em 0.4em;box-sizing: border-box;padding-bottom: 0.4em;background-color: white;}#sk-container-id-5 div.sk-label label {font-family: monospace;font-weight: bold;display: inline-block;line-height: 1.2em;}#sk-container-id-5 div.sk-label-container {text-align: center;}#sk-container-id-5 div.sk-container {/* jupyter's `normalize.less` sets `[hidden] { display: none; }` but bootstrap.min.css set `[hidden] { display: none !important; }` so we also need the `!important` here to be able to override the default hidden behavior on the sphinx rendered scikit-learn.org. See: https://github.com/scikit-learn/scikit-learn/issues/21755 */display: inline-block !important;position: relative;}#sk-container-id-5 div.sk-text-repr-fallback {display: none;}</style><div id=\"sk-container-id-5\" class=\"sk-top-container\"><div class=\"sk-text-repr-fallback\"><pre>BayesSearchCV(cv=3, estimator=LGBMClassifier(), n_iter=5, random_state=42,\n",
       "              scoring=&#x27;f1&#x27;,\n",
       "              search_spaces={&#x27;learning_rate&#x27;: [0.1, 0.3, 0.5],\n",
       "                             &#x27;max_depth&#x27;: [3, 6, 9],\n",
       "                             &#x27;n_estimators&#x27;: [100, 500, 1000], &#x27;n_jobs&#x27;: [14],\n",
       "                             &#x27;random_state&#x27;: [42]})</pre><b>In a Jupyter environment, please rerun this cell to show the HTML representation or trust the notebook. <br />On GitHub, the HTML representation is unable to render, please try loading this page with nbviewer.org.</b></div><div class=\"sk-container\" hidden><div class=\"sk-item sk-dashed-wrapped\"><div class=\"sk-label-container\"><div class=\"sk-label sk-toggleable\"><input class=\"sk-toggleable__control sk-hidden--visually\" id=\"sk-estimator-id-7\" type=\"checkbox\" ><label for=\"sk-estimator-id-7\" class=\"sk-toggleable__label sk-toggleable__label-arrow\">BayesSearchCV</label><div class=\"sk-toggleable__content\"><pre>BayesSearchCV(cv=3, estimator=LGBMClassifier(), n_iter=5, random_state=42,\n",
       "              scoring=&#x27;f1&#x27;,\n",
       "              search_spaces={&#x27;learning_rate&#x27;: [0.1, 0.3, 0.5],\n",
       "                             &#x27;max_depth&#x27;: [3, 6, 9],\n",
       "                             &#x27;n_estimators&#x27;: [100, 500, 1000], &#x27;n_jobs&#x27;: [14],\n",
       "                             &#x27;random_state&#x27;: [42]})</pre></div></div></div><div class=\"sk-parallel\"><div class=\"sk-parallel-item\"><div class=\"sk-item\"><div class=\"sk-label-container\"><div class=\"sk-label sk-toggleable\"><input class=\"sk-toggleable__control sk-hidden--visually\" id=\"sk-estimator-id-8\" type=\"checkbox\" ><label for=\"sk-estimator-id-8\" class=\"sk-toggleable__label sk-toggleable__label-arrow\">estimator: LGBMClassifier</label><div class=\"sk-toggleable__content\"><pre>LGBMClassifier()</pre></div></div></div><div class=\"sk-serial\"><div class=\"sk-item\"><div class=\"sk-estimator sk-toggleable\"><input class=\"sk-toggleable__control sk-hidden--visually\" id=\"sk-estimator-id-9\" type=\"checkbox\" ><label for=\"sk-estimator-id-9\" class=\"sk-toggleable__label sk-toggleable__label-arrow\">LGBMClassifier</label><div class=\"sk-toggleable__content\"><pre>LGBMClassifier()</pre></div></div></div></div></div></div></div></div></div></div>"
      ],
      "text/plain": [
       "BayesSearchCV(cv=3, estimator=LGBMClassifier(), n_iter=5, random_state=42,\n",
       "              scoring='f1',\n",
       "              search_spaces={'learning_rate': [0.1, 0.3, 0.5],\n",
       "                             'max_depth': [3, 6, 9],\n",
       "                             'n_estimators': [100, 500, 1000], 'n_jobs': [14],\n",
       "                             'random_state': [42]})"
      ]
     },
     "execution_count": 81,
     "metadata": {},
     "output_type": "execute_result"
    }
   ],
   "source": [
    "# The BayesSearchCV object ('lgbc_opt') is fitted on the 'X_train' and \n",
    "# 'y_train' resampled data with the selected features.\n",
    "lgbc_opt.fit(\n",
    "    X_train_res_feat, \n",
    "    y_train_res_feat\n",
    ")"
   ]
  },
  {
   "cell_type": "code",
   "execution_count": 82,
   "id": "470fef25-8ade-490c-a516-e61cff3c8b3a",
   "metadata": {
    "execution": {
     "iopub.execute_input": "2022-10-22T03:18:08.962698Z",
     "iopub.status.busy": "2022-10-22T03:18:08.962432Z",
     "iopub.status.idle": "2022-10-22T03:18:08.967557Z",
     "shell.execute_reply": "2022-10-22T03:18:08.966903Z",
     "shell.execute_reply.started": "2022-10-22T03:18:08.962673Z"
    },
    "tags": []
   },
   "outputs": [
    {
     "name": "stdout",
     "output_type": "stream",
     "text": [
      "LGBMClassifier BayesSearchCV results: \n",
      "Best estimator:  LGBMClassifier(learning_rate=0.3, max_depth=6, n_estimators=1000, n_jobs=14,\n",
      "               random_state=42)\n",
      "Best score:  0.9996393300965559\n",
      "Best parameters:  OrderedDict([('learning_rate', 0.3), ('max_depth', 6), ('n_estimators', 1000), ('n_jobs', 14), ('random_state', 42)])\n"
     ]
    }
   ],
   "source": [
    "# Best estimator, best score, and best parameters are printed.\n",
    "print(\"LGBMClassifier BayesSearchCV results: \" )\n",
    "print(\"Best estimator: \", lgbc_opt.best_estimator_)\n",
    "print(\"Best score: \", lgbc_opt.best_score_)\n",
    "print(\"Best parameters: \", lgbc_opt.best_params_)"
   ]
  },
  {
   "cell_type": "markdown",
   "id": "b58c6e98-f298-4987-a8fa-f3af258df7bb",
   "metadata": {},
   "source": [
    "### Best estimator"
   ]
  },
  {
   "cell_type": "markdown",
   "id": "a8e84fae-c526-4844-9f55-85ac521e3d20",
   "metadata": {},
   "source": [
    "The best parameters from the BayesSearchCV parameter search are used to create a LightGBM classifier estimator.  "
   ]
  },
  {
   "cell_type": "code",
   "execution_count": 83,
   "id": "97f83082-0cd7-44d7-ab18-afd027d00004",
   "metadata": {
    "execution": {
     "iopub.execute_input": "2022-10-22T03:18:08.968775Z",
     "iopub.status.busy": "2022-10-22T03:18:08.968532Z",
     "iopub.status.idle": "2022-10-22T03:18:08.972536Z",
     "shell.execute_reply": "2022-10-22T03:18:08.971941Z",
     "shell.execute_reply.started": "2022-10-22T03:18:08.968753Z"
    },
    "tags": []
   },
   "outputs": [],
   "source": [
    "# The LightGBM classifier ('LGBMClassifier') estimator ('lgbc_best') \n",
    "# is created using the best parameters. \n",
    "# The 'scale_pos_weight' parameter is added due to the extreme class\n",
    "# imbalance.  \n",
    "lgbc_best = lgb.LGBMClassifier(\n",
    "    learning_rate=0.3,\n",
    "    max_depth=6,\n",
    "    n_estimators=1000,\n",
    "    scale_pos_weight=scale_pos_weight,\n",
    "    random_state=42\n",
    ")"
   ]
  },
  {
   "cell_type": "code",
   "execution_count": 84,
   "id": "996dfc08-3816-402f-8c1a-5cf62a186547",
   "metadata": {
    "execution": {
     "iopub.execute_input": "2022-10-22T03:18:08.973678Z",
     "iopub.status.busy": "2022-10-22T03:18:08.973437Z",
     "iopub.status.idle": "2022-10-22T03:18:08.978344Z",
     "shell.execute_reply": "2022-10-22T03:18:08.977767Z",
     "shell.execute_reply.started": "2022-10-22T03:18:08.973656Z"
    },
    "tags": []
   },
   "outputs": [
    {
     "data": {
      "text/plain": [
       "{'boosting_type': 'gbdt',\n",
       " 'class_weight': None,\n",
       " 'colsample_bytree': 1.0,\n",
       " 'importance_type': 'split',\n",
       " 'learning_rate': 0.3,\n",
       " 'max_depth': 6,\n",
       " 'min_child_samples': 20,\n",
       " 'min_child_weight': 0.001,\n",
       " 'min_split_gain': 0.0,\n",
       " 'n_estimators': 1000,\n",
       " 'n_jobs': -1,\n",
       " 'num_leaves': 31,\n",
       " 'objective': None,\n",
       " 'random_state': 42,\n",
       " 'reg_alpha': 0.0,\n",
       " 'reg_lambda': 0.0,\n",
       " 'silent': 'warn',\n",
       " 'subsample': 1.0,\n",
       " 'subsample_for_bin': 200000,\n",
       " 'subsample_freq': 0,\n",
       " 'scale_pos_weight': 57.0}"
      ]
     },
     "execution_count": 84,
     "metadata": {},
     "output_type": "execute_result"
    }
   ],
   "source": [
    "# The parameters of the LightGBM classifier ('LGBMClassifier') \n",
    "# estimator ('lgbc_best') are displayed.\n",
    "lgbc_best.get_params()"
   ]
  },
  {
   "cell_type": "markdown",
   "id": "75e5d11f-84cd-4d6e-a66f-ecd3fda79bc4",
   "metadata": {},
   "source": [
    "### Fit and predict with best estimator  "
   ]
  },
  {
   "cell_type": "markdown",
   "id": "1ecccec7-2773-4ba6-bdc0-a99aae639b2d",
   "metadata": {},
   "source": [
    "The LightGBM classifier estimator with the best parameters from the BayesSearchCV parameter search are fit on the `X_train` and `y_train` data with the selected features.  "
   ]
  },
  {
   "cell_type": "code",
   "execution_count": 85,
   "id": "f92d41af-4d93-4b06-9e44-e6370405e20c",
   "metadata": {
    "execution": {
     "iopub.execute_input": "2022-10-22T03:18:08.979475Z",
     "iopub.status.busy": "2022-10-22T03:18:08.979235Z",
     "iopub.status.idle": "2022-10-22T03:18:44.334297Z",
     "shell.execute_reply": "2022-10-22T03:18:44.333729Z",
     "shell.execute_reply.started": "2022-10-22T03:18:08.979454Z"
    },
    "tags": []
   },
   "outputs": [
    {
     "data": {
      "text/html": [
       "<style>#sk-container-id-6 {color: black;background-color: white;}#sk-container-id-6 pre{padding: 0;}#sk-container-id-6 div.sk-toggleable {background-color: white;}#sk-container-id-6 label.sk-toggleable__label {cursor: pointer;display: block;width: 100%;margin-bottom: 0;padding: 0.3em;box-sizing: border-box;text-align: center;}#sk-container-id-6 label.sk-toggleable__label-arrow:before {content: \"▸\";float: left;margin-right: 0.25em;color: #696969;}#sk-container-id-6 label.sk-toggleable__label-arrow:hover:before {color: black;}#sk-container-id-6 div.sk-estimator:hover label.sk-toggleable__label-arrow:before {color: black;}#sk-container-id-6 div.sk-toggleable__content {max-height: 0;max-width: 0;overflow: hidden;text-align: left;background-color: #f0f8ff;}#sk-container-id-6 div.sk-toggleable__content pre {margin: 0.2em;color: black;border-radius: 0.25em;background-color: #f0f8ff;}#sk-container-id-6 input.sk-toggleable__control:checked~div.sk-toggleable__content {max-height: 200px;max-width: 100%;overflow: auto;}#sk-container-id-6 input.sk-toggleable__control:checked~label.sk-toggleable__label-arrow:before {content: \"▾\";}#sk-container-id-6 div.sk-estimator input.sk-toggleable__control:checked~label.sk-toggleable__label {background-color: #d4ebff;}#sk-container-id-6 div.sk-label input.sk-toggleable__control:checked~label.sk-toggleable__label {background-color: #d4ebff;}#sk-container-id-6 input.sk-hidden--visually {border: 0;clip: rect(1px 1px 1px 1px);clip: rect(1px, 1px, 1px, 1px);height: 1px;margin: -1px;overflow: hidden;padding: 0;position: absolute;width: 1px;}#sk-container-id-6 div.sk-estimator {font-family: monospace;background-color: #f0f8ff;border: 1px dotted black;border-radius: 0.25em;box-sizing: border-box;margin-bottom: 0.5em;}#sk-container-id-6 div.sk-estimator:hover {background-color: #d4ebff;}#sk-container-id-6 div.sk-parallel-item::after {content: \"\";width: 100%;border-bottom: 1px solid gray;flex-grow: 1;}#sk-container-id-6 div.sk-label:hover label.sk-toggleable__label {background-color: #d4ebff;}#sk-container-id-6 div.sk-serial::before {content: \"\";position: absolute;border-left: 1px solid gray;box-sizing: border-box;top: 0;bottom: 0;left: 50%;z-index: 0;}#sk-container-id-6 div.sk-serial {display: flex;flex-direction: column;align-items: center;background-color: white;padding-right: 0.2em;padding-left: 0.2em;position: relative;}#sk-container-id-6 div.sk-item {position: relative;z-index: 1;}#sk-container-id-6 div.sk-parallel {display: flex;align-items: stretch;justify-content: center;background-color: white;position: relative;}#sk-container-id-6 div.sk-item::before, #sk-container-id-6 div.sk-parallel-item::before {content: \"\";position: absolute;border-left: 1px solid gray;box-sizing: border-box;top: 0;bottom: 0;left: 50%;z-index: -1;}#sk-container-id-6 div.sk-parallel-item {display: flex;flex-direction: column;z-index: 1;position: relative;background-color: white;}#sk-container-id-6 div.sk-parallel-item:first-child::after {align-self: flex-end;width: 50%;}#sk-container-id-6 div.sk-parallel-item:last-child::after {align-self: flex-start;width: 50%;}#sk-container-id-6 div.sk-parallel-item:only-child::after {width: 0;}#sk-container-id-6 div.sk-dashed-wrapped {border: 1px dashed gray;margin: 0 0.4em 0.5em 0.4em;box-sizing: border-box;padding-bottom: 0.4em;background-color: white;}#sk-container-id-6 div.sk-label label {font-family: monospace;font-weight: bold;display: inline-block;line-height: 1.2em;}#sk-container-id-6 div.sk-label-container {text-align: center;}#sk-container-id-6 div.sk-container {/* jupyter's `normalize.less` sets `[hidden] { display: none; }` but bootstrap.min.css set `[hidden] { display: none !important; }` so we also need the `!important` here to be able to override the default hidden behavior on the sphinx rendered scikit-learn.org. See: https://github.com/scikit-learn/scikit-learn/issues/21755 */display: inline-block !important;position: relative;}#sk-container-id-6 div.sk-text-repr-fallback {display: none;}</style><div id=\"sk-container-id-6\" class=\"sk-top-container\"><div class=\"sk-text-repr-fallback\"><pre>LGBMClassifier(learning_rate=0.3, max_depth=6, n_estimators=1000,\n",
       "               random_state=42, scale_pos_weight=57.0)</pre><b>In a Jupyter environment, please rerun this cell to show the HTML representation or trust the notebook. <br />On GitHub, the HTML representation is unable to render, please try loading this page with nbviewer.org.</b></div><div class=\"sk-container\" hidden><div class=\"sk-item\"><div class=\"sk-estimator sk-toggleable\"><input class=\"sk-toggleable__control sk-hidden--visually\" id=\"sk-estimator-id-10\" type=\"checkbox\" checked><label for=\"sk-estimator-id-10\" class=\"sk-toggleable__label sk-toggleable__label-arrow\">LGBMClassifier</label><div class=\"sk-toggleable__content\"><pre>LGBMClassifier(learning_rate=0.3, max_depth=6, n_estimators=1000,\n",
       "               random_state=42, scale_pos_weight=57.0)</pre></div></div></div></div></div>"
      ],
      "text/plain": [
       "LGBMClassifier(learning_rate=0.3, max_depth=6, n_estimators=1000,\n",
       "               random_state=42, scale_pos_weight=57.0)"
      ]
     },
     "execution_count": 85,
     "metadata": {},
     "output_type": "execute_result"
    }
   ],
   "source": [
    "# The best parameters are utilized with LightGBM classifier \n",
    "# ('LGBMClassifier') estimator ('lgbc_best') and fitted on the \n",
    "# 'X_train' and 'y_train' data with the selected features.\n",
    "lgbc_best.fit(\n",
    "    X_train_feat, \n",
    "    y_train_feat\n",
    ")"
   ]
  },
  {
   "cell_type": "markdown",
   "id": "577d0211-8c2d-4644-986b-3dbcaa47a896",
   "metadata": {},
   "source": [
    "The LightGBM classifier model predicts on the `X_test` data with the select features.  "
   ]
  },
  {
   "cell_type": "code",
   "execution_count": 86,
   "id": "72c9b516-eae3-4448-95e7-5df3c955fe9f",
   "metadata": {
    "execution": {
     "iopub.execute_input": "2022-10-22T03:18:44.335645Z",
     "iopub.status.busy": "2022-10-22T03:18:44.335261Z",
     "iopub.status.idle": "2022-10-22T03:18:46.098295Z",
     "shell.execute_reply": "2022-10-22T03:18:46.097529Z",
     "shell.execute_reply.started": "2022-10-22T03:18:44.335604Z"
    },
    "tags": []
   },
   "outputs": [],
   "source": [
    "# Predict is called on the 'X_test' data with the selected features.\n",
    "y_pred_lgbc_best = lgbc_best.predict(X_test_feat)"
   ]
  },
  {
   "cell_type": "code",
   "execution_count": 87,
   "id": "29c317f4-512b-4961-b25d-885e2dbe92ec",
   "metadata": {
    "execution": {
     "iopub.execute_input": "2022-10-22T03:18:46.099831Z",
     "iopub.status.busy": "2022-10-22T03:18:46.099522Z",
     "iopub.status.idle": "2022-10-22T03:18:47.219101Z",
     "shell.execute_reply": "2022-10-22T03:18:47.218553Z",
     "shell.execute_reply.started": "2022-10-22T03:18:46.099805Z"
    },
    "tags": []
   },
   "outputs": [
    {
     "name": "stdout",
     "output_type": "stream",
     "text": [
      "LGBMClassifier best parameters performance: \n",
      "Accuracy score: 0.991\n",
      "F1 score: 0.004\n",
      "F2 score: 0.010\n"
     ]
    }
   ],
   "source": [
    "# References\n",
    "# https://scikit-learn.org/stable/modules/generated/sklearn.metrics.accuracy_score.html\n",
    "# https://scikit-learn.org/stable/modules/generated/sklearn.metrics.f1_score.html\n",
    "# https://scikit-learn.org/stable/modules/generated/sklearn.metrics.fbeta_score.html\n",
    "\n",
    "# Scores are printed for accuracy, F1-score, and F2-score.\n",
    "print(\"LGBMClassifier best parameters performance: \")\n",
    "print(f\"Accuracy score: {accuracy_score(y_test_feat, y_pred_lgbc_best):.3f}\")\n",
    "print(f\"F1 score: {f1_score(y_test_feat, y_pred_lgbc_best):.3f}\")\n",
    "print(f\"F2 score: {fbeta_score(y_test_feat, y_pred_lgbc_best, average='binary', beta=2.0):.3f}\")"
   ]
  },
  {
   "cell_type": "code",
   "execution_count": 88,
   "id": "1e61bf16-795e-4799-917a-8340a95d5f18",
   "metadata": {
    "execution": {
     "iopub.execute_input": "2022-10-22T03:18:47.220133Z",
     "iopub.status.busy": "2022-10-22T03:18:47.219847Z",
     "iopub.status.idle": "2022-10-22T03:18:47.444967Z",
     "shell.execute_reply": "2022-10-22T03:18:47.444419Z",
     "shell.execute_reply.started": "2022-10-22T03:18:47.220113Z"
    },
    "tags": []
   },
   "outputs": [
    {
     "name": "stdout",
     "output_type": "stream",
     "text": [
      "LGBMClassifier confusion matrix: \n",
      "[[1822833   16825]\n",
      " [    527      39]]\n"
     ]
    }
   ],
   "source": [
    "# References\n",
    "# https://scikit-learn.org/stable/modules/generated/sklearn.metrics.confusion_matrix.html\n",
    "\n",
    "# A confusion matrix is created from the 'y_test' label data and the \n",
    "# 'y_pred' predicted labels.\n",
    "print(\"LGBMClassifier confusion matrix: \")\n",
    "print(confusion_matrix(y_test_feat, y_pred_lgbc_best))"
   ]
  },
  {
   "cell_type": "code",
   "execution_count": 89,
   "id": "9367c98f-9ed0-4612-9e62-875120ff5f5e",
   "metadata": {
    "execution": {
     "iopub.execute_input": "2022-10-22T03:18:47.445967Z",
     "iopub.status.busy": "2022-10-22T03:18:47.445693Z",
     "iopub.status.idle": "2022-10-22T03:18:47.712616Z",
     "shell.execute_reply": "2022-10-22T03:18:47.712123Z",
     "shell.execute_reply.started": "2022-10-22T03:18:47.445947Z"
    },
    "tags": []
   },
   "outputs": [
    {
     "data": {
      "image/png": "[encoded data removed]",
      "text/plain": [
       "<Figure size 432x288 with 2 Axes>"
      ]
     },
     "metadata": {
      "needs_background": "light"
     },
     "output_type": "display_data"
    }
   ],
   "source": [
    "# References\n",
    "# https://scikit-learn.org/stable/modules/generated/sklearn.metrics.ConfusionMatrixDisplay.html\n",
    "\n",
    "# A graphical confusion matrix is displayed from the 'y_test' label \n",
    "# data and the 'y_pred' predicted labels using the new selected \n",
    "# features.\n",
    "cm = confusion_matrix(y_test_feat, \n",
    "                      y_pred_lgbc_best, \n",
    "                      labels=lgbc_best.classes_)\n",
    "disp_cm = ConfusionMatrixDisplay(confusion_matrix=cm, \n",
    "                              display_labels=lgbc_best.classes_)\n",
    "disp_cm.plot()\n",
    "plt.show()"
   ]
  },
  {
   "cell_type": "markdown",
   "id": "a65dffb0-84db-42e3-828f-d7e79e0c9539",
   "metadata": {},
   "source": [
    "The results indicate that the LightGBM model predicted 1,737,664 true negative (accurately classified as `functional`), 498 false negative (inaccurately classified as `functional`), 68 true positive (accurately classified as `non-functional`), and 101,994 false positive (inaccurately classified as `non-functional`).  "
   ]
  },
  {
   "cell_type": "code",
   "execution_count": 90,
   "id": "297e4860-ab9b-4a6c-8616-81147c954d08",
   "metadata": {
    "execution": {
     "iopub.execute_input": "2022-10-22T03:18:47.713600Z",
     "iopub.status.busy": "2022-10-22T03:18:47.713329Z",
     "iopub.status.idle": "2022-10-22T03:18:47.717475Z",
     "shell.execute_reply": "2022-10-22T03:18:47.717016Z",
     "shell.execute_reply.started": "2022-10-22T03:18:47.713581Z"
    },
    "tags": []
   },
   "outputs": [
    {
     "name": "stdout",
     "output_type": "stream",
     "text": [
      "True negative:  1822833\n",
      "False negative:  527\n",
      "True positive:  39\n",
      "False positive:  16825\n"
     ]
    }
   ],
   "source": [
    "# References\n",
    "# https://stackoverflow.com/questions/31324218/scikit-learn-how-to-obtain-true-positive-true-negative-false-positive-and-fal\n",
    "\n",
    "# To provide an explicit count for true negative ('tn'), false negative\n",
    "# ('fn'), true positive ('tp'), and false positive ('fp') values, the \n",
    "# confusion matrix ('cm') is sliced and the values are printed.\n",
    "tn = cm[0][0]\n",
    "print(\"True negative: \", tn)\n",
    "fn = cm[1][0]\n",
    "print(\"False negative: \", fn)\n",
    "tp = cm[1][1]\n",
    "print(\"True positive: \", tp)\n",
    "fp = cm[0][1]\n",
    "print(\"False positive: \", fp)"
   ]
  },
  {
   "cell_type": "markdown",
   "id": "d8ce091c-11de-4eb1-b1e8-7ea73c553db4",
   "metadata": {},
   "source": [
    "The classification report indicates zero precision and very low recall metrics for the `non-functional` class.  "
   ]
  },
  {
   "cell_type": "code",
   "execution_count": 91,
   "id": "3517fee5-136f-4a2a-9c5b-503b8bb77410",
   "metadata": {
    "execution": {
     "iopub.execute_input": "2022-10-22T03:18:47.718370Z",
     "iopub.status.busy": "2022-10-22T03:18:47.718089Z",
     "iopub.status.idle": "2022-10-22T03:18:49.869709Z",
     "shell.execute_reply": "2022-10-22T03:18:49.869152Z",
     "shell.execute_reply.started": "2022-10-22T03:18:47.718352Z"
    },
    "tags": []
   },
   "outputs": [
    {
     "name": "stdout",
     "output_type": "stream",
     "text": [
      "LGBMClassifier classification report: \n",
      "                precision    recall  f1-score   support\n",
      "\n",
      "    functional       1.00      0.99      1.00   1839658\n",
      "non-functional       0.00      0.07      0.00       566\n",
      "\n",
      "      accuracy                           0.99   1840224\n",
      "     macro avg       0.50      0.53      0.50   1840224\n",
      "  weighted avg       1.00      0.99      0.99   1840224\n",
      "\n"
     ]
    }
   ],
   "source": [
    "target_names = ['functional', 'non-functional']\n",
    "print(\"LGBMClassifier classification report: \")\n",
    "print(classification_report(y_test_feat, y_pred_lgbc_best, \n",
    "                            target_names=target_names))"
   ]
  },
  {
   "cell_type": "markdown",
   "id": "89e5bfd9-75c2-4996-9c35-605594fa997e",
   "metadata": {},
   "source": [
    "Overall, the LightGBM classifier did not perform well. The LightGBM classifer performed very poorly compared to the random forest classifier. The default parameters actually performed better than the best parameters identified by BayesSearchCV.  \n",
    "\n",
    "LGBMClassifier default parameters performance:  \n",
    "Accuracy score: 1.000  \n",
    "F1 score: 0.240  \n",
    "F2 score: 0.236  \n",
    "\n",
    "LGBMClassifier best parameters performance:  \n",
    "Accuracy score: 0.944  \n",
    "F1 score: 0.001  \n",
    "F2 score: 0.003  "
   ]
  },
  {
   "cell_type": "markdown",
   "id": "fd76213e-16fd-4614-89ec-fd466dcd1054",
   "metadata": {},
   "source": [
    "## CatBoost Classifier    "
   ]
  },
  {
   "cell_type": "markdown",
   "id": "8e69f7f3-60a6-4b32-9a92-6d2b964004f2",
   "metadata": {},
   "source": [
    "### Default  "
   ]
  },
  {
   "cell_type": "markdown",
   "id": "261898a5-f8fb-422b-bde4-d1a1cff69cc8",
   "metadata": {},
   "source": [
    "A CatBoost classifier model is created with default parameters to determine the performance by evaluating F1 and F2 scores.  "
   ]
  },
  {
   "cell_type": "code",
   "execution_count": 92,
   "id": "ed92f567-581b-46be-a09f-a9997dfd1913",
   "metadata": {
    "execution": {
     "iopub.execute_input": "2022-10-22T03:18:49.870754Z",
     "iopub.status.busy": "2022-10-22T03:18:49.870471Z",
     "iopub.status.idle": "2022-10-22T03:18:49.873964Z",
     "shell.execute_reply": "2022-10-22T03:18:49.873524Z",
     "shell.execute_reply.started": "2022-10-22T03:18:49.870733Z"
    },
    "tags": []
   },
   "outputs": [],
   "source": [
    "# References\n",
    "# https://catboost.ai/en/docs/references/training-parameters/\n",
    "\n",
    "# A CatBoost classifier ('CatBoostClassifier') estimator is created\n",
    "# with evaluation metrics (scoring) of 'F1', random state of '42', and \n",
    "# verbose to 'False' to suppress the learn status.  All other \n",
    "# parameters are default.\n",
    "cbc = CatBoostClassifier(\n",
    "    eval_metric='F1', \n",
    "    random_state=42, \n",
    "    verbose=False,\n",
    "    thread_count=14\n",
    ")"
   ]
  },
  {
   "cell_type": "markdown",
   "id": "6d306674-01d1-45ee-846f-a1a7cd31f1f2",
   "metadata": {},
   "source": [
    "The CatBoost classifier estimator with the default parameters are fit on the `X_train` and `y_train` data with the selected features.  "
   ]
  },
  {
   "cell_type": "code",
   "execution_count": 93,
   "id": "0f0822ae-f5ae-4015-b751-432ab2e594ce",
   "metadata": {
    "execution": {
     "iopub.execute_input": "2022-10-22T03:18:49.874875Z",
     "iopub.status.busy": "2022-10-22T03:18:49.874603Z",
     "iopub.status.idle": "2022-10-22T03:22:33.075719Z",
     "shell.execute_reply": "2022-10-22T03:22:33.075140Z",
     "shell.execute_reply.started": "2022-10-22T03:18:49.874856Z"
    },
    "tags": []
   },
   "outputs": [
    {
     "data": {
      "text/plain": [
       "<catboost.core.CatBoostClassifier at 0x7f6aa08a2310>"
      ]
     },
     "execution_count": 93,
     "metadata": {},
     "output_type": "execute_result"
    }
   ],
   "source": [
    "# The CatBoost classifier ('CatBoostClassifier') estimator is fitted on\n",
    "# the 'X_train' and 'y_train' data with the selected features.\n",
    "cbc.fit(\n",
    "    X_train_feat, \n",
    "    y_train_feat\n",
    ")"
   ]
  },
  {
   "cell_type": "markdown",
   "id": "14eac374-4162-4abd-b687-fa549e579492",
   "metadata": {},
   "source": [
    "The CatBoost classifier model predicts on the `X_test` data with the select features.  "
   ]
  },
  {
   "cell_type": "code",
   "execution_count": 94,
   "id": "1373d473-7700-4365-9310-3efdfceec68b",
   "metadata": {
    "execution": {
     "iopub.execute_input": "2022-10-22T03:22:33.076808Z",
     "iopub.status.busy": "2022-10-22T03:22:33.076514Z",
     "iopub.status.idle": "2022-10-22T03:22:33.586757Z",
     "shell.execute_reply": "2022-10-22T03:22:33.586181Z",
     "shell.execute_reply.started": "2022-10-22T03:22:33.076787Z"
    },
    "tags": []
   },
   "outputs": [],
   "source": [
    "# Predict is called on the 'X_test' data with the selected features.\n",
    "y_pred_cbc = cbc.predict(X_test_feat)"
   ]
  },
  {
   "cell_type": "code",
   "execution_count": 95,
   "id": "3a05f519-ae2a-4c02-b9ec-61ddcf29b45d",
   "metadata": {
    "execution": {
     "iopub.execute_input": "2022-10-22T03:22:33.587876Z",
     "iopub.status.busy": "2022-10-22T03:22:33.587562Z",
     "iopub.status.idle": "2022-10-22T03:22:34.666033Z",
     "shell.execute_reply": "2022-10-22T03:22:34.665477Z",
     "shell.execute_reply.started": "2022-10-22T03:22:33.587856Z"
    },
    "tags": []
   },
   "outputs": [
    {
     "name": "stdout",
     "output_type": "stream",
     "text": [
      "CatBoostClassifier default parameters performance:\n",
      "Accuracy score: 1.000\n",
      "F1 score: 0.731\n",
      "F2 score: 0.650\n"
     ]
    }
   ],
   "source": [
    "# References\n",
    "# https://scikit-learn.org/stable/modules/generated/sklearn.metrics.accuracy_score.html\n",
    "# https://scikit-learn.org/stable/modules/generated/sklearn.metrics.f1_score.html\n",
    "# https://scikit-learn.org/stable/modules/generated/sklearn.metrics.fbeta_score.html\n",
    "\n",
    "# Scores are printed for accuracy, F1-score, and F2-score.\n",
    "print(\"CatBoostClassifier default parameters performance:\")\n",
    "print(f\"Accuracy score: {accuracy_score(y_test_feat, y_pred_cbc):.3f}\")\n",
    "print(f\"F1 score: {f1_score(y_test_feat, y_pred_cbc):.3f}\")\n",
    "print(f\"F2 score: {fbeta_score(y_test_feat, y_pred_cbc, average='binary', beta=2.0):.3f}\")"
   ]
  },
  {
   "cell_type": "markdown",
   "id": "c606bb8a-f8f6-4b2d-a863-010fb42399e6",
   "metadata": {},
   "source": [
    "### Parameter grid  "
   ]
  },
  {
   "cell_type": "markdown",
   "id": "e45f71c7-de48-4e75-b7fb-93e28bd2c801",
   "metadata": {},
   "source": [
    "In an effort to improve the F1 and F2 scores, a grid is created with various parameters to search through to find the optimal parameters.   "
   ]
  },
  {
   "cell_type": "code",
   "execution_count": 96,
   "id": "55af09ec-4302-4684-b36f-bfaf1e375fce",
   "metadata": {
    "execution": {
     "iopub.execute_input": "2022-10-22T03:22:34.667107Z",
     "iopub.status.busy": "2022-10-22T03:22:34.666819Z",
     "iopub.status.idle": "2022-10-22T03:22:34.669841Z",
     "shell.execute_reply": "2022-10-22T03:22:34.669379Z",
     "shell.execute_reply.started": "2022-10-22T03:22:34.667086Z"
    },
    "tags": []
   },
   "outputs": [],
   "source": [
    "# A CatBoost classifier ('CatBoostClassifier') estimator ('cbc_tune') \n",
    "# is created for tuning. \n",
    "cbc_tune = CatBoostClassifier()"
   ]
  },
  {
   "cell_type": "code",
   "execution_count": 97,
   "id": "1f00d96c-850f-474a-bac3-33be7402847a",
   "metadata": {
    "execution": {
     "iopub.execute_input": "2022-10-22T03:22:34.670767Z",
     "iopub.status.busy": "2022-10-22T03:22:34.670491Z",
     "iopub.status.idle": "2022-10-22T03:22:34.674828Z",
     "shell.execute_reply": "2022-10-22T03:22:34.674394Z",
     "shell.execute_reply.started": "2022-10-22T03:22:34.670750Z"
    },
    "tags": []
   },
   "outputs": [],
   "source": [
    "# References\n",
    "# https://catboost.ai/en/docs/references/training-parameters/\n",
    "# https://catboost.ai/en/docs/references/training-parameters/common\n",
    "# # https://towardsdatascience.com/catboost-vs-lightgbm-vs-xgboost-c80f40662924\n",
    "\n",
    "# A paramter grid ('cbc_param_grid') to search for the best parameters \n",
    "# for the CatBoost classifier estimator ('cbc_tune') is created.\n",
    "cbc_param_grid = {\n",
    "    'custom_metric': ['F1', 'Precision', 'Recall'],\n",
    "    'eval_metric': ['F1'], \n",
    "    'iterations': [100, 500, 1000],\n",
    "    'learning_rate': [0.1, 0.3, 0.5],\n",
    "    'random_seed': [42],\n",
    "    'max_depth': [3, 6, 9],\n",
    "    'logging_level': ['Silent'],\n",
    "    'thread_count': [14],\n",
    "    'task_type': ['CPU']\n",
    "}"
   ]
  },
  {
   "cell_type": "markdown",
   "id": "631e41ed-eeac-4b3e-9153-7837c35617e1",
   "metadata": {},
   "source": [
    "### BayesSearchCV"
   ]
  },
  {
   "cell_type": "markdown",
   "id": "48f4dc0d-a023-4561-99bc-4a8d0b52662c",
   "metadata": {},
   "source": [
    "Using BayesSearchCV with RepeatedStratifiedKFold the parameters are searched and evaluated to find the best parameters.  "
   ]
  },
  {
   "cell_type": "code",
   "execution_count": 98,
   "id": "ea1d8723-c907-4d14-bbe9-739b52a8ce4a",
   "metadata": {
    "execution": {
     "iopub.execute_input": "2022-10-22T03:22:34.675730Z",
     "iopub.status.busy": "2022-10-22T03:22:34.675445Z",
     "iopub.status.idle": "2022-10-22T03:22:34.687938Z",
     "shell.execute_reply": "2022-10-22T03:22:34.687489Z",
     "shell.execute_reply.started": "2022-10-22T03:22:34.675712Z"
    },
    "tags": []
   },
   "outputs": [],
   "source": [
    "# References\n",
    "# https://scikit-optimize.github.io/stable/modules/generated/skopt.BayesSearchCV.html\n",
    "\n",
    "# A BayesSearchCV object ('cbc_opt') is created to search the parameter \n",
    "# grid ('cbc_param_grid') for the best parameters with the CatBoost \n",
    "# classifier estimator ('cbc_tune'). The scoring is set to 'f1', '5' \n",
    "# parameter samples, '1' number of jobs, and a random state of '42'. \n",
    "# (Stratified)KFold of 3 is used for cross-validation.\n",
    "cbc_opt = (\n",
    "    BayesSearchCV(\n",
    "        cbc_tune, cbc_param_grid, n_iter=5, \n",
    "        scoring='f1', n_jobs=1, refit=True, \n",
    "        cv=3, random_state=42)\n",
    ")"
   ]
  },
  {
   "cell_type": "code",
   "execution_count": 99,
   "id": "9db2ba26-1adc-498a-90e3-8bcb8d57542b",
   "metadata": {
    "execution": {
     "iopub.execute_input": "2022-10-22T03:22:34.688826Z",
     "iopub.status.busy": "2022-10-22T03:22:34.688555Z",
     "iopub.status.idle": "2022-10-22T03:22:34.692718Z",
     "shell.execute_reply": "2022-10-22T03:22:34.692294Z",
     "shell.execute_reply.started": "2022-10-22T03:22:34.688808Z"
    },
    "tags": []
   },
   "outputs": [
    {
     "data": {
      "text/plain": [
       "{'cv': 3,\n",
       " 'error_score': 'raise',\n",
       " 'estimator': <catboost.core.CatBoostClassifier at 0x7f6a900bc0d0>,\n",
       " 'fit_params': None,\n",
       " 'iid': 'deprecated',\n",
       " 'n_iter': 5,\n",
       " 'n_jobs': 1,\n",
       " 'n_points': 1,\n",
       " 'optimizer_kwargs': None,\n",
       " 'pre_dispatch': '2*n_jobs',\n",
       " 'random_state': 42,\n",
       " 'refit': True,\n",
       " 'return_train_score': False,\n",
       " 'scoring': 'f1',\n",
       " 'search_spaces': {'custom_metric': ['F1', 'Precision', 'Recall'],\n",
       "  'eval_metric': ['F1'],\n",
       "  'iterations': [100, 500, 1000],\n",
       "  'learning_rate': [0.1, 0.3, 0.5],\n",
       "  'random_seed': [42],\n",
       "  'max_depth': [3, 6, 9],\n",
       "  'logging_level': ['Silent'],\n",
       "  'thread_count': [14],\n",
       "  'task_type': ['CPU']},\n",
       " 'verbose': 0}"
      ]
     },
     "execution_count": 99,
     "metadata": {},
     "output_type": "execute_result"
    }
   ],
   "source": [
    "# The parameters of the BayesSearchCV object ('cbc_opt') are \n",
    "# displayed.\n",
    "cbc_opt.get_params()"
   ]
  },
  {
   "cell_type": "markdown",
   "id": "27220e8b-7fb5-4a4e-b3f9-f00a000dabab",
   "metadata": {},
   "source": [
    "The BayesSearchCV is implemented with the CatBoost classifier estimator and fit on the `X_train` and `y_train` data with the selected features to search for the best parameters.  "
   ]
  },
  {
   "cell_type": "code",
   "execution_count": 100,
   "id": "e16381d7-e643-43f0-a15f-39d9c0c5c5c2",
   "metadata": {
    "execution": {
     "iopub.execute_input": "2022-10-22T03:22:34.693616Z",
     "iopub.status.busy": "2022-10-22T03:22:34.693435Z",
     "iopub.status.idle": "2022-10-22T03:27:22.492740Z",
     "shell.execute_reply": "2022-10-22T03:27:22.492237Z",
     "shell.execute_reply.started": "2022-10-22T03:22:34.693600Z"
    },
    "tags": []
   },
   "outputs": [
    {
     "data": {
      "text/html": [
       "<style>#sk-container-id-7 {color: black;background-color: white;}#sk-container-id-7 pre{padding: 0;}#sk-container-id-7 div.sk-toggleable {background-color: white;}#sk-container-id-7 label.sk-toggleable__label {cursor: pointer;display: block;width: 100%;margin-bottom: 0;padding: 0.3em;box-sizing: border-box;text-align: center;}#sk-container-id-7 label.sk-toggleable__label-arrow:before {content: \"▸\";float: left;margin-right: 0.25em;color: #696969;}#sk-container-id-7 label.sk-toggleable__label-arrow:hover:before {color: black;}#sk-container-id-7 div.sk-estimator:hover label.sk-toggleable__label-arrow:before {color: black;}#sk-container-id-7 div.sk-toggleable__content {max-height: 0;max-width: 0;overflow: hidden;text-align: left;background-color: #f0f8ff;}#sk-container-id-7 div.sk-toggleable__content pre {margin: 0.2em;color: black;border-radius: 0.25em;background-color: #f0f8ff;}#sk-container-id-7 input.sk-toggleable__control:checked~div.sk-toggleable__content {max-height: 200px;max-width: 100%;overflow: auto;}#sk-container-id-7 input.sk-toggleable__control:checked~label.sk-toggleable__label-arrow:before {content: \"▾\";}#sk-container-id-7 div.sk-estimator input.sk-toggleable__control:checked~label.sk-toggleable__label {background-color: #d4ebff;}#sk-container-id-7 div.sk-label input.sk-toggleable__control:checked~label.sk-toggleable__label {background-color: #d4ebff;}#sk-container-id-7 input.sk-hidden--visually {border: 0;clip: rect(1px 1px 1px 1px);clip: rect(1px, 1px, 1px, 1px);height: 1px;margin: -1px;overflow: hidden;padding: 0;position: absolute;width: 1px;}#sk-container-id-7 div.sk-estimator {font-family: monospace;background-color: #f0f8ff;border: 1px dotted black;border-radius: 0.25em;box-sizing: border-box;margin-bottom: 0.5em;}#sk-container-id-7 div.sk-estimator:hover {background-color: #d4ebff;}#sk-container-id-7 div.sk-parallel-item::after {content: \"\";width: 100%;border-bottom: 1px solid gray;flex-grow: 1;}#sk-container-id-7 div.sk-label:hover label.sk-toggleable__label {background-color: #d4ebff;}#sk-container-id-7 div.sk-serial::before {content: \"\";position: absolute;border-left: 1px solid gray;box-sizing: border-box;top: 0;bottom: 0;left: 50%;z-index: 0;}#sk-container-id-7 div.sk-serial {display: flex;flex-direction: column;align-items: center;background-color: white;padding-right: 0.2em;padding-left: 0.2em;position: relative;}#sk-container-id-7 div.sk-item {position: relative;z-index: 1;}#sk-container-id-7 div.sk-parallel {display: flex;align-items: stretch;justify-content: center;background-color: white;position: relative;}#sk-container-id-7 div.sk-item::before, #sk-container-id-7 div.sk-parallel-item::before {content: \"\";position: absolute;border-left: 1px solid gray;box-sizing: border-box;top: 0;bottom: 0;left: 50%;z-index: -1;}#sk-container-id-7 div.sk-parallel-item {display: flex;flex-direction: column;z-index: 1;position: relative;background-color: white;}#sk-container-id-7 div.sk-parallel-item:first-child::after {align-self: flex-end;width: 50%;}#sk-container-id-7 div.sk-parallel-item:last-child::after {align-self: flex-start;width: 50%;}#sk-container-id-7 div.sk-parallel-item:only-child::after {width: 0;}#sk-container-id-7 div.sk-dashed-wrapped {border: 1px dashed gray;margin: 0 0.4em 0.5em 0.4em;box-sizing: border-box;padding-bottom: 0.4em;background-color: white;}#sk-container-id-7 div.sk-label label {font-family: monospace;font-weight: bold;display: inline-block;line-height: 1.2em;}#sk-container-id-7 div.sk-label-container {text-align: center;}#sk-container-id-7 div.sk-container {/* jupyter's `normalize.less` sets `[hidden] { display: none; }` but bootstrap.min.css set `[hidden] { display: none !important; }` so we also need the `!important` here to be able to override the default hidden behavior on the sphinx rendered scikit-learn.org. See: https://github.com/scikit-learn/scikit-learn/issues/21755 */display: inline-block !important;position: relative;}#sk-container-id-7 div.sk-text-repr-fallback {display: none;}</style><div id=\"sk-container-id-7\" class=\"sk-top-container\"><div class=\"sk-text-repr-fallback\"><pre>BayesSearchCV(cv=3,\n",
       "              estimator=&lt;catboost.core.CatBoostClassifier object at 0x7f6a900bc0d0&gt;,\n",
       "              n_iter=5, random_state=42, scoring=&#x27;f1&#x27;,\n",
       "              search_spaces={&#x27;custom_metric&#x27;: [&#x27;F1&#x27;, &#x27;Precision&#x27;, &#x27;Recall&#x27;],\n",
       "                             &#x27;eval_metric&#x27;: [&#x27;F1&#x27;],\n",
       "                             &#x27;iterations&#x27;: [100, 500, 1000],\n",
       "                             &#x27;learning_rate&#x27;: [0.1, 0.3, 0.5],\n",
       "                             &#x27;logging_level&#x27;: [&#x27;Silent&#x27;],\n",
       "                             &#x27;max_depth&#x27;: [3, 6, 9], &#x27;random_seed&#x27;: [42],\n",
       "                             &#x27;task_type&#x27;: [&#x27;CPU&#x27;], &#x27;thread_count&#x27;: [14]})</pre><b>In a Jupyter environment, please rerun this cell to show the HTML representation or trust the notebook. <br />On GitHub, the HTML representation is unable to render, please try loading this page with nbviewer.org.</b></div><div class=\"sk-container\" hidden><div class=\"sk-item sk-dashed-wrapped\"><div class=\"sk-label-container\"><div class=\"sk-label sk-toggleable\"><input class=\"sk-toggleable__control sk-hidden--visually\" id=\"sk-estimator-id-11\" type=\"checkbox\" ><label for=\"sk-estimator-id-11\" class=\"sk-toggleable__label sk-toggleable__label-arrow\">BayesSearchCV</label><div class=\"sk-toggleable__content\"><pre>BayesSearchCV(cv=3,\n",
       "              estimator=&lt;catboost.core.CatBoostClassifier object at 0x7f6a900bc0d0&gt;,\n",
       "              n_iter=5, random_state=42, scoring=&#x27;f1&#x27;,\n",
       "              search_spaces={&#x27;custom_metric&#x27;: [&#x27;F1&#x27;, &#x27;Precision&#x27;, &#x27;Recall&#x27;],\n",
       "                             &#x27;eval_metric&#x27;: [&#x27;F1&#x27;],\n",
       "                             &#x27;iterations&#x27;: [100, 500, 1000],\n",
       "                             &#x27;learning_rate&#x27;: [0.1, 0.3, 0.5],\n",
       "                             &#x27;logging_level&#x27;: [&#x27;Silent&#x27;],\n",
       "                             &#x27;max_depth&#x27;: [3, 6, 9], &#x27;random_seed&#x27;: [42],\n",
       "                             &#x27;task_type&#x27;: [&#x27;CPU&#x27;], &#x27;thread_count&#x27;: [14]})</pre></div></div></div><div class=\"sk-parallel\"><div class=\"sk-parallel-item\"><div class=\"sk-item\"><div class=\"sk-label-container\"><div class=\"sk-label sk-toggleable\"><input class=\"sk-toggleable__control sk-hidden--visually\" id=\"sk-estimator-id-12\" type=\"checkbox\" ><label for=\"sk-estimator-id-12\" class=\"sk-toggleable__label sk-toggleable__label-arrow\">estimator: CatBoostClassifier</label><div class=\"sk-toggleable__content\"><pre>&lt;catboost.core.CatBoostClassifier object at 0x7f6a900bc0d0&gt;</pre></div></div></div><div class=\"sk-serial\"><div class=\"sk-item\"><div class=\"sk-estimator sk-toggleable\"><input class=\"sk-toggleable__control sk-hidden--visually\" id=\"sk-estimator-id-13\" type=\"checkbox\" ><label for=\"sk-estimator-id-13\" class=\"sk-toggleable__label sk-toggleable__label-arrow\">CatBoostClassifier</label><div class=\"sk-toggleable__content\"><pre>&lt;catboost.core.CatBoostClassifier object at 0x7f6a900bc0d0&gt;</pre></div></div></div></div></div></div></div></div></div></div>"
      ],
      "text/plain": [
       "BayesSearchCV(cv=3,\n",
       "              estimator=<catboost.core.CatBoostClassifier object at 0x7f6a900bc0d0>,\n",
       "              n_iter=5, random_state=42, scoring='f1',\n",
       "              search_spaces={'custom_metric': ['F1', 'Precision', 'Recall'],\n",
       "                             'eval_metric': ['F1'],\n",
       "                             'iterations': [100, 500, 1000],\n",
       "                             'learning_rate': [0.1, 0.3, 0.5],\n",
       "                             'logging_level': ['Silent'],\n",
       "                             'max_depth': [3, 6, 9], 'random_seed': [42],\n",
       "                             'task_type': ['CPU'], 'thread_count': [14]})"
      ]
     },
     "execution_count": 100,
     "metadata": {},
     "output_type": "execute_result"
    }
   ],
   "source": [
    "# The BayesSearchCV object ('cbc_opt') is fitted on the 'X_train' and \n",
    "# 'y_train' resampled data with the selected features.\n",
    "cbc_opt.fit(\n",
    "    X_train_res_feat, \n",
    "    y_train_res_feat\n",
    ")"
   ]
  },
  {
   "cell_type": "code",
   "execution_count": 101,
   "id": "18ff3ec4-ead8-449d-bdfe-62fc4714e978",
   "metadata": {
    "execution": {
     "iopub.execute_input": "2022-10-22T03:27:22.493739Z",
     "iopub.status.busy": "2022-10-22T03:27:22.493462Z",
     "iopub.status.idle": "2022-10-22T03:27:22.497241Z",
     "shell.execute_reply": "2022-10-22T03:27:22.496774Z",
     "shell.execute_reply.started": "2022-10-22T03:27:22.493719Z"
    },
    "tags": []
   },
   "outputs": [
    {
     "name": "stdout",
     "output_type": "stream",
     "text": [
      "CatBoostClassifier BayesSearchCV results: \n",
      "Best estimator:  <catboost.core.CatBoostClassifier object at 0x7f6a900cdfd0>\n",
      "Best score:  0.9981763014879634\n",
      "Best parameters:  OrderedDict([('custom_metric', 'Precision'), ('eval_metric', 'F1'), ('iterations', 1000), ('learning_rate', 0.3), ('logging_level', 'Silent'), ('max_depth', 6), ('random_seed', 42), ('task_type', 'CPU'), ('thread_count', 14)])\n"
     ]
    }
   ],
   "source": [
    "# Best estimator, best score, and best parameters are printed.\n",
    "print(\"CatBoostClassifier BayesSearchCV results: \" )\n",
    "print(\"Best estimator: \", cbc_opt.best_estimator_)\n",
    "print(\"Best score: \", cbc_opt.best_score_)\n",
    "print(\"Best parameters: \", cbc_opt.best_params_)"
   ]
  },
  {
   "cell_type": "markdown",
   "id": "69132913-b181-4da2-bad5-23a629ee4350",
   "metadata": {
    "tags": []
   },
   "source": [
    "### Best estimator"
   ]
  },
  {
   "cell_type": "markdown",
   "id": "5bca27bd-2bcd-45f5-b9fd-e77ff2a402ea",
   "metadata": {},
   "source": [
    "The best parameters from the BayesSearchCV parameter search are used to create a LightGBM classifier estimator.  "
   ]
  },
  {
   "cell_type": "code",
   "execution_count": 102,
   "id": "9e5bb0bd-08b0-479f-813d-4541217ef278",
   "metadata": {
    "execution": {
     "iopub.execute_input": "2022-10-22T03:27:22.498058Z",
     "iopub.status.busy": "2022-10-22T03:27:22.497839Z",
     "iopub.status.idle": "2022-10-22T03:27:22.501822Z",
     "shell.execute_reply": "2022-10-22T03:27:22.501376Z",
     "shell.execute_reply.started": "2022-10-22T03:27:22.498041Z"
    },
    "tags": []
   },
   "outputs": [],
   "source": [
    "# The CatBoost classifier ('CatBoostClassifier') estimator \n",
    "# ('cgbc_best') is created using the best parameters.\n",
    "# The 'scale_pos_weight' parameter is added due to the extreme class\n",
    "# imbalance.\n",
    "cbc_best = CatBoostClassifier(\n",
    "    custom_metric='Precision',\n",
    "    eval_metric='F1',\n",
    "    iterations=1000,\n",
    "    learning_rate=0.3,\n",
    "    logging_level='Silent',\n",
    "    max_depth=6,\n",
    "    random_seed=42,\n",
    "    task_type='CPU',\n",
    "    thread_count=14,\n",
    "    scale_pos_weight=scale_pos_weight\n",
    ")"
   ]
  },
  {
   "cell_type": "code",
   "execution_count": 103,
   "id": "557299db-a4c6-4440-8a95-85e9326219eb",
   "metadata": {
    "execution": {
     "iopub.execute_input": "2022-10-22T03:27:22.502630Z",
     "iopub.status.busy": "2022-10-22T03:27:22.502406Z",
     "iopub.status.idle": "2022-10-22T03:27:22.507942Z",
     "shell.execute_reply": "2022-10-22T03:27:22.507491Z",
     "shell.execute_reply.started": "2022-10-22T03:27:22.502613Z"
    },
    "tags": []
   },
   "outputs": [
    {
     "data": {
      "text/plain": [
       "{'iterations': 1000,\n",
       " 'learning_rate': 0.3,\n",
       " 'thread_count': 14,\n",
       " 'random_seed': 42,\n",
       " 'logging_level': 'Silent',\n",
       " 'custom_metric': 'Precision',\n",
       " 'eval_metric': 'F1',\n",
       " 'task_type': 'CPU',\n",
       " 'max_depth': 6,\n",
       " 'scale_pos_weight': 57.0}"
      ]
     },
     "execution_count": 103,
     "metadata": {},
     "output_type": "execute_result"
    }
   ],
   "source": [
    "# The parameters of the CatBoost classifier ('CatBoostClassifier') \n",
    "# estimator ('cbc_best') are displayed.\n",
    "cbc_best.get_params()"
   ]
  },
  {
   "cell_type": "markdown",
   "id": "f081ed3e-346d-49be-a179-1979b0e91742",
   "metadata": {},
   "source": [
    "### Fit and predict with best estimator"
   ]
  },
  {
   "cell_type": "markdown",
   "id": "0c2a108f-64a5-4bd6-a0bd-2313d03812b7",
   "metadata": {},
   "source": [
    "The CatBoost classifier estimator with the best parameters from the BayesSearchCV parameter search are fit on the `X_train` and `y_train` data with the selected features.  "
   ]
  },
  {
   "cell_type": "code",
   "execution_count": 104,
   "id": "0e968f6c-03ee-4bf5-a976-d4a0c95ac550",
   "metadata": {
    "execution": {
     "iopub.execute_input": "2022-10-22T03:27:22.508735Z",
     "iopub.status.busy": "2022-10-22T03:27:22.508519Z",
     "iopub.status.idle": "2022-10-22T03:31:34.240975Z",
     "shell.execute_reply": "2022-10-22T03:31:34.240476Z",
     "shell.execute_reply.started": "2022-10-22T03:27:22.508717Z"
    },
    "tags": []
   },
   "outputs": [
    {
     "data": {
      "text/plain": [
       "<catboost.core.CatBoostClassifier at 0x7f6a900c04c0>"
      ]
     },
     "execution_count": 104,
     "metadata": {},
     "output_type": "execute_result"
    }
   ],
   "source": [
    "# The best parameters are utilized with CatBoost classifier \n",
    "# ('CatBoostClassifier') estimator ('cbc_best') and fitted on the \n",
    "# 'X_train' and 'y_train' data with the selected features.\n",
    "cbc_best.fit(\n",
    "    X_train_feat, \n",
    "    y_train_feat\n",
    ")"
   ]
  },
  {
   "cell_type": "markdown",
   "id": "0f817af5-4b60-448e-87ba-19bf62c892da",
   "metadata": {},
   "source": [
    "The CatBoost classifier model predicts on the `X_test` data with the select features.  "
   ]
  },
  {
   "cell_type": "code",
   "execution_count": 105,
   "id": "a78fb133-7061-437b-90c2-fe532d3adb80",
   "metadata": {
    "execution": {
     "iopub.execute_input": "2022-10-22T03:31:34.241966Z",
     "iopub.status.busy": "2022-10-22T03:31:34.241692Z",
     "iopub.status.idle": "2022-10-22T03:31:34.749918Z",
     "shell.execute_reply": "2022-10-22T03:31:34.749350Z",
     "shell.execute_reply.started": "2022-10-22T03:31:34.241946Z"
    },
    "tags": []
   },
   "outputs": [],
   "source": [
    "# Predict is called on the 'X_test' data with the selected features.\n",
    "y_pred_cbc_best = cbc_best.predict(X_test_feat)"
   ]
  },
  {
   "cell_type": "code",
   "execution_count": 106,
   "id": "b33d4d9e-ae77-4bd3-bd52-2c5fdf5ce4e3",
   "metadata": {
    "execution": {
     "iopub.execute_input": "2022-10-22T03:31:34.751216Z",
     "iopub.status.busy": "2022-10-22T03:31:34.750701Z",
     "iopub.status.idle": "2022-10-22T03:31:35.835927Z",
     "shell.execute_reply": "2022-10-22T03:31:35.835371Z",
     "shell.execute_reply.started": "2022-10-22T03:31:34.751195Z"
    },
    "tags": []
   },
   "outputs": [
    {
     "name": "stdout",
     "output_type": "stream",
     "text": [
      "CatBoostClassifier best parameters performance: \n",
      "Accuracy score: 1.000\n",
      "F1 score: 0.760\n",
      "F2 score: 0.836\n"
     ]
    }
   ],
   "source": [
    "# References\n",
    "# https://scikit-learn.org/stable/modules/generated/sklearn.metrics.accuracy_score.html\n",
    "# https://scikit-learn.org/stable/modules/generated/sklearn.metrics.f1_score.html\n",
    "# https://scikit-learn.org/stable/modules/generated/sklearn.metrics.fbeta_score.html\n",
    "\n",
    "# Scores are printed for accuracy, F1-score, and F2-score.\n",
    "print(\"CatBoostClassifier best parameters performance: \")\n",
    "print(f\"Accuracy score: {accuracy_score(y_test_feat, y_pred_cbc_best):.3f}\")\n",
    "print(f\"F1 score: {f1_score(y_test_feat, y_pred_cbc_best):.3f}\")\n",
    "print(f\"F2 score: {fbeta_score(y_test_feat, y_pred_cbc_best, average='binary', beta=2.0):.3f}\")"
   ]
  },
  {
   "cell_type": "code",
   "execution_count": 107,
   "id": "efafb5b9-bc7c-4dc0-acab-5036c9b50080",
   "metadata": {
    "execution": {
     "iopub.execute_input": "2022-10-22T03:31:35.836934Z",
     "iopub.status.busy": "2022-10-22T03:31:35.836663Z",
     "iopub.status.idle": "2022-10-22T03:31:36.062566Z",
     "shell.execute_reply": "2022-10-22T03:31:36.062027Z",
     "shell.execute_reply.started": "2022-10-22T03:31:35.836914Z"
    },
    "tags": []
   },
   "outputs": [
    {
     "name": "stdout",
     "output_type": "stream",
     "text": [
      "CatBoostClassifier confusion matrix: \n",
      "[[1839397     261]\n",
      " [     59     507]]\n"
     ]
    }
   ],
   "source": [
    "# References\n",
    "# https://scikit-learn.org/stable/modules/generated/sklearn.metrics.confusion_matrix.html\n",
    "\n",
    "# A confusion matrix is created from the 'y_test' label data and the \n",
    "# 'y_pred' predicted labels.\n",
    "print(\"CatBoostClassifier confusion matrix: \")\n",
    "print(confusion_matrix(y_test_feat, y_pred_cbc_best))"
   ]
  },
  {
   "cell_type": "code",
   "execution_count": 108,
   "id": "8f22a088-0a37-4f64-ad51-1612d0174e4d",
   "metadata": {
    "execution": {
     "iopub.execute_input": "2022-10-22T03:31:36.063520Z",
     "iopub.status.busy": "2022-10-22T03:31:36.063302Z",
     "iopub.status.idle": "2022-10-22T03:31:36.417359Z",
     "shell.execute_reply": "2022-10-22T03:31:36.416842Z",
     "shell.execute_reply.started": "2022-10-22T03:31:36.063501Z"
    },
    "tags": []
   },
   "outputs": [
    {
     "data": {
      "image/png": "[encoded data removed]",
      "text/plain": [
       "<Figure size 432x288 with 2 Axes>"
      ]
     },
     "metadata": {
      "needs_background": "light"
     },
     "output_type": "display_data"
    }
   ],
   "source": [
    "# References\n",
    "# https://scikit-learn.org/stable/modules/generated/sklearn.metrics.ConfusionMatrixDisplay.html\n",
    "\n",
    "# A graphical confusion matrix is displayed from the 'y_test' label \n",
    "# data and the 'y_pred' predicted labels using the new selected \n",
    "# features.\n",
    "cm = confusion_matrix(y_test_feat, \n",
    "                      y_pred_cbc_best, \n",
    "                      labels=cbc_best.classes_)\n",
    "disp_cm = ConfusionMatrixDisplay(confusion_matrix=cm, \n",
    "                              display_labels=cbc_best.classes_)\n",
    "disp_cm.plot()\n",
    "plt.show()"
   ]
  },
  {
   "cell_type": "markdown",
   "id": "3e8c2a24-b8de-4cfc-a2f1-ec34a98d6e12",
   "metadata": {},
   "source": [
    "The results indicate that the CatBoost model predicted 1,839,397 true negative (accurately classified as `functional`), 59 false negative (inaccurately classified as `functional`), 507 true positive (accurately classified as `non-functional`), and 261 false positive (inaccurately classified as `non-functional`).  "
   ]
  },
  {
   "cell_type": "code",
   "execution_count": 109,
   "id": "84589643-feb6-4ebc-b4c7-bf0d1007fa68",
   "metadata": {
    "execution": {
     "iopub.execute_input": "2022-10-22T03:31:36.418280Z",
     "iopub.status.busy": "2022-10-22T03:31:36.418065Z",
     "iopub.status.idle": "2022-10-22T03:31:36.422423Z",
     "shell.execute_reply": "2022-10-22T03:31:36.421949Z",
     "shell.execute_reply.started": "2022-10-22T03:31:36.418261Z"
    },
    "tags": []
   },
   "outputs": [
    {
     "name": "stdout",
     "output_type": "stream",
     "text": [
      "True negative:  1839397\n",
      "False negative:  59\n",
      "True positive:  507\n",
      "False positive:  261\n"
     ]
    }
   ],
   "source": [
    "# References\n",
    "# https://stackoverflow.com/questions/31324218/scikit-learn-how-to-obtain-true-positive-true-negative-false-positive-and-fal\n",
    "\n",
    "# To provide an explicit count for true negative ('tn'), false negative\n",
    "# ('fn'), true positive ('tp'), and false positive ('fp') values, the \n",
    "# confusion matrix ('cm') is sliced and the values are printed.\n",
    "tn = cm[0][0]\n",
    "print(\"True negative: \", tn)\n",
    "fn = cm[1][0]\n",
    "print(\"False negative: \", fn)\n",
    "tp = cm[1][1]\n",
    "print(\"True positive: \", tp)\n",
    "fp = cm[0][1]\n",
    "print(\"False positive: \", fp)"
   ]
  },
  {
   "cell_type": "markdown",
   "id": "5361fba1-934d-41cb-98f0-83046c13ea3c",
   "metadata": {},
   "source": [
    "The classification report indicates low precision and higher recall metrics for the `non-functional` class.    "
   ]
  },
  {
   "cell_type": "code",
   "execution_count": 110,
   "id": "10f871c2-c5f1-4609-a710-4271488cf2be",
   "metadata": {
    "execution": {
     "iopub.execute_input": "2022-10-22T03:31:36.423254Z",
     "iopub.status.busy": "2022-10-22T03:31:36.423056Z",
     "iopub.status.idle": "2022-10-22T03:31:38.550224Z",
     "shell.execute_reply": "2022-10-22T03:31:38.549692Z",
     "shell.execute_reply.started": "2022-10-22T03:31:36.423232Z"
    },
    "tags": []
   },
   "outputs": [
    {
     "name": "stdout",
     "output_type": "stream",
     "text": [
      "CatBoostClassifier classification report: \n",
      "                precision    recall  f1-score   support\n",
      "\n",
      "    functional       1.00      1.00      1.00   1839658\n",
      "non-functional       0.66      0.90      0.76       566\n",
      "\n",
      "      accuracy                           1.00   1840224\n",
      "     macro avg       0.83      0.95      0.88   1840224\n",
      "  weighted avg       1.00      1.00      1.00   1840224\n",
      "\n"
     ]
    }
   ],
   "source": [
    "target_names = ['functional', 'non-functional']\n",
    "print(\"CatBoostClassifier classification report: \")\n",
    "print(classification_report(y_test_feat, y_pred_cbc_best, \n",
    "                            target_names=target_names))"
   ]
  },
  {
   "cell_type": "markdown",
   "id": "3165c443-43f0-464b-bbac-bfd04695697e",
   "metadata": {},
   "source": [
    "The CatBoost classifier performed better than the random forest classifier and significantly better than the LightGBM classifier.  The best parameters identified by BayesSearchCV performed better than the default parameters.  \n",
    "\n",
    "CatBoostClassifier default parameters performance:  \n",
    "Accuracy score: 1.000  \n",
    "F1 score: 0.731  \n",
    "F2 score: 0.650   \n",
    "\n",
    "CatBoostClassifier best parameters performance:  \n",
    "Accuracy score: 1.000  \n",
    "F1 score: 0.760  \n",
    "F2 score: 0.836  "
   ]
  },
  {
   "cell_type": "markdown",
   "id": "b97fd7c0-6812-444e-ac2e-8d65540abbd5",
   "metadata": {},
   "source": [
    "## XGBoost classifier"
   ]
  },
  {
   "cell_type": "markdown",
   "id": "449d058e-9838-42ca-a476-0c310ce4c5fd",
   "metadata": {},
   "source": [
    "A XGBoost classifier model is created with default parameters to determine the performance by evaluating F1 and F2 scores.  "
   ]
  },
  {
   "cell_type": "markdown",
   "id": "0860b10c-3177-415e-bd0e-5ad42a505c2d",
   "metadata": {
    "execution": {
     "iopub.execute_input": "2022-10-16T02:55:59.748189Z",
     "iopub.status.busy": "2022-10-16T02:55:59.747965Z",
     "iopub.status.idle": "2022-10-16T02:55:59.751046Z",
     "shell.execute_reply": "2022-10-16T02:55:59.750571Z",
     "shell.execute_reply.started": "2022-10-16T02:55:59.748169Z"
    },
    "tags": []
   },
   "source": [
    "### Default"
   ]
  },
  {
   "cell_type": "code",
   "execution_count": 111,
   "id": "66b0d77b-d9ed-4e02-be13-9b1eddfc35a1",
   "metadata": {
    "execution": {
     "iopub.execute_input": "2022-10-22T03:31:38.551184Z",
     "iopub.status.busy": "2022-10-22T03:31:38.550959Z",
     "iopub.status.idle": "2022-10-22T03:31:38.554284Z",
     "shell.execute_reply": "2022-10-22T03:31:38.553822Z",
     "shell.execute_reply.started": "2022-10-22T03:31:38.551164Z"
    },
    "tags": []
   },
   "outputs": [],
   "source": [
    "# References\n",
    "# https://xgboost.readthedocs.io/en/stable/python/python_api.html\n",
    "\n",
    "# A XGBoost classifier ('XGBClassifier') estimator is created\n",
    "# random state of '42'.  XGBClassifier does not have a evaluation \n",
    "# metric for 'F1'. The 'F1' score will be evaluated during \n",
    "# BayesSearchCV. All other parameters are default.\n",
    "xgbc = xgb.XGBClassifier(\n",
    "    n_jobs=14,\n",
    "    random_state=42\n",
    ")"
   ]
  },
  {
   "cell_type": "markdown",
   "id": "bb9858df-0f68-4d4b-955c-9194c1047fb9",
   "metadata": {},
   "source": [
    "The XGBoost classifier estimator with the default parameters are fit on the `X_train` and `y_train` data with the selected features.  "
   ]
  },
  {
   "cell_type": "code",
   "execution_count": 112,
   "id": "ac87e900-da68-4d4c-a7f5-49a1607540f0",
   "metadata": {
    "execution": {
     "iopub.execute_input": "2022-10-22T03:31:38.555140Z",
     "iopub.status.busy": "2022-10-22T03:31:38.554947Z",
     "iopub.status.idle": "2022-10-22T03:33:43.785271Z",
     "shell.execute_reply": "2022-10-22T03:33:43.784536Z",
     "shell.execute_reply.started": "2022-10-22T03:31:38.555122Z"
    },
    "tags": []
   },
   "outputs": [
    {
     "data": {
      "text/html": [
       "<style>#sk-container-id-8 {color: black;background-color: white;}#sk-container-id-8 pre{padding: 0;}#sk-container-id-8 div.sk-toggleable {background-color: white;}#sk-container-id-8 label.sk-toggleable__label {cursor: pointer;display: block;width: 100%;margin-bottom: 0;padding: 0.3em;box-sizing: border-box;text-align: center;}#sk-container-id-8 label.sk-toggleable__label-arrow:before {content: \"▸\";float: left;margin-right: 0.25em;color: #696969;}#sk-container-id-8 label.sk-toggleable__label-arrow:hover:before {color: black;}#sk-container-id-8 div.sk-estimator:hover label.sk-toggleable__label-arrow:before {color: black;}#sk-container-id-8 div.sk-toggleable__content {max-height: 0;max-width: 0;overflow: hidden;text-align: left;background-color: #f0f8ff;}#sk-container-id-8 div.sk-toggleable__content pre {margin: 0.2em;color: black;border-radius: 0.25em;background-color: #f0f8ff;}#sk-container-id-8 input.sk-toggleable__control:checked~div.sk-toggleable__content {max-height: 200px;max-width: 100%;overflow: auto;}#sk-container-id-8 input.sk-toggleable__control:checked~label.sk-toggleable__label-arrow:before {content: \"▾\";}#sk-container-id-8 div.sk-estimator input.sk-toggleable__control:checked~label.sk-toggleable__label {background-color: #d4ebff;}#sk-container-id-8 div.sk-label input.sk-toggleable__control:checked~label.sk-toggleable__label {background-color: #d4ebff;}#sk-container-id-8 input.sk-hidden--visually {border: 0;clip: rect(1px 1px 1px 1px);clip: rect(1px, 1px, 1px, 1px);height: 1px;margin: -1px;overflow: hidden;padding: 0;position: absolute;width: 1px;}#sk-container-id-8 div.sk-estimator {font-family: monospace;background-color: #f0f8ff;border: 1px dotted black;border-radius: 0.25em;box-sizing: border-box;margin-bottom: 0.5em;}#sk-container-id-8 div.sk-estimator:hover {background-color: #d4ebff;}#sk-container-id-8 div.sk-parallel-item::after {content: \"\";width: 100%;border-bottom: 1px solid gray;flex-grow: 1;}#sk-container-id-8 div.sk-label:hover label.sk-toggleable__label {background-color: #d4ebff;}#sk-container-id-8 div.sk-serial::before {content: \"\";position: absolute;border-left: 1px solid gray;box-sizing: border-box;top: 0;bottom: 0;left: 50%;z-index: 0;}#sk-container-id-8 div.sk-serial {display: flex;flex-direction: column;align-items: center;background-color: white;padding-right: 0.2em;padding-left: 0.2em;position: relative;}#sk-container-id-8 div.sk-item {position: relative;z-index: 1;}#sk-container-id-8 div.sk-parallel {display: flex;align-items: stretch;justify-content: center;background-color: white;position: relative;}#sk-container-id-8 div.sk-item::before, #sk-container-id-8 div.sk-parallel-item::before {content: \"\";position: absolute;border-left: 1px solid gray;box-sizing: border-box;top: 0;bottom: 0;left: 50%;z-index: -1;}#sk-container-id-8 div.sk-parallel-item {display: flex;flex-direction: column;z-index: 1;position: relative;background-color: white;}#sk-container-id-8 div.sk-parallel-item:first-child::after {align-self: flex-end;width: 50%;}#sk-container-id-8 div.sk-parallel-item:last-child::after {align-self: flex-start;width: 50%;}#sk-container-id-8 div.sk-parallel-item:only-child::after {width: 0;}#sk-container-id-8 div.sk-dashed-wrapped {border: 1px dashed gray;margin: 0 0.4em 0.5em 0.4em;box-sizing: border-box;padding-bottom: 0.4em;background-color: white;}#sk-container-id-8 div.sk-label label {font-family: monospace;font-weight: bold;display: inline-block;line-height: 1.2em;}#sk-container-id-8 div.sk-label-container {text-align: center;}#sk-container-id-8 div.sk-container {/* jupyter's `normalize.less` sets `[hidden] { display: none; }` but bootstrap.min.css set `[hidden] { display: none !important; }` so we also need the `!important` here to be able to override the default hidden behavior on the sphinx rendered scikit-learn.org. See: https://github.com/scikit-learn/scikit-learn/issues/21755 */display: inline-block !important;position: relative;}#sk-container-id-8 div.sk-text-repr-fallback {display: none;}</style><div id=\"sk-container-id-8\" class=\"sk-top-container\"><div class=\"sk-text-repr-fallback\"><pre>XGBClassifier(base_score=0.5, booster=&#x27;gbtree&#x27;, callbacks=None,\n",
       "              colsample_bylevel=1, colsample_bynode=1, colsample_bytree=1,\n",
       "              early_stopping_rounds=None, enable_categorical=False,\n",
       "              eval_metric=None, gamma=0, gpu_id=-1, grow_policy=&#x27;depthwise&#x27;,\n",
       "              importance_type=None, interaction_constraints=&#x27;&#x27;,\n",
       "              learning_rate=0.300000012, max_bin=256, max_cat_to_onehot=4,\n",
       "              max_delta_step=0, max_depth=6, max_leaves=0, min_child_weight=1,\n",
       "              missing=nan, monotone_constraints=&#x27;()&#x27;, n_estimators=100,\n",
       "              n_jobs=14, num_parallel_tree=1, predictor=&#x27;auto&#x27;, random_state=42,\n",
       "              reg_alpha=0, reg_lambda=1, ...)</pre><b>In a Jupyter environment, please rerun this cell to show the HTML representation or trust the notebook. <br />On GitHub, the HTML representation is unable to render, please try loading this page with nbviewer.org.</b></div><div class=\"sk-container\" hidden><div class=\"sk-item\"><div class=\"sk-estimator sk-toggleable\"><input class=\"sk-toggleable__control sk-hidden--visually\" id=\"sk-estimator-id-14\" type=\"checkbox\" checked><label for=\"sk-estimator-id-14\" class=\"sk-toggleable__label sk-toggleable__label-arrow\">XGBClassifier</label><div class=\"sk-toggleable__content\"><pre>XGBClassifier(base_score=0.5, booster=&#x27;gbtree&#x27;, callbacks=None,\n",
       "              colsample_bylevel=1, colsample_bynode=1, colsample_bytree=1,\n",
       "              early_stopping_rounds=None, enable_categorical=False,\n",
       "              eval_metric=None, gamma=0, gpu_id=-1, grow_policy=&#x27;depthwise&#x27;,\n",
       "              importance_type=None, interaction_constraints=&#x27;&#x27;,\n",
       "              learning_rate=0.300000012, max_bin=256, max_cat_to_onehot=4,\n",
       "              max_delta_step=0, max_depth=6, max_leaves=0, min_child_weight=1,\n",
       "              missing=nan, monotone_constraints=&#x27;()&#x27;, n_estimators=100,\n",
       "              n_jobs=14, num_parallel_tree=1, predictor=&#x27;auto&#x27;, random_state=42,\n",
       "              reg_alpha=0, reg_lambda=1, ...)</pre></div></div></div></div></div>"
      ],
      "text/plain": [
       "XGBClassifier(base_score=0.5, booster='gbtree', callbacks=None,\n",
       "              colsample_bylevel=1, colsample_bynode=1, colsample_bytree=1,\n",
       "              early_stopping_rounds=None, enable_categorical=False,\n",
       "              eval_metric=None, gamma=0, gpu_id=-1, grow_policy='depthwise',\n",
       "              importance_type=None, interaction_constraints='',\n",
       "              learning_rate=0.300000012, max_bin=256, max_cat_to_onehot=4,\n",
       "              max_delta_step=0, max_depth=6, max_leaves=0, min_child_weight=1,\n",
       "              missing=nan, monotone_constraints='()', n_estimators=100,\n",
       "              n_jobs=14, num_parallel_tree=1, predictor='auto', random_state=42,\n",
       "              reg_alpha=0, reg_lambda=1, ...)"
      ]
     },
     "execution_count": 112,
     "metadata": {},
     "output_type": "execute_result"
    }
   ],
   "source": [
    "# The XGBoost classifier ('XGBClassifier') estimator is fitted on\n",
    "# the 'X_train' and 'y_train' data with the selected features.\n",
    "xgbc.fit(\n",
    "    X_train_feat, \n",
    "    y_train_feat\n",
    ")"
   ]
  },
  {
   "cell_type": "markdown",
   "id": "e0723d33-a2e9-485a-bb1b-95e19d2b1def",
   "metadata": {},
   "source": [
    "The XGBoost classifier model predicts on the `X_test` data with the select features.  "
   ]
  },
  {
   "cell_type": "code",
   "execution_count": 113,
   "id": "53bf9400-bf48-46c0-984f-01f4ba883c8e",
   "metadata": {
    "execution": {
     "iopub.execute_input": "2022-10-22T03:33:43.786701Z",
     "iopub.status.busy": "2022-10-22T03:33:43.786404Z",
     "iopub.status.idle": "2022-10-22T03:33:44.223739Z",
     "shell.execute_reply": "2022-10-22T03:33:44.222990Z",
     "shell.execute_reply.started": "2022-10-22T03:33:43.786677Z"
    },
    "tags": []
   },
   "outputs": [],
   "source": [
    "# Predict is called ont he 'X_test' data with the selected features.\n",
    "y_pred_xgbc = xgbc.predict(X_test_feat)"
   ]
  },
  {
   "cell_type": "code",
   "execution_count": 114,
   "id": "22ad5b8e-6f49-4e5d-97e6-b89352680a09",
   "metadata": {
    "execution": {
     "iopub.execute_input": "2022-10-22T03:33:44.225174Z",
     "iopub.status.busy": "2022-10-22T03:33:44.224887Z",
     "iopub.status.idle": "2022-10-22T03:33:45.364247Z",
     "shell.execute_reply": "2022-10-22T03:33:45.363704Z",
     "shell.execute_reply.started": "2022-10-22T03:33:44.225148Z"
    },
    "tags": []
   },
   "outputs": [
    {
     "name": "stdout",
     "output_type": "stream",
     "text": [
      "XGBClassifier default parameters performance:\n",
      "Accuracy score: 1.000\n",
      "F1 score: 0.518\n",
      "F2 score: 0.408\n"
     ]
    }
   ],
   "source": [
    "# References\n",
    "# https://scikit-learn.org/stable/modules/generated/sklearn.metrics.accuracy_score.html\n",
    "# https://scikit-learn.org/stable/modules/generated/sklearn.metrics.f1_score.html\n",
    "# https://scikit-learn.org/stable/modules/generated/sklearn.metrics.fbeta_score.html\n",
    "\n",
    "# Scores are printed for accuracy, F1-score, and F2-score.\n",
    "print(\"XGBClassifier default parameters performance:\")\n",
    "print(f\"Accuracy score: {accuracy_score(y_test_feat, y_pred_xgbc):.3f}\")\n",
    "print(f\"F1 score: {f1_score(y_test_feat, y_pred_xgbc):.3f}\")\n",
    "print(f\"F2 score: {fbeta_score(y_test_feat, y_pred_xgbc, average='binary', beta=2.0):.3f}\")"
   ]
  },
  {
   "cell_type": "markdown",
   "id": "09ce7dc1-3ee0-4b7a-8d94-75974b402c32",
   "metadata": {},
   "source": [
    "### Parameter grid  "
   ]
  },
  {
   "cell_type": "markdown",
   "id": "2a3bc2a4-231c-449e-87f5-4135992ba436",
   "metadata": {},
   "source": [
    "In an effort to improve the F1 and F2 scores, a grid is created with various parameters to search through to find the optimal parameters.  "
   ]
  },
  {
   "cell_type": "code",
   "execution_count": 115,
   "id": "c9dc04f8-9f54-4a49-9750-c4ea3bd625ed",
   "metadata": {
    "execution": {
     "iopub.execute_input": "2022-10-22T03:33:45.365307Z",
     "iopub.status.busy": "2022-10-22T03:33:45.364993Z",
     "iopub.status.idle": "2022-10-22T03:33:45.368153Z",
     "shell.execute_reply": "2022-10-22T03:33:45.367692Z",
     "shell.execute_reply.started": "2022-10-22T03:33:45.365286Z"
    },
    "tags": []
   },
   "outputs": [],
   "source": [
    "# The XGBoost classifier ('XGBClassifier') estimator ('xgbc_tune') \n",
    "# is created for tuning.\n",
    "xgbc_tune = xgb.XGBClassifier()"
   ]
  },
  {
   "cell_type": "code",
   "execution_count": 116,
   "id": "c04e6a3f-27bd-4e59-8d91-b1ef3d480977",
   "metadata": {
    "execution": {
     "iopub.execute_input": "2022-10-22T03:33:45.369050Z",
     "iopub.status.busy": "2022-10-22T03:33:45.368791Z",
     "iopub.status.idle": "2022-10-22T03:33:45.373696Z",
     "shell.execute_reply": "2022-10-22T03:33:45.373274Z",
     "shell.execute_reply.started": "2022-10-22T03:33:45.369033Z"
    },
    "tags": []
   },
   "outputs": [
    {
     "data": {
      "text/plain": [
       "{'objective': 'binary:logistic',\n",
       " 'use_label_encoder': False,\n",
       " 'base_score': None,\n",
       " 'booster': None,\n",
       " 'callbacks': None,\n",
       " 'colsample_bylevel': None,\n",
       " 'colsample_bynode': None,\n",
       " 'colsample_bytree': None,\n",
       " 'early_stopping_rounds': None,\n",
       " 'enable_categorical': False,\n",
       " 'eval_metric': None,\n",
       " 'gamma': None,\n",
       " 'gpu_id': None,\n",
       " 'grow_policy': None,\n",
       " 'importance_type': None,\n",
       " 'interaction_constraints': None,\n",
       " 'learning_rate': None,\n",
       " 'max_bin': None,\n",
       " 'max_cat_to_onehot': None,\n",
       " 'max_delta_step': None,\n",
       " 'max_depth': None,\n",
       " 'max_leaves': None,\n",
       " 'min_child_weight': None,\n",
       " 'missing': nan,\n",
       " 'monotone_constraints': None,\n",
       " 'n_estimators': 100,\n",
       " 'n_jobs': None,\n",
       " 'num_parallel_tree': None,\n",
       " 'predictor': None,\n",
       " 'random_state': None,\n",
       " 'reg_alpha': None,\n",
       " 'reg_lambda': None,\n",
       " 'sampling_method': None,\n",
       " 'scale_pos_weight': None,\n",
       " 'subsample': None,\n",
       " 'tree_method': None,\n",
       " 'validate_parameters': None,\n",
       " 'verbosity': None}"
      ]
     },
     "execution_count": 116,
     "metadata": {},
     "output_type": "execute_result"
    }
   ],
   "source": [
    "# The parameters of the XGBoost classifier ('XGBClassifier') estimator \n",
    "# ('xgbc_tune') are displayed.\n",
    "xgbc_tune.get_params()"
   ]
  },
  {
   "cell_type": "code",
   "execution_count": 117,
   "id": "799ebade-5160-49a0-a4b8-4f87197dd1ee",
   "metadata": {
    "execution": {
     "iopub.execute_input": "2022-10-22T03:33:45.374545Z",
     "iopub.status.busy": "2022-10-22T03:33:45.374285Z",
     "iopub.status.idle": "2022-10-22T03:33:45.377600Z",
     "shell.execute_reply": "2022-10-22T03:33:45.377167Z",
     "shell.execute_reply.started": "2022-10-22T03:33:45.374527Z"
    },
    "tags": []
   },
   "outputs": [],
   "source": [
    "# References\n",
    "# https://xgboost.readthedocs.io/en/stable/parameter.html\n",
    "# https://xgboost.readthedocs.io/en/stable/python/python_api.html\n",
    "# https://towardsdatascience.com/catboost-vs-lightgbm-vs-xgboost-c80f40662924\n",
    "\n",
    "xgbc_param_grid = {\n",
    "    'n_estimators': [100, 500, 1000],\n",
    "    'max_depth': [3, 6, 9],\n",
    "    'learning_rate': [0.1, 0.3, 0.5],\n",
    "    'random_state': [42],\n",
    "    'n_jobs': [14]\n",
    "}"
   ]
  },
  {
   "cell_type": "markdown",
   "id": "9c4e546f-fee1-48b0-a2ef-6ffb8aef5f91",
   "metadata": {},
   "source": [
    "### BayesSearchCV"
   ]
  },
  {
   "cell_type": "markdown",
   "id": "3754a1b2-6cc8-4fee-bbf4-101293a5695a",
   "metadata": {},
   "source": [
    "Using BayesSearchCV with RepeatedStratifiedKFold the parameters are searched and evaluated to find the best parameters.  "
   ]
  },
  {
   "cell_type": "code",
   "execution_count": 118,
   "id": "a960dc68-93d6-4a64-a24c-66ad33407a99",
   "metadata": {
    "execution": {
     "iopub.execute_input": "2022-10-22T03:33:45.378435Z",
     "iopub.status.busy": "2022-10-22T03:33:45.378177Z",
     "iopub.status.idle": "2022-10-22T03:33:45.385736Z",
     "shell.execute_reply": "2022-10-22T03:33:45.385301Z",
     "shell.execute_reply.started": "2022-10-22T03:33:45.378417Z"
    },
    "tags": []
   },
   "outputs": [],
   "source": [
    "# References\n",
    "# https://scikit-optimize.github.io/stable/modules/generated/skopt.BayesSearchCV.html\n",
    "\n",
    "# A BayesSearchCV object ('xgbc_opt') is created to search the \n",
    "# parameter grid ('xgbc_param_grid') for the best parameters with the \n",
    "# LightGBM classifier estimator ('xgbc_tune'). The scoring is set to \n",
    "# 'f1', '5' parameter samples, '1' number of jobs, and a random state \n",
    "# of '42'. (Stratified)KFold of 3 is used for cross-validation.\n",
    "xgbc_opt = (\n",
    "    BayesSearchCV(\n",
    "        xgbc_tune, xgbc_param_grid, n_iter=5, \n",
    "        scoring='f1', n_jobs=1, refit=True, \n",
    "        cv=3, random_state=42)\n",
    ")"
   ]
  },
  {
   "cell_type": "code",
   "execution_count": 119,
   "id": "7f93e4db-13cb-4429-9930-e32ad6de0514",
   "metadata": {
    "execution": {
     "iopub.execute_input": "2022-10-22T03:33:45.386481Z",
     "iopub.status.busy": "2022-10-22T03:33:45.386294Z",
     "iopub.status.idle": "2022-10-22T03:33:45.392058Z",
     "shell.execute_reply": "2022-10-22T03:33:45.391600Z",
     "shell.execute_reply.started": "2022-10-22T03:33:45.386464Z"
    },
    "tags": []
   },
   "outputs": [
    {
     "data": {
      "text/plain": [
       "{'cv': 3,\n",
       " 'error_score': 'raise',\n",
       " 'estimator__objective': 'binary:logistic',\n",
       " 'estimator__use_label_encoder': False,\n",
       " 'estimator__base_score': None,\n",
       " 'estimator__booster': None,\n",
       " 'estimator__callbacks': None,\n",
       " 'estimator__colsample_bylevel': None,\n",
       " 'estimator__colsample_bynode': None,\n",
       " 'estimator__colsample_bytree': None,\n",
       " 'estimator__early_stopping_rounds': None,\n",
       " 'estimator__enable_categorical': False,\n",
       " 'estimator__eval_metric': None,\n",
       " 'estimator__gamma': None,\n",
       " 'estimator__gpu_id': None,\n",
       " 'estimator__grow_policy': None,\n",
       " 'estimator__importance_type': None,\n",
       " 'estimator__interaction_constraints': None,\n",
       " 'estimator__learning_rate': None,\n",
       " 'estimator__max_bin': None,\n",
       " 'estimator__max_cat_to_onehot': None,\n",
       " 'estimator__max_delta_step': None,\n",
       " 'estimator__max_depth': None,\n",
       " 'estimator__max_leaves': None,\n",
       " 'estimator__min_child_weight': None,\n",
       " 'estimator__missing': nan,\n",
       " 'estimator__monotone_constraints': None,\n",
       " 'estimator__n_estimators': 100,\n",
       " 'estimator__n_jobs': None,\n",
       " 'estimator__num_parallel_tree': None,\n",
       " 'estimator__predictor': None,\n",
       " 'estimator__random_state': None,\n",
       " 'estimator__reg_alpha': None,\n",
       " 'estimator__reg_lambda': None,\n",
       " 'estimator__sampling_method': None,\n",
       " 'estimator__scale_pos_weight': None,\n",
       " 'estimator__subsample': None,\n",
       " 'estimator__tree_method': None,\n",
       " 'estimator__validate_parameters': None,\n",
       " 'estimator__verbosity': None,\n",
       " 'estimator': XGBClassifier(base_score=None, booster=None, callbacks=None,\n",
       "               colsample_bylevel=None, colsample_bynode=None,\n",
       "               colsample_bytree=None, early_stopping_rounds=None,\n",
       "               enable_categorical=False, eval_metric=None, gamma=None,\n",
       "               gpu_id=None, grow_policy=None, importance_type=None,\n",
       "               interaction_constraints=None, learning_rate=None, max_bin=None,\n",
       "               max_cat_to_onehot=None, max_delta_step=None, max_depth=None,\n",
       "               max_leaves=None, min_child_weight=None, missing=nan,\n",
       "               monotone_constraints=None, n_estimators=100, n_jobs=None,\n",
       "               num_parallel_tree=None, predictor=None, random_state=None,\n",
       "               reg_alpha=None, reg_lambda=None, ...),\n",
       " 'fit_params': None,\n",
       " 'iid': 'deprecated',\n",
       " 'n_iter': 5,\n",
       " 'n_jobs': 1,\n",
       " 'n_points': 1,\n",
       " 'optimizer_kwargs': None,\n",
       " 'pre_dispatch': '2*n_jobs',\n",
       " 'random_state': 42,\n",
       " 'refit': True,\n",
       " 'return_train_score': False,\n",
       " 'scoring': 'f1',\n",
       " 'search_spaces': {'n_estimators': [100, 500, 1000],\n",
       "  'max_depth': [3, 6, 9],\n",
       "  'learning_rate': [0.1, 0.3, 0.5],\n",
       "  'random_state': [42],\n",
       "  'n_jobs': [14]},\n",
       " 'verbose': 0}"
      ]
     },
     "execution_count": 119,
     "metadata": {},
     "output_type": "execute_result"
    }
   ],
   "source": [
    "# The parameters of the BayesSearchCV object ('xgbc_opt') are \n",
    "# displayed.\n",
    "xgbc_opt.get_params()"
   ]
  },
  {
   "cell_type": "markdown",
   "id": "60fd0dec-3cbb-4a42-bea8-f389a2740c57",
   "metadata": {},
   "source": [
    "The BayesSearchCV is implemented with the XGBoost classifier estimator and fit on the `X_train` and `y_train` data with the selected features to search for the best parameters.  "
   ]
  },
  {
   "cell_type": "code",
   "execution_count": 120,
   "id": "4c0ffcb8-c84d-454a-8d92-a8bedd153f78",
   "metadata": {
    "execution": {
     "iopub.execute_input": "2022-10-22T03:33:45.392790Z",
     "iopub.status.busy": "2022-10-22T03:33:45.392613Z",
     "iopub.status.idle": "2022-10-22T04:11:15.213093Z",
     "shell.execute_reply": "2022-10-22T04:11:15.212327Z",
     "shell.execute_reply.started": "2022-10-22T03:33:45.392773Z"
    },
    "tags": []
   },
   "outputs": [
    {
     "data": {
      "text/html": [
       "<style>#sk-container-id-9 {color: black;background-color: white;}#sk-container-id-9 pre{padding: 0;}#sk-container-id-9 div.sk-toggleable {background-color: white;}#sk-container-id-9 label.sk-toggleable__label {cursor: pointer;display: block;width: 100%;margin-bottom: 0;padding: 0.3em;box-sizing: border-box;text-align: center;}#sk-container-id-9 label.sk-toggleable__label-arrow:before {content: \"▸\";float: left;margin-right: 0.25em;color: #696969;}#sk-container-id-9 label.sk-toggleable__label-arrow:hover:before {color: black;}#sk-container-id-9 div.sk-estimator:hover label.sk-toggleable__label-arrow:before {color: black;}#sk-container-id-9 div.sk-toggleable__content {max-height: 0;max-width: 0;overflow: hidden;text-align: left;background-color: #f0f8ff;}#sk-container-id-9 div.sk-toggleable__content pre {margin: 0.2em;color: black;border-radius: 0.25em;background-color: #f0f8ff;}#sk-container-id-9 input.sk-toggleable__control:checked~div.sk-toggleable__content {max-height: 200px;max-width: 100%;overflow: auto;}#sk-container-id-9 input.sk-toggleable__control:checked~label.sk-toggleable__label-arrow:before {content: \"▾\";}#sk-container-id-9 div.sk-estimator input.sk-toggleable__control:checked~label.sk-toggleable__label {background-color: #d4ebff;}#sk-container-id-9 div.sk-label input.sk-toggleable__control:checked~label.sk-toggleable__label {background-color: #d4ebff;}#sk-container-id-9 input.sk-hidden--visually {border: 0;clip: rect(1px 1px 1px 1px);clip: rect(1px, 1px, 1px, 1px);height: 1px;margin: -1px;overflow: hidden;padding: 0;position: absolute;width: 1px;}#sk-container-id-9 div.sk-estimator {font-family: monospace;background-color: #f0f8ff;border: 1px dotted black;border-radius: 0.25em;box-sizing: border-box;margin-bottom: 0.5em;}#sk-container-id-9 div.sk-estimator:hover {background-color: #d4ebff;}#sk-container-id-9 div.sk-parallel-item::after {content: \"\";width: 100%;border-bottom: 1px solid gray;flex-grow: 1;}#sk-container-id-9 div.sk-label:hover label.sk-toggleable__label {background-color: #d4ebff;}#sk-container-id-9 div.sk-serial::before {content: \"\";position: absolute;border-left: 1px solid gray;box-sizing: border-box;top: 0;bottom: 0;left: 50%;z-index: 0;}#sk-container-id-9 div.sk-serial {display: flex;flex-direction: column;align-items: center;background-color: white;padding-right: 0.2em;padding-left: 0.2em;position: relative;}#sk-container-id-9 div.sk-item {position: relative;z-index: 1;}#sk-container-id-9 div.sk-parallel {display: flex;align-items: stretch;justify-content: center;background-color: white;position: relative;}#sk-container-id-9 div.sk-item::before, #sk-container-id-9 div.sk-parallel-item::before {content: \"\";position: absolute;border-left: 1px solid gray;box-sizing: border-box;top: 0;bottom: 0;left: 50%;z-index: -1;}#sk-container-id-9 div.sk-parallel-item {display: flex;flex-direction: column;z-index: 1;position: relative;background-color: white;}#sk-container-id-9 div.sk-parallel-item:first-child::after {align-self: flex-end;width: 50%;}#sk-container-id-9 div.sk-parallel-item:last-child::after {align-self: flex-start;width: 50%;}#sk-container-id-9 div.sk-parallel-item:only-child::after {width: 0;}#sk-container-id-9 div.sk-dashed-wrapped {border: 1px dashed gray;margin: 0 0.4em 0.5em 0.4em;box-sizing: border-box;padding-bottom: 0.4em;background-color: white;}#sk-container-id-9 div.sk-label label {font-family: monospace;font-weight: bold;display: inline-block;line-height: 1.2em;}#sk-container-id-9 div.sk-label-container {text-align: center;}#sk-container-id-9 div.sk-container {/* jupyter's `normalize.less` sets `[hidden] { display: none; }` but bootstrap.min.css set `[hidden] { display: none !important; }` so we also need the `!important` here to be able to override the default hidden behavior on the sphinx rendered scikit-learn.org. See: https://github.com/scikit-learn/scikit-learn/issues/21755 */display: inline-block !important;position: relative;}#sk-container-id-9 div.sk-text-repr-fallback {display: none;}</style><div id=\"sk-container-id-9\" class=\"sk-top-container\"><div class=\"sk-text-repr-fallback\"><pre>BayesSearchCV(cv=3,\n",
       "              estimator=XGBClassifier(base_score=None, booster=None,\n",
       "                                      callbacks=None, colsample_bylevel=None,\n",
       "                                      colsample_bynode=None,\n",
       "                                      colsample_bytree=None,\n",
       "                                      early_stopping_rounds=None,\n",
       "                                      enable_categorical=False,\n",
       "                                      eval_metric=None, gamma=None, gpu_id=None,\n",
       "                                      grow_policy=None, importance_type=None,\n",
       "                                      interaction_constraints=None,\n",
       "                                      learning_rate=None, max_bin=None,\n",
       "                                      max_c...\n",
       "                                      max_leaves=None, min_child_weight=None,\n",
       "                                      missing=nan, monotone_constraints=None,\n",
       "                                      n_estimators=100, n_jobs=None,\n",
       "                                      num_parallel_tree=None, predictor=None,\n",
       "                                      random_state=None, reg_alpha=None,\n",
       "                                      reg_lambda=None, ...),\n",
       "              n_iter=5, random_state=42, scoring=&#x27;f1&#x27;,\n",
       "              search_spaces={&#x27;learning_rate&#x27;: [0.1, 0.3, 0.5],\n",
       "                             &#x27;max_depth&#x27;: [3, 6, 9],\n",
       "                             &#x27;n_estimators&#x27;: [100, 500, 1000], &#x27;n_jobs&#x27;: [14],\n",
       "                             &#x27;random_state&#x27;: [42]})</pre><b>In a Jupyter environment, please rerun this cell to show the HTML representation or trust the notebook. <br />On GitHub, the HTML representation is unable to render, please try loading this page with nbviewer.org.</b></div><div class=\"sk-container\" hidden><div class=\"sk-item sk-dashed-wrapped\"><div class=\"sk-label-container\"><div class=\"sk-label sk-toggleable\"><input class=\"sk-toggleable__control sk-hidden--visually\" id=\"sk-estimator-id-15\" type=\"checkbox\" ><label for=\"sk-estimator-id-15\" class=\"sk-toggleable__label sk-toggleable__label-arrow\">BayesSearchCV</label><div class=\"sk-toggleable__content\"><pre>BayesSearchCV(cv=3,\n",
       "              estimator=XGBClassifier(base_score=None, booster=None,\n",
       "                                      callbacks=None, colsample_bylevel=None,\n",
       "                                      colsample_bynode=None,\n",
       "                                      colsample_bytree=None,\n",
       "                                      early_stopping_rounds=None,\n",
       "                                      enable_categorical=False,\n",
       "                                      eval_metric=None, gamma=None, gpu_id=None,\n",
       "                                      grow_policy=None, importance_type=None,\n",
       "                                      interaction_constraints=None,\n",
       "                                      learning_rate=None, max_bin=None,\n",
       "                                      max_c...\n",
       "                                      max_leaves=None, min_child_weight=None,\n",
       "                                      missing=nan, monotone_constraints=None,\n",
       "                                      n_estimators=100, n_jobs=None,\n",
       "                                      num_parallel_tree=None, predictor=None,\n",
       "                                      random_state=None, reg_alpha=None,\n",
       "                                      reg_lambda=None, ...),\n",
       "              n_iter=5, random_state=42, scoring=&#x27;f1&#x27;,\n",
       "              search_spaces={&#x27;learning_rate&#x27;: [0.1, 0.3, 0.5],\n",
       "                             &#x27;max_depth&#x27;: [3, 6, 9],\n",
       "                             &#x27;n_estimators&#x27;: [100, 500, 1000], &#x27;n_jobs&#x27;: [14],\n",
       "                             &#x27;random_state&#x27;: [42]})</pre></div></div></div><div class=\"sk-parallel\"><div class=\"sk-parallel-item\"><div class=\"sk-item\"><div class=\"sk-label-container\"><div class=\"sk-label sk-toggleable\"><input class=\"sk-toggleable__control sk-hidden--visually\" id=\"sk-estimator-id-16\" type=\"checkbox\" ><label for=\"sk-estimator-id-16\" class=\"sk-toggleable__label sk-toggleable__label-arrow\">estimator: XGBClassifier</label><div class=\"sk-toggleable__content\"><pre>XGBClassifier(base_score=None, booster=None, callbacks=None,\n",
       "              colsample_bylevel=None, colsample_bynode=None,\n",
       "              colsample_bytree=None, early_stopping_rounds=None,\n",
       "              enable_categorical=False, eval_metric=None, gamma=None,\n",
       "              gpu_id=None, grow_policy=None, importance_type=None,\n",
       "              interaction_constraints=None, learning_rate=None, max_bin=None,\n",
       "              max_cat_to_onehot=None, max_delta_step=None, max_depth=None,\n",
       "              max_leaves=None, min_child_weight=None, missing=nan,\n",
       "              monotone_constraints=None, n_estimators=100, n_jobs=None,\n",
       "              num_parallel_tree=None, predictor=None, random_state=None,\n",
       "              reg_alpha=None, reg_lambda=None, ...)</pre></div></div></div><div class=\"sk-serial\"><div class=\"sk-item\"><div class=\"sk-estimator sk-toggleable\"><input class=\"sk-toggleable__control sk-hidden--visually\" id=\"sk-estimator-id-17\" type=\"checkbox\" ><label for=\"sk-estimator-id-17\" class=\"sk-toggleable__label sk-toggleable__label-arrow\">XGBClassifier</label><div class=\"sk-toggleable__content\"><pre>XGBClassifier(base_score=None, booster=None, callbacks=None,\n",
       "              colsample_bylevel=None, colsample_bynode=None,\n",
       "              colsample_bytree=None, early_stopping_rounds=None,\n",
       "              enable_categorical=False, eval_metric=None, gamma=None,\n",
       "              gpu_id=None, grow_policy=None, importance_type=None,\n",
       "              interaction_constraints=None, learning_rate=None, max_bin=None,\n",
       "              max_cat_to_onehot=None, max_delta_step=None, max_depth=None,\n",
       "              max_leaves=None, min_child_weight=None, missing=nan,\n",
       "              monotone_constraints=None, n_estimators=100, n_jobs=None,\n",
       "              num_parallel_tree=None, predictor=None, random_state=None,\n",
       "              reg_alpha=None, reg_lambda=None, ...)</pre></div></div></div></div></div></div></div></div></div></div>"
      ],
      "text/plain": [
       "BayesSearchCV(cv=3,\n",
       "              estimator=XGBClassifier(base_score=None, booster=None,\n",
       "                                      callbacks=None, colsample_bylevel=None,\n",
       "                                      colsample_bynode=None,\n",
       "                                      colsample_bytree=None,\n",
       "                                      early_stopping_rounds=None,\n",
       "                                      enable_categorical=False,\n",
       "                                      eval_metric=None, gamma=None, gpu_id=None,\n",
       "                                      grow_policy=None, importance_type=None,\n",
       "                                      interaction_constraints=None,\n",
       "                                      learning_rate=None, max_bin=None,\n",
       "                                      max_c...\n",
       "                                      max_leaves=None, min_child_weight=None,\n",
       "                                      missing=nan, monotone_constraints=None,\n",
       "                                      n_estimators=100, n_jobs=None,\n",
       "                                      num_parallel_tree=None, predictor=None,\n",
       "                                      random_state=None, reg_alpha=None,\n",
       "                                      reg_lambda=None, ...),\n",
       "              n_iter=5, random_state=42, scoring='f1',\n",
       "              search_spaces={'learning_rate': [0.1, 0.3, 0.5],\n",
       "                             'max_depth': [3, 6, 9],\n",
       "                             'n_estimators': [100, 500, 1000], 'n_jobs': [14],\n",
       "                             'random_state': [42]})"
      ]
     },
     "execution_count": 120,
     "metadata": {},
     "output_type": "execute_result"
    }
   ],
   "source": [
    "# The BayesSearchCV object ('xgbc_opt') is fitted on the 'X_train' and \n",
    "# 'y_train' resampled data with the selected features.\n",
    "xgbc_opt.fit(\n",
    "    X_train_res_feat, \n",
    "    y_train_res_feat\n",
    ")"
   ]
  },
  {
   "cell_type": "code",
   "execution_count": 121,
   "id": "1af15a21-6f46-4506-9e76-a5515b62098c",
   "metadata": {
    "execution": {
     "iopub.execute_input": "2022-10-22T04:11:15.214435Z",
     "iopub.status.busy": "2022-10-22T04:11:15.214157Z",
     "iopub.status.idle": "2022-10-22T04:11:15.220792Z",
     "shell.execute_reply": "2022-10-22T04:11:15.220135Z",
     "shell.execute_reply.started": "2022-10-22T04:11:15.214411Z"
    },
    "tags": []
   },
   "outputs": [
    {
     "name": "stdout",
     "output_type": "stream",
     "text": [
      "XGBClassifier BayesSearchCV results: \n",
      "Best estimator:  XGBClassifier(base_score=0.5, booster='gbtree', callbacks=None,\n",
      "              colsample_bylevel=1, colsample_bynode=1, colsample_bytree=1,\n",
      "              early_stopping_rounds=None, enable_categorical=False,\n",
      "              eval_metric=None, gamma=0, gpu_id=-1, grow_policy='depthwise',\n",
      "              importance_type=None, interaction_constraints='',\n",
      "              learning_rate=0.5, max_bin=256, max_cat_to_onehot=4,\n",
      "              max_delta_step=0, max_depth=9, max_leaves=0, min_child_weight=1,\n",
      "              missing=nan, monotone_constraints='()', n_estimators=500,\n",
      "              n_jobs=14, num_parallel_tree=1, predictor='auto', random_state=42,\n",
      "              reg_alpha=0, reg_lambda=1, ...)\n",
      "Best score:  0.9997921246932945\n",
      "Best parameters:  OrderedDict([('learning_rate', 0.5), ('max_depth', 9), ('n_estimators', 500), ('n_jobs', 14), ('random_state', 42)])\n"
     ]
    }
   ],
   "source": [
    "# Best estimator, best score, and best parameters are printed.\n",
    "print(\"XGBClassifier BayesSearchCV results: \" )\n",
    "print(\"Best estimator: \", xgbc_opt.best_estimator_)\n",
    "print(\"Best score: \", xgbc_opt.best_score_)\n",
    "print(\"Best parameters: \", xgbc_opt.best_params_)"
   ]
  },
  {
   "cell_type": "markdown",
   "id": "6fd39688-2a78-48d5-b77d-29493581d6ab",
   "metadata": {},
   "source": [
    "### Best estimator"
   ]
  },
  {
   "cell_type": "markdown",
   "id": "02ecaadc-75e1-4e1b-9671-ba5757ef132b",
   "metadata": {},
   "source": [
    "The best parameters from the BayesSearchCV parameter search are used to create a XGBoost classifier estimator.  "
   ]
  },
  {
   "cell_type": "code",
   "execution_count": 122,
   "id": "d75fc717-9e24-4579-8788-8766f00c524e",
   "metadata": {
    "execution": {
     "iopub.execute_input": "2022-10-22T04:11:15.222014Z",
     "iopub.status.busy": "2022-10-22T04:11:15.221770Z",
     "iopub.status.idle": "2022-10-22T04:11:15.225512Z",
     "shell.execute_reply": "2022-10-22T04:11:15.224922Z",
     "shell.execute_reply.started": "2022-10-22T04:11:15.221992Z"
    },
    "tags": []
   },
   "outputs": [],
   "source": [
    "# The XGBoost classifier ('XGBClassifier') estimator ('xgbc_best') \n",
    "# is created using the best parameters. \n",
    "# The 'scale_pos_weight' parameter is added due to the extreme class\n",
    "# imbalance.  \n",
    "xgbc_best = xgb.XGBClassifier(\n",
    "    learning_rate=0.5,\n",
    "    max_depth=9,\n",
    "    n_estimators=500,\n",
    "    scale_pos_weight=scale_pos_weight,\n",
    "    n_jobs=14,\n",
    "    random_state=42)"
   ]
  },
  {
   "cell_type": "code",
   "execution_count": 123,
   "id": "29a86a08-5cd9-4005-81cc-00b8e0f91168",
   "metadata": {
    "execution": {
     "iopub.execute_input": "2022-10-22T04:11:15.226447Z",
     "iopub.status.busy": "2022-10-22T04:11:15.226215Z",
     "iopub.status.idle": "2022-10-22T04:11:15.232049Z",
     "shell.execute_reply": "2022-10-22T04:11:15.231422Z",
     "shell.execute_reply.started": "2022-10-22T04:11:15.226426Z"
    },
    "tags": []
   },
   "outputs": [
    {
     "data": {
      "text/plain": [
       "{'objective': 'binary:logistic',\n",
       " 'use_label_encoder': False,\n",
       " 'base_score': None,\n",
       " 'booster': None,\n",
       " 'callbacks': None,\n",
       " 'colsample_bylevel': None,\n",
       " 'colsample_bynode': None,\n",
       " 'colsample_bytree': None,\n",
       " 'early_stopping_rounds': None,\n",
       " 'enable_categorical': False,\n",
       " 'eval_metric': None,\n",
       " 'gamma': None,\n",
       " 'gpu_id': None,\n",
       " 'grow_policy': None,\n",
       " 'importance_type': None,\n",
       " 'interaction_constraints': None,\n",
       " 'learning_rate': 0.5,\n",
       " 'max_bin': None,\n",
       " 'max_cat_to_onehot': None,\n",
       " 'max_delta_step': None,\n",
       " 'max_depth': 9,\n",
       " 'max_leaves': None,\n",
       " 'min_child_weight': None,\n",
       " 'missing': nan,\n",
       " 'monotone_constraints': None,\n",
       " 'n_estimators': 500,\n",
       " 'n_jobs': 14,\n",
       " 'num_parallel_tree': None,\n",
       " 'predictor': None,\n",
       " 'random_state': 42,\n",
       " 'reg_alpha': None,\n",
       " 'reg_lambda': None,\n",
       " 'sampling_method': None,\n",
       " 'scale_pos_weight': 57.0,\n",
       " 'subsample': None,\n",
       " 'tree_method': None,\n",
       " 'validate_parameters': None,\n",
       " 'verbosity': None}"
      ]
     },
     "execution_count": 123,
     "metadata": {},
     "output_type": "execute_result"
    }
   ],
   "source": [
    "# The parameters of the XGBoost classifier ('XGBClassifier') \n",
    "# estimator ('xgbc_best') are displayed.\n",
    "xgbc_best.get_params()"
   ]
  },
  {
   "cell_type": "markdown",
   "id": "41515041-9758-4c96-b792-d44f59ef6dba",
   "metadata": {},
   "source": [
    "### Fit and predict with best estimator  "
   ]
  },
  {
   "cell_type": "markdown",
   "id": "74c32620-dba8-46da-b73b-cd91d9783f4d",
   "metadata": {},
   "source": [
    "The XGBoost classifier estimator with the best parameters from the BayesSearchCV parameter search are fit on the `X_train` and `y_train` data with the selected features.  "
   ]
  },
  {
   "cell_type": "code",
   "execution_count": 124,
   "id": "89081506-1f0c-4d01-8cd9-47a60ee22bef",
   "metadata": {
    "execution": {
     "iopub.execute_input": "2022-10-22T04:11:15.233390Z",
     "iopub.status.busy": "2022-10-22T04:11:15.232829Z",
     "iopub.status.idle": "2022-10-22T04:23:24.772197Z",
     "shell.execute_reply": "2022-10-22T04:23:24.771504Z",
     "shell.execute_reply.started": "2022-10-22T04:11:15.233361Z"
    },
    "tags": []
   },
   "outputs": [
    {
     "data": {
      "text/html": [
       "<style>#sk-container-id-10 {color: black;background-color: white;}#sk-container-id-10 pre{padding: 0;}#sk-container-id-10 div.sk-toggleable {background-color: white;}#sk-container-id-10 label.sk-toggleable__label {cursor: pointer;display: block;width: 100%;margin-bottom: 0;padding: 0.3em;box-sizing: border-box;text-align: center;}#sk-container-id-10 label.sk-toggleable__label-arrow:before {content: \"▸\";float: left;margin-right: 0.25em;color: #696969;}#sk-container-id-10 label.sk-toggleable__label-arrow:hover:before {color: black;}#sk-container-id-10 div.sk-estimator:hover label.sk-toggleable__label-arrow:before {color: black;}#sk-container-id-10 div.sk-toggleable__content {max-height: 0;max-width: 0;overflow: hidden;text-align: left;background-color: #f0f8ff;}#sk-container-id-10 div.sk-toggleable__content pre {margin: 0.2em;color: black;border-radius: 0.25em;background-color: #f0f8ff;}#sk-container-id-10 input.sk-toggleable__control:checked~div.sk-toggleable__content {max-height: 200px;max-width: 100%;overflow: auto;}#sk-container-id-10 input.sk-toggleable__control:checked~label.sk-toggleable__label-arrow:before {content: \"▾\";}#sk-container-id-10 div.sk-estimator input.sk-toggleable__control:checked~label.sk-toggleable__label {background-color: #d4ebff;}#sk-container-id-10 div.sk-label input.sk-toggleable__control:checked~label.sk-toggleable__label {background-color: #d4ebff;}#sk-container-id-10 input.sk-hidden--visually {border: 0;clip: rect(1px 1px 1px 1px);clip: rect(1px, 1px, 1px, 1px);height: 1px;margin: -1px;overflow: hidden;padding: 0;position: absolute;width: 1px;}#sk-container-id-10 div.sk-estimator {font-family: monospace;background-color: #f0f8ff;border: 1px dotted black;border-radius: 0.25em;box-sizing: border-box;margin-bottom: 0.5em;}#sk-container-id-10 div.sk-estimator:hover {background-color: #d4ebff;}#sk-container-id-10 div.sk-parallel-item::after {content: \"\";width: 100%;border-bottom: 1px solid gray;flex-grow: 1;}#sk-container-id-10 div.sk-label:hover label.sk-toggleable__label {background-color: #d4ebff;}#sk-container-id-10 div.sk-serial::before {content: \"\";position: absolute;border-left: 1px solid gray;box-sizing: border-box;top: 0;bottom: 0;left: 50%;z-index: 0;}#sk-container-id-10 div.sk-serial {display: flex;flex-direction: column;align-items: center;background-color: white;padding-right: 0.2em;padding-left: 0.2em;position: relative;}#sk-container-id-10 div.sk-item {position: relative;z-index: 1;}#sk-container-id-10 div.sk-parallel {display: flex;align-items: stretch;justify-content: center;background-color: white;position: relative;}#sk-container-id-10 div.sk-item::before, #sk-container-id-10 div.sk-parallel-item::before {content: \"\";position: absolute;border-left: 1px solid gray;box-sizing: border-box;top: 0;bottom: 0;left: 50%;z-index: -1;}#sk-container-id-10 div.sk-parallel-item {display: flex;flex-direction: column;z-index: 1;position: relative;background-color: white;}#sk-container-id-10 div.sk-parallel-item:first-child::after {align-self: flex-end;width: 50%;}#sk-container-id-10 div.sk-parallel-item:last-child::after {align-self: flex-start;width: 50%;}#sk-container-id-10 div.sk-parallel-item:only-child::after {width: 0;}#sk-container-id-10 div.sk-dashed-wrapped {border: 1px dashed gray;margin: 0 0.4em 0.5em 0.4em;box-sizing: border-box;padding-bottom: 0.4em;background-color: white;}#sk-container-id-10 div.sk-label label {font-family: monospace;font-weight: bold;display: inline-block;line-height: 1.2em;}#sk-container-id-10 div.sk-label-container {text-align: center;}#sk-container-id-10 div.sk-container {/* jupyter's `normalize.less` sets `[hidden] { display: none; }` but bootstrap.min.css set `[hidden] { display: none !important; }` so we also need the `!important` here to be able to override the default hidden behavior on the sphinx rendered scikit-learn.org. See: https://github.com/scikit-learn/scikit-learn/issues/21755 */display: inline-block !important;position: relative;}#sk-container-id-10 div.sk-text-repr-fallback {display: none;}</style><div id=\"sk-container-id-10\" class=\"sk-top-container\"><div class=\"sk-text-repr-fallback\"><pre>XGBClassifier(base_score=0.5, booster=&#x27;gbtree&#x27;, callbacks=None,\n",
       "              colsample_bylevel=1, colsample_bynode=1, colsample_bytree=1,\n",
       "              early_stopping_rounds=None, enable_categorical=False,\n",
       "              eval_metric=None, gamma=0, gpu_id=-1, grow_policy=&#x27;depthwise&#x27;,\n",
       "              importance_type=None, interaction_constraints=&#x27;&#x27;,\n",
       "              learning_rate=0.5, max_bin=256, max_cat_to_onehot=4,\n",
       "              max_delta_step=0, max_depth=9, max_leaves=0, min_child_weight=1,\n",
       "              missing=nan, monotone_constraints=&#x27;()&#x27;, n_estimators=500,\n",
       "              n_jobs=14, num_parallel_tree=1, predictor=&#x27;auto&#x27;, random_state=42,\n",
       "              reg_alpha=0, reg_lambda=1, ...)</pre><b>In a Jupyter environment, please rerun this cell to show the HTML representation or trust the notebook. <br />On GitHub, the HTML representation is unable to render, please try loading this page with nbviewer.org.</b></div><div class=\"sk-container\" hidden><div class=\"sk-item\"><div class=\"sk-estimator sk-toggleable\"><input class=\"sk-toggleable__control sk-hidden--visually\" id=\"sk-estimator-id-18\" type=\"checkbox\" checked><label for=\"sk-estimator-id-18\" class=\"sk-toggleable__label sk-toggleable__label-arrow\">XGBClassifier</label><div class=\"sk-toggleable__content\"><pre>XGBClassifier(base_score=0.5, booster=&#x27;gbtree&#x27;, callbacks=None,\n",
       "              colsample_bylevel=1, colsample_bynode=1, colsample_bytree=1,\n",
       "              early_stopping_rounds=None, enable_categorical=False,\n",
       "              eval_metric=None, gamma=0, gpu_id=-1, grow_policy=&#x27;depthwise&#x27;,\n",
       "              importance_type=None, interaction_constraints=&#x27;&#x27;,\n",
       "              learning_rate=0.5, max_bin=256, max_cat_to_onehot=4,\n",
       "              max_delta_step=0, max_depth=9, max_leaves=0, min_child_weight=1,\n",
       "              missing=nan, monotone_constraints=&#x27;()&#x27;, n_estimators=500,\n",
       "              n_jobs=14, num_parallel_tree=1, predictor=&#x27;auto&#x27;, random_state=42,\n",
       "              reg_alpha=0, reg_lambda=1, ...)</pre></div></div></div></div></div>"
      ],
      "text/plain": [
       "XGBClassifier(base_score=0.5, booster='gbtree', callbacks=None,\n",
       "              colsample_bylevel=1, colsample_bynode=1, colsample_bytree=1,\n",
       "              early_stopping_rounds=None, enable_categorical=False,\n",
       "              eval_metric=None, gamma=0, gpu_id=-1, grow_policy='depthwise',\n",
       "              importance_type=None, interaction_constraints='',\n",
       "              learning_rate=0.5, max_bin=256, max_cat_to_onehot=4,\n",
       "              max_delta_step=0, max_depth=9, max_leaves=0, min_child_weight=1,\n",
       "              missing=nan, monotone_constraints='()', n_estimators=500,\n",
       "              n_jobs=14, num_parallel_tree=1, predictor='auto', random_state=42,\n",
       "              reg_alpha=0, reg_lambda=1, ...)"
      ]
     },
     "execution_count": 124,
     "metadata": {},
     "output_type": "execute_result"
    }
   ],
   "source": [
    "# The best parameters are utilized with XGBoost classifier \n",
    "# ('XGBClassifier') estimator ('xgbc_best') and fitted on the \n",
    "# 'X_train' and 'y_train' data with the selected features.\n",
    "xgbc_best.fit(\n",
    "    X_train_feat, \n",
    "    y_train_feat\n",
    ")"
   ]
  },
  {
   "cell_type": "markdown",
   "id": "4d9ffd80-fc46-4ef6-9986-a8ec3f38d80e",
   "metadata": {},
   "source": [
    "The XGBoost classifier model predicts on the `X_test` data with the select features.  "
   ]
  },
  {
   "cell_type": "code",
   "execution_count": 125,
   "id": "acd197eb-369a-47ea-9a48-ff52768151d8",
   "metadata": {
    "execution": {
     "iopub.execute_input": "2022-10-22T04:23:24.773540Z",
     "iopub.status.busy": "2022-10-22T04:23:24.773263Z",
     "iopub.status.idle": "2022-10-22T04:23:28.295072Z",
     "shell.execute_reply": "2022-10-22T04:23:28.294342Z",
     "shell.execute_reply.started": "2022-10-22T04:23:24.773516Z"
    },
    "tags": []
   },
   "outputs": [],
   "source": [
    "# Predict is called on the 'X_test' data with the selected features.\n",
    "y_pred_xgbc_best = xgbc_best.predict(X_test_feat)"
   ]
  },
  {
   "cell_type": "code",
   "execution_count": 126,
   "id": "d9f55ee7-2d12-4940-8d84-d8887137a793",
   "metadata": {
    "execution": {
     "iopub.execute_input": "2022-10-22T04:23:28.296527Z",
     "iopub.status.busy": "2022-10-22T04:23:28.296244Z",
     "iopub.status.idle": "2022-10-22T04:23:29.448669Z",
     "shell.execute_reply": "2022-10-22T04:23:29.448126Z",
     "shell.execute_reply.started": "2022-10-22T04:23:28.296502Z"
    },
    "tags": []
   },
   "outputs": [
    {
     "name": "stdout",
     "output_type": "stream",
     "text": [
      "XGBClassifier best parameters performance: \n",
      "Accuracy score: 1.000\n",
      "F1 score: 0.810\n",
      "F2 score: 0.806\n"
     ]
    }
   ],
   "source": [
    "# References\n",
    "# https://scikit-learn.org/stable/modules/generated/sklearn.metrics.accuracy_score.html\n",
    "# https://scikit-learn.org/stable/modules/generated/sklearn.metrics.f1_score.html\n",
    "# https://scikit-learn.org/stable/modules/generated/sklearn.metrics.fbeta_score.html\n",
    "\n",
    "# Scores are printed for accuracy, F1-score, and F2-score.\n",
    "print(\"XGBClassifier best parameters performance: \")\n",
    "print(f\"Accuracy score: {accuracy_score(y_test_feat, y_pred_xgbc_best):.3f}\")\n",
    "print(f\"F1 score: {f1_score(y_test_feat, y_pred_xgbc_best):.3f}\")\n",
    "print(f\"F2 score: {fbeta_score(y_test_feat, y_pred_xgbc_best, average='binary', beta=2.0):.3f}\")"
   ]
  },
  {
   "cell_type": "code",
   "execution_count": 127,
   "id": "4ba1c2b8-3a40-4fef-9615-3743dee784e2",
   "metadata": {
    "execution": {
     "iopub.execute_input": "2022-10-22T04:23:29.449695Z",
     "iopub.status.busy": "2022-10-22T04:23:29.449406Z",
     "iopub.status.idle": "2022-10-22T04:23:29.672625Z",
     "shell.execute_reply": "2022-10-22T04:23:29.672080Z",
     "shell.execute_reply.started": "2022-10-22T04:23:29.449674Z"
    },
    "tags": []
   },
   "outputs": [
    {
     "name": "stdout",
     "output_type": "stream",
     "text": [
      "XGBClassifier confusion matrix: \n",
      "[[1839556     102]\n",
      " [    111     455]]\n"
     ]
    }
   ],
   "source": [
    "# References\n",
    "# https://scikit-learn.org/stable/modules/generated/sklearn.metrics.confusion_matrix.html\n",
    "\n",
    "# A confusion matrix is created from the 'y_test' label data and the \n",
    "# 'y_pred' predicted labels.\n",
    "print(\"XGBClassifier confusion matrix: \")\n",
    "print(confusion_matrix(y_test_feat, y_pred_xgbc_best))"
   ]
  },
  {
   "cell_type": "code",
   "execution_count": 128,
   "id": "9a91438b-0407-4fa0-8c3d-a6781e4a4459",
   "metadata": {
    "execution": {
     "iopub.execute_input": "2022-10-22T04:23:29.673629Z",
     "iopub.status.busy": "2022-10-22T04:23:29.673352Z",
     "iopub.status.idle": "2022-10-22T04:23:29.939415Z",
     "shell.execute_reply": "2022-10-22T04:23:29.938912Z",
     "shell.execute_reply.started": "2022-10-22T04:23:29.673609Z"
    },
    "tags": []
   },
   "outputs": [
    {
     "data": {
      "image/png": "[encoded data removed]",
      "text/plain": [
       "<Figure size 432x288 with 2 Axes>"
      ]
     },
     "metadata": {
      "needs_background": "light"
     },
     "output_type": "display_data"
    }
   ],
   "source": [
    "# References\n",
    "# https://scikit-learn.org/stable/modules/generated/sklearn.metrics.ConfusionMatrixDisplay.html\n",
    "\n",
    "# A graphical confusion matrix is displayed from the 'y_test' label \n",
    "# data and the 'y_pred' predicted labels using the new selected \n",
    "# features.\n",
    "cm = confusion_matrix(y_test_feat, \n",
    "                      y_pred_xgbc_best, \n",
    "                      labels=xgbc_best.classes_)\n",
    "disp_cm = ConfusionMatrixDisplay(confusion_matrix=cm, \n",
    "                              display_labels=xgbc_best.classes_)\n",
    "disp_cm.plot()\n",
    "plt.show()"
   ]
  },
  {
   "cell_type": "markdown",
   "id": "e906d850-f967-4d32-a2c7-aac0f894772a",
   "metadata": {},
   "source": [
    "The results indicate that the XGBoost model predicted 1,839,556 true negative (accurately classified as `functional`), 111 false negative (inaccurately classified as `functional`), 455 true positive (accurately classified as `non-functional`), and 102 false positive (inaccurately classified as `non-functional`).  "
   ]
  },
  {
   "cell_type": "code",
   "execution_count": 129,
   "id": "48c388f4-48b8-4989-82e2-0e8c9d89b989",
   "metadata": {
    "execution": {
     "iopub.execute_input": "2022-10-22T04:23:29.940589Z",
     "iopub.status.busy": "2022-10-22T04:23:29.940132Z",
     "iopub.status.idle": "2022-10-22T04:23:29.944340Z",
     "shell.execute_reply": "2022-10-22T04:23:29.943874Z",
     "shell.execute_reply.started": "2022-10-22T04:23:29.940568Z"
    },
    "tags": []
   },
   "outputs": [
    {
     "name": "stdout",
     "output_type": "stream",
     "text": [
      "True negative:  1839556\n",
      "False negative:  111\n",
      "True positive:  455\n",
      "False positive:  102\n"
     ]
    }
   ],
   "source": [
    "# References\n",
    "# https://stackoverflow.com/questions/31324218/scikit-learn-how-to-obtain-true-positive-true-negative-false-positive-and-fal\n",
    "\n",
    "# To provide an explicit count for true negative ('tn'), false negative\n",
    "# ('fn'), true positive ('tp'), and false positive ('fp') values, the \n",
    "# confusion matrix ('cm') is sliced and the values are printed.\n",
    "tn = cm[0][0]\n",
    "print(\"True negative: \", tn)\n",
    "fn = cm[1][0]\n",
    "print(\"False negative: \", fn)\n",
    "tp = cm[1][1]\n",
    "print(\"True positive: \", tp)\n",
    "fp = cm[0][1]\n",
    "print(\"False positive: \", fp)"
   ]
  },
  {
   "cell_type": "markdown",
   "id": "717fbe38-52ca-48cb-837e-63bc97acdfa3",
   "metadata": {},
   "source": [
    "The classification report indicates very comparable precision and recall metrics for the `non-functional` class.    "
   ]
  },
  {
   "cell_type": "code",
   "execution_count": 130,
   "id": "f7b5e235-8976-485b-abbb-91396659456f",
   "metadata": {
    "execution": {
     "iopub.execute_input": "2022-10-22T04:23:29.945280Z",
     "iopub.status.busy": "2022-10-22T04:23:29.944944Z",
     "iopub.status.idle": "2022-10-22T04:23:32.083863Z",
     "shell.execute_reply": "2022-10-22T04:23:32.083292Z",
     "shell.execute_reply.started": "2022-10-22T04:23:29.945261Z"
    },
    "tags": []
   },
   "outputs": [
    {
     "name": "stdout",
     "output_type": "stream",
     "text": [
      "XGBClassifier classification report: \n",
      "                precision    recall  f1-score   support\n",
      "\n",
      "    functional       1.00      1.00      1.00   1839658\n",
      "non-functional       0.82      0.80      0.81       566\n",
      "\n",
      "      accuracy                           1.00   1840224\n",
      "     macro avg       0.91      0.90      0.91   1840224\n",
      "  weighted avg       1.00      1.00      1.00   1840224\n",
      "\n"
     ]
    }
   ],
   "source": [
    "target_names = ['functional', 'non-functional']\n",
    "print(\"XGBClassifier classification report: \")\n",
    "print(classification_report(y_test_feat, y_pred_xgbc_best, \n",
    "                            target_names=target_names))"
   ]
  },
  {
   "cell_type": "markdown",
   "id": "e376108f-5e22-4823-80f3-3cfec52d610b",
   "metadata": {},
   "source": [
    "The XGBoost classifier with defualt parameters did not perform better than the random forest classifier. The XGBoost classifier with tuned parameters performed better than the random forest classifier and the CatBoost classifer (for F1-score). The XGBoost classifer signficantly performed better than the LightGBM classifier. The best parameters identified by BayesSearchCV performed substantially better than the default parameters.  \n",
    "\n",
    "XGBClassifier default parameters performance:  \n",
    "Accuracy score: 1.000  \n",
    "F1 score: 0.518  \n",
    "F2 score: 0.408  \n",
    "\n",
    "XGBClassifier best parameters performance:  \n",
    "Accuracy score: 1.000  \n",
    "F1 score: 0.810  \n",
    "F2 score: 0.806  "
   ]
  },
  {
   "cell_type": "markdown",
   "id": "ab92873b-9285-4590-847d-9f8bc76053e0",
   "metadata": {},
   "source": [
    "## Summary  "
   ]
  },
  {
   "cell_type": "markdown",
   "id": "f52cb889-00b4-4c47-8cbc-ea966358f72d",
   "metadata": {},
   "source": [
    "The notebook examined three gradient boosted classifier models including LightGBM, CatBoost, and XGBoost to determine if a hard drive failure could be accurately classified. Prior to examining the models, the label encoding was applied to the categorical features. To find the best features, three feature selection techniques were utilized including SelectKBest, random forest feature importance, and SelectByShuffling. An ensemble of the top ten features were considered from each technique and eleven features were selected. To address the class imbalance and provide a subset of data for hyperparameter tuning, random sampling (over and under) was implemented. A baseline was established using a random forest classifier with default parameters. The three gradient boosted classifier models with default parameters were invoked and measured for accuracy, F1-score, F2-score. In an attempt to improve metrics, BayesSearchCV was engaged to perform hyperparameter tuning. In addition, the `scale_pos_weight` parameter was used with the gradient boosted models to offset the extreme class imbalance.  \n",
    "\n",
    "In conclusion, the random forest classifier with default parameters performed moderately as a baseline. LightGBM performed poorly. In fact, tuning the LightGBM classifier only made the model worse. The CatBoost classifier with default parameters performed almost identically to the random forest classifier. However, tuning the CatBoost classifier slightly improved the model.  The XGBoost classifier with default parameters performed worse than the random forest classifier. However, tuning the XGBoost classifier improved the model to perform better than the random forest classifier and the CatBoost classifier (with the exception of the F2-score in the CatBoost classifier with tuned parameters). Overall, XGBoost with tuned parameters had the highest F1 score and CatBoost with tuned parameters had the highest F2 score.   \n",
    "\n",
    "\n",
    "|     MODEL                                                    |     ACCURACY    |       F1     |       F2     |\n",
    "|--------------------------------------------------------------|:---------------:|:------------:|:------------:|\n",
    "|     Random forest classifier (default; selected features)    |       100%      |     0.727    |     0.635    |\n",
    "|     LightGBM classifier (default; selected features)         |       100%      |     0.240    |     0.236    |\n",
    "|     LightGBM classifier (tuned; selected features)           |       94.4%     |     0.001    |     0.003    |\n",
    "|     CatBoost classifier (default; selected features)         |       100%      |     0.731    |     0.650    |\n",
    "|     CatBoost classifier (tuned; selected features)           |       100%      |     0.760    |     0.836    |\n",
    "|     XGBoost classifier (default; selected features)          |       100%      |     0.518    |     0.408    |\n",
    "|     XGBoost classifier (tuned; selected features)            |       100%      |     0.810    |     0.806    |\n",
    "\n",
    "\n"
   ]
  },
  {
   "cell_type": "markdown",
   "id": "d944c003-0f28-4848-9a58-a4e628ee7ba4",
   "metadata": {},
   "source": [
    "## Final thoughts  "
   ]
  },
  {
   "cell_type": "markdown",
   "id": "b2cc3b7d-130b-4ffe-9100-41f047db2559",
   "metadata": {},
   "source": [
    "The large amount of data presented challenges with tuning the models. Random sampling (over and under) provided an adequate option to use a smaller subset of data for feature selection and for tuning. Random under-sampling alone did not produce enough samples to be viable. \n",
    "\n",
    "For hyperparameter tuning, GridSearchCV proved to be complex even with the sampled data. RandomSearchCV did not seem to identify optimal parameters. Perhaps, RandomSearchCV was too random in the selection of hyperparameters. Instead, BayesSearchCV provided to a nice compromise of speed and accuracy. Credit to user20160 on Cross Validated for the suggestion.  \n",
    "\n",
    "The random forest classifier with default parameters served as an acceptable baseline to measure gradient boosted models.  \n",
    "\n",
    "The LightGBM classifier performed surprisingly poorly. However, CatBoost and XGBoost classifiers with tuned features demonstrated improvements over the random forest classifier.  "
   ]
  },
  {
   "cell_type": "markdown",
   "id": "344af937-c32a-4ad4-9b5c-a254adb4896d",
   "metadata": {},
   "source": [
    "## Next steps  "
   ]
  },
  {
   "cell_type": "markdown",
   "id": "4d6db97c-f7ef-4b2d-a1a2-86b83474f669",
   "metadata": {},
   "source": [
    "Next steps could include experimentation with deteriorating windows sizes. Early on in the project, a window with a deteriorating window of 3 days was tested but did not show significant improvements. However, the project evolved, improved, and might benefit from reexamining the deteriorating window sizes.  \n",
    "\n",
    "Narrowing the data down to a specific group of hard drive models and capacities (i.e., ST12000NMxxxx) might provide better results. These hard drive models and capacities might share more common attributes and characteristics. Again, early on the project, one model was selected but the results did not suggest substantial improvements. Selecting a group of hard drive models might be valuable to revisit, since refinements were made to the project.  \n",
    "\n",
    "Another step could include investigating additional sampling techniques. Initially, SMOTE was evaluated, but a decision was made not to use synthetic data. Perhaps, SMOTE might produce better sample variations.  \n",
    "\n",
    "With the exception of the LightGBM classifier, improvements were observed with hyperparameter tuning. During hyperparameter tuning, a coarse grid (not having too many hyperparameters) was used. Expanding the grid search proved to be very time consuming, resulting in hours for the search. In addition, for consistency, similar hyperparameters were used on all the gradient boosted models. If given hours or days to run, expanding the grid to search might find better hyperparameters and improve the models. Furthermore, libraries such as Hyperopt or Optuna may identify more optimal hyperparameters.\n",
    "\n",
    "Lastly, there might be opportuning for further improvement by testing machine learning libraries suited for larger data, such as Spark MLlib or TensorFlow Keras Decision Trees (Yggdrasil) (Abuzaid et al., 2016).  "
   ]
  },
  {
   "cell_type": "markdown",
   "id": "e592c139-5099-4c7a-a825-639345c325a8",
   "metadata": {
    "execution": {
     "iopub.execute_input": "2022-09-19T01:11:07.574165Z",
     "iopub.status.busy": "2022-09-19T01:11:07.573623Z",
     "iopub.status.idle": "2022-09-19T01:11:07.576859Z",
     "shell.execute_reply": "2022-09-19T01:11:07.576371Z",
     "shell.execute_reply.started": "2022-09-19T01:11:07.574135Z"
    }
   },
   "source": [
    "## <center>References</center>  "
   ]
  },
  {
   "cell_type": "markdown",
   "id": "b4a4c9da-64e4-4fc7-bfc7-5ef272ba6245",
   "metadata": {},
   "source": [
    "Abuzaid, F., Bradley, J.,Liang, F., Feng, A., Yang, L., Zaharia, M., & Talwalkar, A. (2016). Yggdrasil: An optimized system for training deep decision trees at scale. <i>29th Conference on Neural Information Processing Systems.</i> https://www.cs.cmu.edu/~atalwalk/yggdrasil_nips_with_appendix.pdf  \n",
    "<br>\n",
    "Brownlee, J. (2020, August 21). <i>How to configure XGBoost for imbalanced classification.</i> Machine Learning Mastery. https://machinelearningmastery.com/xgboost-for-imbalanced-classification/  \n",
    "<br>\n",
    "Deltascience, H. (2019, August 7). <i>What is the proper usage of scale_pos_weight in xgboost for imbalanced datasets?</i> Cross Validated. https://stats.stackexchange.com/questions/243207/what-is-the-proper-usage-of-scale-pos-weight-in-xgboost-for-imbalanced-datasets  \n",
    "<br>\n",
    "Feature-engine developers. (2022). <i>SelectByShuffling</i>. Feature-engine API. https://feature-engine.readthedocs.io/en/latest/api_doc/selection/SelectByShuffling.html  \n",
    "<br>\n",
    "Google. (2022, October 5). <i>Yggdrasil Decision Forests.</i> GitHub. https://github.com/google/yggdrasil-decision-forests  \n",
    "<br>\n",
    "Klein, A. (2016, October 6). <i>What SMART stats tell us about hard drives.</i> Backblaze Blog.  https://www.backblaze.com/blog/what-smart-stats-indicate-hard-drive-failures/  \n",
    "<br>\n",
    "Mehta, H. (2017, July 13). <i>What is the proper usage of scale_pos_weight in xgboost for imbalanced datasets?</i> Cross Validated. https://stats.stackexchange.com/questions/243207/what-is-the-proper-usage-of-scale-pos-weight-in-xgboost-for-imbalanced-datasets  \n",
    "<br>\n",
    "S.M.A.R.T. (2022, September 9). In <i>Wikipedia</i>. https://en.wikipedia.org/w/index.php?title=S.M.A.R.T.&oldid=1109378579  \n",
    "<br>\n",
    "Scikit-learn Developers. (2022). <i>Feature importances with a forest of trees.</i> https://scikit-learn.org/stable/auto_examples/ensemble/plot_forest_importances.html  \n",
    "<br>\n",
    "Scikit-learn Developers. (2022). <i>Sklearn.feature_selection.SelectKBest.</i> https://scikit-learn.org/stable/modules/generated/sklearn.feature_selection.SelectKBest.html  \n",
    "<br>\n",
    "Scikit-optimize contributors. (2020). <i>BayesSearchCV.</i> Scikit-optimize. https://scikit-optimize.github.io/stable/modules/generated/skopt.BayesSearchCV.html  \n",
    "<br>\n",
    "User20160. (2017, March 29). <i>How to speed up hyperparameter optimization?</i> Cross Validated. https://stats.stackexchange.com/questions/270315/how-to-speed-up-hyperparameter-optimization  "
   ]
  }
 ],
 "metadata": {
  "kernelspec": {
   "display_name": "saturn (Python 3)",
   "language": "python",
   "name": "python3"
  },
  "language_info": {
   "codemirror_mode": {
    "name": "ipython",
    "version": 3
   },
   "file_extension": ".py",
   "mimetype": "text/x-python",
   "name": "python",
   "nbconvert_exporter": "python",
   "pygments_lexer": "ipython3",
   "version": "3.9.12"
  }
 },
 "nbformat": 4,
 "nbformat_minor": 5
}
